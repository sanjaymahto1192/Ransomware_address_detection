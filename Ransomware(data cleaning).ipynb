{
 "cells": [
  {
   "cell_type": "code",
   "execution_count": 80,
   "metadata": {},
   "outputs": [],
   "source": [
    "#impoting libraries\n",
    "import pandas as pd\n",
    "import matplotlib.pyplot as plt\n",
    "import random \n",
    "import missingno as msno"
   ]
  },
  {
   "cell_type": "code",
   "execution_count": 2,
   "metadata": {},
   "outputs": [],
   "source": [
    "# Imorting data and dividing two diffrent data\n",
    "df = pd.read_csv(\"BitcoinHeistData.csv\")\n",
    "\n",
    "whole_white_data = df[df['label']=='white']\n",
    "\n",
    "black_data = df[df['label']!='white']"
   ]
  },
  {
   "cell_type": "code",
   "execution_count": 27,
   "metadata": {},
   "outputs": [],
   "source": [
    "# Random selection and down sampling of the white data\n",
    "whole_white_data.count()\n",
    "white_data = []\n",
    "white_data = whole_white_data.iloc[random.sample(range(len(whole_white_data)), 1000000)]\n",
    "\n"
   ]
  },
  {
   "cell_type": "code",
   "execution_count": 20,
   "metadata": {},
   "outputs": [
    {
     "name": "stdout",
     "output_type": "stream",
     "text": [
      "                                    address  year  day  length    weight  \\\n",
      "1037324  1D9iYWCaPyhE9XB6VF2SCB3RtZCTc2PkJV  2013  276     114  0.250688   \n",
      "1764990  16MxX1CJWo2t4ikMsZmRfGoVyjTYHh8SwS  2015  274       0  0.500000   \n",
      "2667315  15dg32C3sqryeWTRpTX2HPmnZFJFEieoLf  2018   81       0  0.500000   \n",
      "2430044  3NfwxsBn91zZyZMYPFGzDx9EGXGUVZo59u  2017  209       0  1.000000   \n",
      "749585   1P5AEpS8rLSkYJni7a19brXTj4KYZpLmPQ  2012  353       2  0.250000   \n",
      "\n",
      "         count  looped  neighbors        income  label  \n",
      "1037324    486       0          2  1.092264e+09  white  \n",
      "1764990      1       0          1  1.259804e+09  white  \n",
      "2667315      1       0          1  5.000000e+07  white  \n",
      "2430044      1       0          1  1.469420e+08  white  \n",
      "749585       1       0          1  6.828524e+08  white  \n",
      "                              address  year  day  length    weight  count  \\\n",
      "0   111K8kZAEnJg245r2cM6y9zgJGHZtJPy6  2017   11      18  0.008333      1   \n",
      "1  1123pJv8jzeFQaCV4w644pzQJzVWay2zcA  2016  132      44  0.000244      1   \n",
      "2  112536im7hy6wtKbpH1qYDWtTyMRAcA2p7  2016  246       0  1.000000      1   \n",
      "3  1126eDRw2wqSkWosjTCre8cjjQW8sSeWH7  2016  322      72  0.003906      1   \n",
      "4  1129TSjKtx65E35GiUo4AYVeyo48twbrGX  2016  238     144  0.072848    456   \n",
      "\n",
      "   looped  neighbors       income  label  \n",
      "0       0          2  100050000.0  black  \n",
      "1       0          1  100000000.0  black  \n",
      "2       0          2  200000000.0  black  \n",
      "3       0          2   71200000.0  black  \n",
      "4       0          1  200000000.0  black  \n"
     ]
    }
   ],
   "source": [
    "#Previwing both data\n",
    "print(white_data.head())\n",
    "\n",
    "print(black_data.head())"
   ]
  },
  {
   "cell_type": "code",
   "execution_count": 55,
   "metadata": {},
   "outputs": [
    {
     "name": "stdout",
     "output_type": "stream",
     "text": [
      "[black, white]\n",
      "Categories (2, object): [black, white]\n"
     ]
    },
    {
     "name": "stderr",
     "output_type": "stream",
     "text": [
      "D:\\Anaconda\\lib\\site-packages\\ipykernel_launcher.py:2: SettingWithCopyWarning: \n",
      "A value is trying to be set on a copy of a slice from a DataFrame.\n",
      "Try using .loc[row_indexer,col_indexer] = value instead\n",
      "\n",
      "See the caveats in the documentation: http://pandas.pydata.org/pandas-docs/stable/indexing.html#indexing-view-versus-copy\n",
      "  \n"
     ]
    }
   ],
   "source": [
    "#Seprating black labels\n",
    "black_data['label']= 'black'\n",
    "\n",
    "print(df1.label.unique())"
   ]
  },
  {
   "cell_type": "code",
   "execution_count": 56,
   "metadata": {},
   "outputs": [
    {
     "data": {
      "text/html": [
       "<div>\n",
       "<style scoped>\n",
       "    .dataframe tbody tr th:only-of-type {\n",
       "        vertical-align: middle;\n",
       "    }\n",
       "\n",
       "    .dataframe tbody tr th {\n",
       "        vertical-align: top;\n",
       "    }\n",
       "\n",
       "    .dataframe thead th {\n",
       "        text-align: right;\n",
       "    }\n",
       "</style>\n",
       "<table border=\"1\" class=\"dataframe\">\n",
       "  <thead>\n",
       "    <tr style=\"text-align: right;\">\n",
       "      <th></th>\n",
       "      <th>year</th>\n",
       "      <th>day</th>\n",
       "      <th>length</th>\n",
       "      <th>weight</th>\n",
       "      <th>count</th>\n",
       "      <th>looped</th>\n",
       "      <th>neighbors</th>\n",
       "      <th>income</th>\n",
       "    </tr>\n",
       "  </thead>\n",
       "  <tbody>\n",
       "    <tr>\n",
       "      <th>count</th>\n",
       "      <td>1.041413e+06</td>\n",
       "      <td>1.041413e+06</td>\n",
       "      <td>1.041413e+06</td>\n",
       "      <td>1.041413e+06</td>\n",
       "      <td>1.041413e+06</td>\n",
       "      <td>1.041413e+06</td>\n",
       "      <td>1.041413e+06</td>\n",
       "      <td>1.041413e+06</td>\n",
       "    </tr>\n",
       "    <tr>\n",
       "      <th>mean</th>\n",
       "      <td>2.014486e+03</td>\n",
       "      <td>1.812350e+02</td>\n",
       "      <td>4.489337e+01</td>\n",
       "      <td>5.466130e-01</td>\n",
       "      <td>7.184786e+02</td>\n",
       "      <td>2.341157e+02</td>\n",
       "      <td>2.171063e+00</td>\n",
       "      <td>4.352056e+09</td>\n",
       "    </tr>\n",
       "    <tr>\n",
       "      <th>std</th>\n",
       "      <td>2.240652e+00</td>\n",
       "      <td>1.037594e+02</td>\n",
       "      <td>5.896089e+01</td>\n",
       "      <td>3.642947e+00</td>\n",
       "      <td>1.683484e+03</td>\n",
       "      <td>9.557013e+02</td>\n",
       "      <td>1.302179e+01</td>\n",
       "      <td>1.510002e+11</td>\n",
       "    </tr>\n",
       "    <tr>\n",
       "      <th>min</th>\n",
       "      <td>2.011000e+03</td>\n",
       "      <td>1.000000e+00</td>\n",
       "      <td>0.000000e+00</td>\n",
       "      <td>5.368269e-87</td>\n",
       "      <td>1.000000e+00</td>\n",
       "      <td>0.000000e+00</td>\n",
       "      <td>1.000000e+00</td>\n",
       "      <td>3.000000e+07</td>\n",
       "    </tr>\n",
       "    <tr>\n",
       "      <th>25%</th>\n",
       "      <td>2.013000e+03</td>\n",
       "      <td>9.100000e+01</td>\n",
       "      <td>2.000000e+00</td>\n",
       "      <td>2.259615e-02</td>\n",
       "      <td>1.000000e+00</td>\n",
       "      <td>0.000000e+00</td>\n",
       "      <td>1.000000e+00</td>\n",
       "      <td>7.461142e+07</td>\n",
       "    </tr>\n",
       "    <tr>\n",
       "      <th>50%</th>\n",
       "      <td>2.014000e+03</td>\n",
       "      <td>1.800000e+02</td>\n",
       "      <td>8.000000e+00</td>\n",
       "      <td>2.500000e-01</td>\n",
       "      <td>1.000000e+00</td>\n",
       "      <td>0.000000e+00</td>\n",
       "      <td>2.000000e+00</td>\n",
       "      <td>1.990000e+08</td>\n",
       "    </tr>\n",
       "    <tr>\n",
       "      <th>75%</th>\n",
       "      <td>2.016000e+03</td>\n",
       "      <td>2.710000e+02</td>\n",
       "      <td>1.080000e+02</td>\n",
       "      <td>9.074488e-01</td>\n",
       "      <td>5.500000e+01</td>\n",
       "      <td>0.000000e+00</td>\n",
       "      <td>2.000000e+00</td>\n",
       "      <td>9.607326e+08</td>\n",
       "    </tr>\n",
       "    <tr>\n",
       "      <th>max</th>\n",
       "      <td>2.018000e+03</td>\n",
       "      <td>3.650000e+02</td>\n",
       "      <td>1.440000e+02</td>\n",
       "      <td>1.804615e+03</td>\n",
       "      <td>1.449600e+04</td>\n",
       "      <td>1.449600e+04</td>\n",
       "      <td>3.541000e+03</td>\n",
       "      <td>4.982447e+13</td>\n",
       "    </tr>\n",
       "  </tbody>\n",
       "</table>\n",
       "</div>"
      ],
      "text/plain": [
       "               year           day        length        weight         count  \\\n",
       "count  1.041413e+06  1.041413e+06  1.041413e+06  1.041413e+06  1.041413e+06   \n",
       "mean   2.014486e+03  1.812350e+02  4.489337e+01  5.466130e-01  7.184786e+02   \n",
       "std    2.240652e+00  1.037594e+02  5.896089e+01  3.642947e+00  1.683484e+03   \n",
       "min    2.011000e+03  1.000000e+00  0.000000e+00  5.368269e-87  1.000000e+00   \n",
       "25%    2.013000e+03  9.100000e+01  2.000000e+00  2.259615e-02  1.000000e+00   \n",
       "50%    2.014000e+03  1.800000e+02  8.000000e+00  2.500000e-01  1.000000e+00   \n",
       "75%    2.016000e+03  2.710000e+02  1.080000e+02  9.074488e-01  5.500000e+01   \n",
       "max    2.018000e+03  3.650000e+02  1.440000e+02  1.804615e+03  1.449600e+04   \n",
       "\n",
       "             looped     neighbors        income  \n",
       "count  1.041413e+06  1.041413e+06  1.041413e+06  \n",
       "mean   2.341157e+02  2.171063e+00  4.352056e+09  \n",
       "std    9.557013e+02  1.302179e+01  1.510002e+11  \n",
       "min    0.000000e+00  1.000000e+00  3.000000e+07  \n",
       "25%    0.000000e+00  1.000000e+00  7.461142e+07  \n",
       "50%    0.000000e+00  2.000000e+00  1.990000e+08  \n",
       "75%    0.000000e+00  2.000000e+00  9.607326e+08  \n",
       "max    1.449600e+04  3.541000e+03  4.982447e+13  "
      ]
     },
     "execution_count": 56,
     "metadata": {},
     "output_type": "execute_result"
    }
   ],
   "source": [
    "#Appending black data to white data\n",
    "df1 = black_data.append(white_data)\n",
    "\n",
    "df1.describe()"
   ]
  },
  {
   "cell_type": "code",
   "execution_count": 57,
   "metadata": {},
   "outputs": [
    {
     "name": "stdout",
     "output_type": "stream",
     "text": [
      "<class 'pandas.core.frame.DataFrame'>\n",
      "Int64Index: 1041413 entries, 0 to 909638\n",
      "Data columns (total 10 columns):\n",
      "address      1041413 non-null object\n",
      "year         1041413 non-null int64\n",
      "day          1041413 non-null int64\n",
      "length       1041413 non-null int64\n",
      "weight       1041413 non-null float64\n",
      "count        1041413 non-null int64\n",
      "looped       1041413 non-null int64\n",
      "neighbors    1041413 non-null int64\n",
      "income       1041413 non-null float64\n",
      "label        1041413 non-null object\n",
      "dtypes: float64(2), int64(6), object(2)\n",
      "memory usage: 87.4+ MB\n"
     ]
    }
   ],
   "source": [
    "#viwing data type of columns\n",
    "df1.info()"
   ]
  },
  {
   "cell_type": "code",
   "execution_count": 59,
   "metadata": {},
   "outputs": [
    {
     "name": "stdout",
     "output_type": "stream",
     "text": [
      "<class 'pandas.core.frame.DataFrame'>\n",
      "Int64Index: 1041413 entries, 0 to 909638\n",
      "Data columns (total 10 columns):\n",
      "address      1041413 non-null object\n",
      "year         1041413 non-null category\n",
      "day          1041413 non-null category\n",
      "length       1041413 non-null int64\n",
      "weight       1041413 non-null float64\n",
      "count        1041413 non-null int64\n",
      "looped       1041413 non-null int64\n",
      "neighbors    1041413 non-null int64\n",
      "income       1041413 non-null float64\n",
      "label        1041413 non-null category\n",
      "dtypes: category(3), float64(2), int64(4), object(1)\n",
      "memory usage: 67.5+ MB\n"
     ]
    }
   ],
   "source": [
    "#Changinging data type 'year','day'and 'label' to category\n",
    "df1['year'] = df1['year'].astype('category')\n",
    "df1['day'] = df1['day'].astype('category')\n",
    "df1['label'] = df1['label'].astype('category')\n",
    "df1.info()"
   ]
  },
  {
   "cell_type": "code",
   "execution_count": 64,
   "metadata": {},
   "outputs": [
    {
     "data": {
      "text/plain": [
       "[2017, 2016, 2013, 2014, 2015, 2012, 2011, 2018]\n",
       "Categories (8, int64): [2017, 2016, 2013, 2014, 2015, 2012, 2011, 2018]"
      ]
     },
     "execution_count": 64,
     "metadata": {},
     "output_type": "execute_result"
    }
   ],
   "source": [
    "#verifing unique years\n",
    "df1['year'].unique()"
   ]
  },
  {
   "cell_type": "code",
   "execution_count": 66,
   "metadata": {},
   "outputs": [
    {
     "data": {
      "text/plain": [
       "[11, 132, 246, 322, 238, ..., 129, 42, 15, 16, 365]\n",
       "Length: 365\n",
       "Categories (365, int64): [11, 132, 246, 322, ..., 42, 15, 16, 365]"
      ]
     },
     "execution_count": 66,
     "metadata": {},
     "output_type": "execute_result"
    }
   ],
   "source": [
    "#verifing uniqe days\n",
    "df1['day'].unique()"
   ]
  },
  {
   "cell_type": "code",
   "execution_count": 68,
   "metadata": {},
   "outputs": [
    {
     "data": {
      "text/html": [
       "<div>\n",
       "<style scoped>\n",
       "    .dataframe tbody tr th:only-of-type {\n",
       "        vertical-align: middle;\n",
       "    }\n",
       "\n",
       "    .dataframe tbody tr th {\n",
       "        vertical-align: top;\n",
       "    }\n",
       "\n",
       "    .dataframe thead th {\n",
       "        text-align: right;\n",
       "    }\n",
       "</style>\n",
       "<table border=\"1\" class=\"dataframe\">\n",
       "  <thead>\n",
       "    <tr style=\"text-align: right;\">\n",
       "      <th></th>\n",
       "      <th>address</th>\n",
       "      <th>year</th>\n",
       "      <th>day</th>\n",
       "      <th>length</th>\n",
       "      <th>weight</th>\n",
       "      <th>count</th>\n",
       "      <th>looped</th>\n",
       "      <th>neighbors</th>\n",
       "      <th>income</th>\n",
       "      <th>label</th>\n",
       "    </tr>\n",
       "  </thead>\n",
       "  <tbody>\n",
       "  </tbody>\n",
       "</table>\n",
       "</div>"
      ],
      "text/plain": [
       "Empty DataFrame\n",
       "Columns: [address, year, day, length, weight, count, looped, neighbors, income, label]\n",
       "Index: []"
      ]
     },
     "execution_count": 68,
     "metadata": {},
     "output_type": "execute_result"
    }
   ],
   "source": [
    "#Checking for duplicates\n",
    "duplicates = df1.duplicated()\n",
    "\n",
    "df1[duplicates]\n"
   ]
  },
  {
   "cell_type": "code",
   "execution_count": 72,
   "metadata": {},
   "outputs": [
    {
     "data": {
      "text/html": [
       "<div>\n",
       "<style scoped>\n",
       "    .dataframe tbody tr th:only-of-type {\n",
       "        vertical-align: middle;\n",
       "    }\n",
       "\n",
       "    .dataframe tbody tr th {\n",
       "        vertical-align: top;\n",
       "    }\n",
       "\n",
       "    .dataframe thead th {\n",
       "        text-align: right;\n",
       "    }\n",
       "</style>\n",
       "<table border=\"1\" class=\"dataframe\">\n",
       "  <thead>\n",
       "    <tr style=\"text-align: right;\">\n",
       "      <th></th>\n",
       "      <th>address</th>\n",
       "      <th>day</th>\n",
       "      <th>length</th>\n",
       "      <th>weight</th>\n",
       "      <th>count</th>\n",
       "      <th>looped</th>\n",
       "      <th>neighbors</th>\n",
       "      <th>income</th>\n",
       "      <th>label</th>\n",
       "    </tr>\n",
       "    <tr>\n",
       "      <th>year</th>\n",
       "      <th></th>\n",
       "      <th></th>\n",
       "      <th></th>\n",
       "      <th></th>\n",
       "      <th></th>\n",
       "      <th></th>\n",
       "      <th></th>\n",
       "      <th></th>\n",
       "      <th></th>\n",
       "    </tr>\n",
       "  </thead>\n",
       "  <tbody>\n",
       "    <tr>\n",
       "      <th>2011</th>\n",
       "      <td>123743</td>\n",
       "      <td>123743</td>\n",
       "      <td>123743</td>\n",
       "      <td>123743</td>\n",
       "      <td>123743</td>\n",
       "      <td>123743</td>\n",
       "      <td>123743</td>\n",
       "      <td>123743</td>\n",
       "      <td>123743</td>\n",
       "    </tr>\n",
       "    <tr>\n",
       "      <th>2012</th>\n",
       "      <td>127458</td>\n",
       "      <td>127458</td>\n",
       "      <td>127458</td>\n",
       "      <td>127458</td>\n",
       "      <td>127458</td>\n",
       "      <td>127458</td>\n",
       "      <td>127458</td>\n",
       "      <td>127458</td>\n",
       "      <td>127458</td>\n",
       "    </tr>\n",
       "    <tr>\n",
       "      <th>2013</th>\n",
       "      <td>134642</td>\n",
       "      <td>134642</td>\n",
       "      <td>134642</td>\n",
       "      <td>134642</td>\n",
       "      <td>134642</td>\n",
       "      <td>134642</td>\n",
       "      <td>134642</td>\n",
       "      <td>134642</td>\n",
       "      <td>134642</td>\n",
       "    </tr>\n",
       "    <tr>\n",
       "      <th>2014</th>\n",
       "      <td>137084</td>\n",
       "      <td>137084</td>\n",
       "      <td>137084</td>\n",
       "      <td>137084</td>\n",
       "      <td>137084</td>\n",
       "      <td>137084</td>\n",
       "      <td>137084</td>\n",
       "      <td>137084</td>\n",
       "      <td>137084</td>\n",
       "    </tr>\n",
       "    <tr>\n",
       "      <th>2015</th>\n",
       "      <td>130299</td>\n",
       "      <td>130299</td>\n",
       "      <td>130299</td>\n",
       "      <td>130299</td>\n",
       "      <td>130299</td>\n",
       "      <td>130299</td>\n",
       "      <td>130299</td>\n",
       "      <td>130299</td>\n",
       "      <td>130299</td>\n",
       "    </tr>\n",
       "    <tr>\n",
       "      <th>2016</th>\n",
       "      <td>142458</td>\n",
       "      <td>142458</td>\n",
       "      <td>142458</td>\n",
       "      <td>142458</td>\n",
       "      <td>142458</td>\n",
       "      <td>142458</td>\n",
       "      <td>142458</td>\n",
       "      <td>142458</td>\n",
       "      <td>142458</td>\n",
       "    </tr>\n",
       "    <tr>\n",
       "      <th>2017</th>\n",
       "      <td>130724</td>\n",
       "      <td>130724</td>\n",
       "      <td>130724</td>\n",
       "      <td>130724</td>\n",
       "      <td>130724</td>\n",
       "      <td>130724</td>\n",
       "      <td>130724</td>\n",
       "      <td>130724</td>\n",
       "      <td>130724</td>\n",
       "    </tr>\n",
       "    <tr>\n",
       "      <th>2018</th>\n",
       "      <td>115005</td>\n",
       "      <td>115005</td>\n",
       "      <td>115005</td>\n",
       "      <td>115005</td>\n",
       "      <td>115005</td>\n",
       "      <td>115005</td>\n",
       "      <td>115005</td>\n",
       "      <td>115005</td>\n",
       "      <td>115005</td>\n",
       "    </tr>\n",
       "  </tbody>\n",
       "</table>\n",
       "</div>"
      ],
      "text/plain": [
       "      address     day  length  weight   count  looped  neighbors  income  \\\n",
       "year                                                                       \n",
       "2011   123743  123743  123743  123743  123743  123743     123743  123743   \n",
       "2012   127458  127458  127458  127458  127458  127458     127458  127458   \n",
       "2013   134642  134642  134642  134642  134642  134642     134642  134642   \n",
       "2014   137084  137084  137084  137084  137084  137084     137084  137084   \n",
       "2015   130299  130299  130299  130299  130299  130299     130299  130299   \n",
       "2016   142458  142458  142458  142458  142458  142458     142458  142458   \n",
       "2017   130724  130724  130724  130724  130724  130724     130724  130724   \n",
       "2018   115005  115005  115005  115005  115005  115005     115005  115005   \n",
       "\n",
       "       label  \n",
       "year          \n",
       "2011  123743  \n",
       "2012  127458  \n",
       "2013  134642  \n",
       "2014  137084  \n",
       "2015  130299  \n",
       "2016  142458  \n",
       "2017  130724  \n",
       "2018  115005  "
      ]
     },
     "execution_count": 72,
     "metadata": {},
     "output_type": "execute_result"
    }
   ],
   "source": [
    "#Checking yearly distribution of the data \n",
    "df1.groupby('year').count()"
   ]
  },
  {
   "cell_type": "code",
   "execution_count": 75,
   "metadata": {},
   "outputs": [
    {
     "data": {
      "image/png": "[encoded data removed]",
      "text/plain": [
       "<Figure size 432x288 with 1 Axes>"
      ]
     },
     "metadata": {
      "needs_background": "light"
     },
     "output_type": "display_data"
    }
   ],
   "source": [
    "#Visulaising length vs income of data\n",
    "\n",
    "plt.scatter(x='length' , y = 'income' , data = df1)\n",
    "plt.show()"
   ]
  },
  {
   "cell_type": "code",
   "execution_count": 81,
   "metadata": {},
   "outputs": [
    {
     "data": {
      "image/png": "[encoded data removed]",
      "text/plain": [
       "<Figure size 1800x720 with 2 Axes>"
      ]
     },
     "metadata": {
      "needs_background": "light"
     },
     "output_type": "display_data"
    }
   ],
   "source": [
    "#verifing missing number\n",
    "msno.matrix(df1)\n",
    "plt.show()"
   ]
  }
 ],
 "metadata": {
  "kernelspec": {
   "display_name": "Python 3",
   "language": "python",
   "name": "python3"
  },
  "language_info": {
   "codemirror_mode": {
    "name": "ipython",
    "version": 3
   },
   "file_extension": ".py",
   "mimetype": "text/x-python",
   "name": "python",
   "nbconvert_exporter": "python",
   "pygments_lexer": "ipython3",
   "version": "3.7.1"
  }
 },
 "nbformat": 4,
 "nbformat_minor": 2
}
