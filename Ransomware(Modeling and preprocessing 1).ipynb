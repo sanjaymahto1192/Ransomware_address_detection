{
 "cells": [
  {
   "cell_type": "markdown",
   "metadata": {},
   "source": [
    "<h1> Importing Libraries<\\h1>"
   ]
  },
  {
   "cell_type": "code",
   "execution_count": 1,
   "metadata": {},
   "outputs": [],
   "source": [
    "#impoting libraries\n",
    "import pandas as pd\n",
    "import matplotlib.pyplot as plt\n",
    "import random \n",
    "import missingno as msno\n",
    "import numpy as np"
   ]
  },
  {
   "cell_type": "markdown",
   "metadata": {},
   "source": [
    "<h1> Reading data<\\h1>"
   ]
  },
  {
   "cell_type": "markdown",
   "metadata": {},
   "source": [
    "<h4> data link :https://archive.ics.uci.edu/ml/datasets/BitcoinHeistRansomwareAddressDataset</h4>"
   ]
  },
  {
   "cell_type": "code",
   "execution_count": 2,
   "metadata": {},
   "outputs": [],
   "source": [
    "# Imorting data and dividing two diffrent data\n",
    "df = pd.read_csv(\"BitcoinHeistData.csv\")\n",
    "\n",
    "whole_white_data = df[df['label']=='white']\n",
    "\n",
    "black_data = df[df['label']!='white']"
   ]
  },
  {
   "cell_type": "markdown",
   "metadata": {},
   "source": [
    "<h1> Sampling white data<\\h1>"
   ]
  },
  {
   "cell_type": "code",
   "execution_count": 3,
   "metadata": {},
   "outputs": [],
   "source": [
    "# Random selection and down sampling of the white data\n",
    "whole_white_data.count()\n",
    "white_data = []\n",
    "white_data = whole_white_data.iloc[random.sample(range(len(whole_white_data)), 100000)]\n",
    "\n"
   ]
  },
  {
   "cell_type": "markdown",
   "metadata": {},
   "source": [
    "<h1> Viewing Data<\\h1>"
   ]
  },
  {
   "cell_type": "code",
   "execution_count": 4,
   "metadata": {},
   "outputs": [
    {
     "name": "stdout",
     "output_type": "stream",
     "text": [
      "                                    address  year  day  length    weight  \\\n",
      "2798736  3HQKoV17yCm2NA9mNj2k3MwMnY5ipSkGX7  2018  213       0  0.035714   \n",
      "1376313  19Aq5bpQHkz9MyDHCN5mH5eWGHrBroZWzz  2014  250     144  0.260498   \n",
      "67774    1JaPkMuN6uVG7o5GM7SFet4MTYwFYcAgdj  2011   36       4  0.250000   \n",
      "1246666  1DL3UTKLaxwPMeuTMp3MffV4wnomiyvymC  2014  120      68  0.171529   \n",
      "1854333  146A9uHCbV3hDbKGyizfXtR6aHwbWi4vLn  2015  363     144  0.000005   \n",
      "\n",
      "         count  looped  neighbors        income  label  \n",
      "2798736      1       0          2  3.000000e+07  white  \n",
      "1376313   1203       0          2  6.387083e+07  white  \n",
      "67774        1       0          2  4.348000e+09  white  \n",
      "1246666     27       0          2  4.702837e+08  white  \n",
      "1854333   3432    2314          2  2.574601e+08  white  \n",
      "                              address  year  day  length    weight  count  \\\n",
      "0   111K8kZAEnJg245r2cM6y9zgJGHZtJPy6  2017   11      18  0.008333      1   \n",
      "1  1123pJv8jzeFQaCV4w644pzQJzVWay2zcA  2016  132      44  0.000244      1   \n",
      "2  112536im7hy6wtKbpH1qYDWtTyMRAcA2p7  2016  246       0  1.000000      1   \n",
      "3  1126eDRw2wqSkWosjTCre8cjjQW8sSeWH7  2016  322      72  0.003906      1   \n",
      "4  1129TSjKtx65E35GiUo4AYVeyo48twbrGX  2016  238     144  0.072848    456   \n",
      "\n",
      "   looped  neighbors       income            label  \n",
      "0       0          2  100050000.0  princetonCerber  \n",
      "1       0          1  100000000.0   princetonLocky  \n",
      "2       0          2  200000000.0  princetonCerber  \n",
      "3       0          2   71200000.0  princetonCerber  \n",
      "4       0          1  200000000.0   princetonLocky  \n"
     ]
    }
   ],
   "source": [
    "#Previwing both data\n",
    "print(white_data.head())\n",
    "\n",
    "print(black_data.head())"
   ]
  },
  {
   "cell_type": "code",
   "execution_count": 5,
   "metadata": {},
   "outputs": [
    {
     "name": "stderr",
     "output_type": "stream",
     "text": [
      "<ipython-input-5-0b38573e7c78>:2: SettingWithCopyWarning: \n",
      "A value is trying to be set on a copy of a slice from a DataFrame.\n",
      "Try using .loc[row_indexer,col_indexer] = value instead\n",
      "\n",
      "See the caveats in the documentation: https://pandas.pydata.org/pandas-docs/stable/user_guide/indexing.html#returning-a-view-versus-a-copy\n",
      "  black_data['label']= 'black'\n"
     ]
    }
   ],
   "source": [
    "#Overridding  black labels\n",
    "black_data['label']= 'black'\n",
    "\n",
    "#print(df1.label.unique())"
   ]
  },
  {
   "cell_type": "markdown",
   "metadata": {},
   "source": [
    "<h1> Joining data<\\h1>"
   ]
  },
  {
   "cell_type": "code",
   "execution_count": 6,
   "metadata": {},
   "outputs": [
    {
     "data": {
      "text/html": [
       "<div>\n",
       "<style scoped>\n",
       "    .dataframe tbody tr th:only-of-type {\n",
       "        vertical-align: middle;\n",
       "    }\n",
       "\n",
       "    .dataframe tbody tr th {\n",
       "        vertical-align: top;\n",
       "    }\n",
       "\n",
       "    .dataframe thead th {\n",
       "        text-align: right;\n",
       "    }\n",
       "</style>\n",
       "<table border=\"1\" class=\"dataframe\">\n",
       "  <thead>\n",
       "    <tr style=\"text-align: right;\">\n",
       "      <th></th>\n",
       "      <th>year</th>\n",
       "      <th>day</th>\n",
       "      <th>length</th>\n",
       "      <th>weight</th>\n",
       "      <th>count</th>\n",
       "      <th>looped</th>\n",
       "      <th>neighbors</th>\n",
       "      <th>income</th>\n",
       "    </tr>\n",
       "  </thead>\n",
       "  <tbody>\n",
       "    <tr>\n",
       "      <th>count</th>\n",
       "      <td>141413.000000</td>\n",
       "      <td>141413.000000</td>\n",
       "      <td>141413.000000</td>\n",
       "      <td>1.414130e+05</td>\n",
       "      <td>141413.000000</td>\n",
       "      <td>141413.000000</td>\n",
       "      <td>141413.000000</td>\n",
       "      <td>1.414130e+05</td>\n",
       "    </tr>\n",
       "    <tr>\n",
       "      <th>mean</th>\n",
       "      <td>2014.583002</td>\n",
       "      <td>179.132654</td>\n",
       "      <td>43.975731</td>\n",
       "      <td>5.658909e-01</td>\n",
       "      <td>683.571730</td>\n",
       "      <td>197.808313</td>\n",
       "      <td>2.174574</td>\n",
       "      <td>3.473941e+09</td>\n",
       "    </tr>\n",
       "    <tr>\n",
       "      <th>std</th>\n",
       "      <td>2.053459</td>\n",
       "      <td>101.417351</td>\n",
       "      <td>58.827358</td>\n",
       "      <td>3.479808e+00</td>\n",
       "      <td>1612.313879</td>\n",
       "      <td>864.411314</td>\n",
       "      <td>14.534126</td>\n",
       "      <td>1.855256e+11</td>\n",
       "    </tr>\n",
       "    <tr>\n",
       "      <th>min</th>\n",
       "      <td>2011.000000</td>\n",
       "      <td>1.000000</td>\n",
       "      <td>0.000000</td>\n",
       "      <td>1.825881e-87</td>\n",
       "      <td>1.000000</td>\n",
       "      <td>0.000000</td>\n",
       "      <td>1.000000</td>\n",
       "      <td>3.000000e+07</td>\n",
       "    </tr>\n",
       "    <tr>\n",
       "      <th>25%</th>\n",
       "      <td>2013.000000</td>\n",
       "      <td>91.000000</td>\n",
       "      <td>2.000000</td>\n",
       "      <td>3.125000e-02</td>\n",
       "      <td>1.000000</td>\n",
       "      <td>0.000000</td>\n",
       "      <td>1.000000</td>\n",
       "      <td>7.751150e+07</td>\n",
       "    </tr>\n",
       "    <tr>\n",
       "      <th>50%</th>\n",
       "      <td>2015.000000</td>\n",
       "      <td>173.000000</td>\n",
       "      <td>8.000000</td>\n",
       "      <td>2.613636e-01</td>\n",
       "      <td>1.000000</td>\n",
       "      <td>0.000000</td>\n",
       "      <td>2.000000</td>\n",
       "      <td>1.752837e+08</td>\n",
       "    </tr>\n",
       "    <tr>\n",
       "      <th>75%</th>\n",
       "      <td>2016.000000</td>\n",
       "      <td>268.000000</td>\n",
       "      <td>100.000000</td>\n",
       "      <td>1.000000e+00</td>\n",
       "      <td>48.000000</td>\n",
       "      <td>0.000000</td>\n",
       "      <td>2.000000</td>\n",
       "      <td>6.585439e+08</td>\n",
       "    </tr>\n",
       "    <tr>\n",
       "      <th>max</th>\n",
       "      <td>2018.000000</td>\n",
       "      <td>365.000000</td>\n",
       "      <td>144.000000</td>\n",
       "      <td>9.386935e+02</td>\n",
       "      <td>14496.000000</td>\n",
       "      <td>14494.000000</td>\n",
       "      <td>3776.000000</td>\n",
       "      <td>4.996440e+13</td>\n",
       "    </tr>\n",
       "  </tbody>\n",
       "</table>\n",
       "</div>"
      ],
      "text/plain": [
       "                year            day         length        weight  \\\n",
       "count  141413.000000  141413.000000  141413.000000  1.414130e+05   \n",
       "mean     2014.583002     179.132654      43.975731  5.658909e-01   \n",
       "std         2.053459     101.417351      58.827358  3.479808e+00   \n",
       "min      2011.000000       1.000000       0.000000  1.825881e-87   \n",
       "25%      2013.000000      91.000000       2.000000  3.125000e-02   \n",
       "50%      2015.000000     173.000000       8.000000  2.613636e-01   \n",
       "75%      2016.000000     268.000000     100.000000  1.000000e+00   \n",
       "max      2018.000000     365.000000     144.000000  9.386935e+02   \n",
       "\n",
       "               count         looped      neighbors        income  \n",
       "count  141413.000000  141413.000000  141413.000000  1.414130e+05  \n",
       "mean      683.571730     197.808313       2.174574  3.473941e+09  \n",
       "std      1612.313879     864.411314      14.534126  1.855256e+11  \n",
       "min         1.000000       0.000000       1.000000  3.000000e+07  \n",
       "25%         1.000000       0.000000       1.000000  7.751150e+07  \n",
       "50%         1.000000       0.000000       2.000000  1.752837e+08  \n",
       "75%        48.000000       0.000000       2.000000  6.585439e+08  \n",
       "max     14496.000000   14494.000000    3776.000000  4.996440e+13  "
      ]
     },
     "execution_count": 6,
     "metadata": {},
     "output_type": "execute_result"
    }
   ],
   "source": [
    "#Appending black data to white data\n",
    "df1 = black_data.append(white_data)\n",
    "\n",
    "#df1.to_csv('data.csv',index=False)\n",
    "df1.describe()"
   ]
  },
  {
   "cell_type": "code",
   "execution_count": 7,
   "metadata": {},
   "outputs": [
    {
     "name": "stdout",
     "output_type": "stream",
     "text": [
      "<class 'pandas.core.frame.DataFrame'>\n",
      "Int64Index: 141413 entries, 0 to 2323949\n",
      "Data columns (total 10 columns):\n",
      " #   Column     Non-Null Count   Dtype  \n",
      "---  ------     --------------   -----  \n",
      " 0   address    141413 non-null  object \n",
      " 1   year       141413 non-null  int64  \n",
      " 2   day        141413 non-null  int64  \n",
      " 3   length     141413 non-null  int64  \n",
      " 4   weight     141413 non-null  float64\n",
      " 5   count      141413 non-null  int64  \n",
      " 6   looped     141413 non-null  int64  \n",
      " 7   neighbors  141413 non-null  int64  \n",
      " 8   income     141413 non-null  float64\n",
      " 9   label      141413 non-null  object \n",
      "dtypes: float64(2), int64(6), object(2)\n",
      "memory usage: 11.9+ MB\n"
     ]
    }
   ],
   "source": [
    "#viwing data type of columns\n",
    "df1.info()"
   ]
  },
  {
   "cell_type": "markdown",
   "metadata": {},
   "source": [
    "<h1> Modification of data type<\\h1>"
   ]
  },
  {
   "cell_type": "code",
   "execution_count": 8,
   "metadata": {},
   "outputs": [
    {
     "name": "stdout",
     "output_type": "stream",
     "text": [
      "<class 'pandas.core.frame.DataFrame'>\n",
      "Int64Index: 141413 entries, 0 to 2323949\n",
      "Data columns (total 10 columns):\n",
      " #   Column     Non-Null Count   Dtype   \n",
      "---  ------     --------------   -----   \n",
      " 0   address    141413 non-null  category\n",
      " 1   year       141413 non-null  category\n",
      " 2   day        141413 non-null  category\n",
      " 3   length     141413 non-null  int64   \n",
      " 4   weight     141413 non-null  float64 \n",
      " 5   count      141413 non-null  int64   \n",
      " 6   looped     141413 non-null  int64   \n",
      " 7   neighbors  141413 non-null  int64   \n",
      " 8   income     141413 non-null  float64 \n",
      " 9   label      141413 non-null  category\n",
      "dtypes: category(4), float64(2), int64(4)\n",
      "memory usage: 14.6 MB\n"
     ]
    }
   ],
   "source": [
    "#Changinging data type 'year','day'and 'label' to category\n",
    "df1['year'] = df1['year'].astype('category')\n",
    "df1['day'] = df1['day'].astype('category')\n",
    "df1['label'] = df1['label'].astype('category')\n",
    "df1['address'] = df1['address'].astype('category')\n",
    "df1.info()"
   ]
  },
  {
   "cell_type": "markdown",
   "metadata": {},
   "source": [
    "<h1> Analysis (EDA) <\\h1>"
   ]
  },
  {
   "cell_type": "code",
   "execution_count": 9,
   "metadata": {},
   "outputs": [
    {
     "data": {
      "text/plain": [
       "[2017, 2016, 2013, 2014, 2015, 2012, 2011, 2018]\n",
       "Categories (8, int64): [2017, 2016, 2013, 2014, 2015, 2012, 2011, 2018]"
      ]
     },
     "execution_count": 9,
     "metadata": {},
     "output_type": "execute_result"
    }
   ],
   "source": [
    "#verifing unique years\n",
    "df1['year'].unique()"
   ]
  },
  {
   "cell_type": "code",
   "execution_count": 10,
   "metadata": {},
   "outputs": [
    {
     "data": {
      "text/plain": [
       "[11, 132, 246, 322, 238, ..., 129, 42, 15, 16, 365]\n",
       "Length: 365\n",
       "Categories (365, int64): [11, 132, 246, 322, ..., 42, 15, 16, 365]"
      ]
     },
     "execution_count": 10,
     "metadata": {},
     "output_type": "execute_result"
    }
   ],
   "source": [
    "#verifing uniqe days\n",
    "df1['day'].unique()"
   ]
  },
  {
   "cell_type": "code",
   "execution_count": 11,
   "metadata": {},
   "outputs": [
    {
     "data": {
      "text/html": [
       "<div>\n",
       "<style scoped>\n",
       "    .dataframe tbody tr th:only-of-type {\n",
       "        vertical-align: middle;\n",
       "    }\n",
       "\n",
       "    .dataframe tbody tr th {\n",
       "        vertical-align: top;\n",
       "    }\n",
       "\n",
       "    .dataframe thead th {\n",
       "        text-align: right;\n",
       "    }\n",
       "</style>\n",
       "<table border=\"1\" class=\"dataframe\">\n",
       "  <thead>\n",
       "    <tr style=\"text-align: right;\">\n",
       "      <th></th>\n",
       "      <th>address</th>\n",
       "      <th>year</th>\n",
       "      <th>day</th>\n",
       "      <th>length</th>\n",
       "      <th>weight</th>\n",
       "      <th>count</th>\n",
       "      <th>looped</th>\n",
       "      <th>neighbors</th>\n",
       "      <th>income</th>\n",
       "      <th>label</th>\n",
       "    </tr>\n",
       "  </thead>\n",
       "  <tbody>\n",
       "  </tbody>\n",
       "</table>\n",
       "</div>"
      ],
      "text/plain": [
       "Empty DataFrame\n",
       "Columns: [address, year, day, length, weight, count, looped, neighbors, income, label]\n",
       "Index: []"
      ]
     },
     "execution_count": 11,
     "metadata": {},
     "output_type": "execute_result"
    }
   ],
   "source": [
    "#Checking for duplicates\n",
    "duplicates = df1.duplicated()\n",
    "\n",
    "df1[duplicates]\n"
   ]
  },
  {
   "cell_type": "code",
   "execution_count": 12,
   "metadata": {},
   "outputs": [
    {
     "data": {
      "text/html": [
       "<div>\n",
       "<style scoped>\n",
       "    .dataframe tbody tr th:only-of-type {\n",
       "        vertical-align: middle;\n",
       "    }\n",
       "\n",
       "    .dataframe tbody tr th {\n",
       "        vertical-align: top;\n",
       "    }\n",
       "\n",
       "    .dataframe thead th {\n",
       "        text-align: right;\n",
       "    }\n",
       "</style>\n",
       "<table border=\"1\" class=\"dataframe\">\n",
       "  <thead>\n",
       "    <tr style=\"text-align: right;\">\n",
       "      <th></th>\n",
       "      <th>address</th>\n",
       "      <th>day</th>\n",
       "      <th>length</th>\n",
       "      <th>weight</th>\n",
       "      <th>count</th>\n",
       "      <th>looped</th>\n",
       "      <th>neighbors</th>\n",
       "      <th>income</th>\n",
       "      <th>label</th>\n",
       "    </tr>\n",
       "    <tr>\n",
       "      <th>year</th>\n",
       "      <th></th>\n",
       "      <th></th>\n",
       "      <th></th>\n",
       "      <th></th>\n",
       "      <th></th>\n",
       "      <th></th>\n",
       "      <th></th>\n",
       "      <th></th>\n",
       "      <th></th>\n",
       "    </tr>\n",
       "  </thead>\n",
       "  <tbody>\n",
       "    <tr>\n",
       "      <th>2011</th>\n",
       "      <td>12451</td>\n",
       "      <td>12451</td>\n",
       "      <td>12451</td>\n",
       "      <td>12451</td>\n",
       "      <td>12451</td>\n",
       "      <td>12451</td>\n",
       "      <td>12451</td>\n",
       "      <td>12451</td>\n",
       "      <td>12451</td>\n",
       "    </tr>\n",
       "    <tr>\n",
       "      <th>2012</th>\n",
       "      <td>13475</td>\n",
       "      <td>13475</td>\n",
       "      <td>13475</td>\n",
       "      <td>13475</td>\n",
       "      <td>13475</td>\n",
       "      <td>13475</td>\n",
       "      <td>13475</td>\n",
       "      <td>13475</td>\n",
       "      <td>13475</td>\n",
       "    </tr>\n",
       "    <tr>\n",
       "      <th>2013</th>\n",
       "      <td>20280</td>\n",
       "      <td>20280</td>\n",
       "      <td>20280</td>\n",
       "      <td>20280</td>\n",
       "      <td>20280</td>\n",
       "      <td>20280</td>\n",
       "      <td>20280</td>\n",
       "      <td>20280</td>\n",
       "      <td>20280</td>\n",
       "    </tr>\n",
       "    <tr>\n",
       "      <th>2014</th>\n",
       "      <td>23037</td>\n",
       "      <td>23037</td>\n",
       "      <td>23037</td>\n",
       "      <td>23037</td>\n",
       "      <td>23037</td>\n",
       "      <td>23037</td>\n",
       "      <td>23037</td>\n",
       "      <td>23037</td>\n",
       "      <td>23037</td>\n",
       "    </tr>\n",
       "    <tr>\n",
       "      <th>2015</th>\n",
       "      <td>16447</td>\n",
       "      <td>16447</td>\n",
       "      <td>16447</td>\n",
       "      <td>16447</td>\n",
       "      <td>16447</td>\n",
       "      <td>16447</td>\n",
       "      <td>16447</td>\n",
       "      <td>16447</td>\n",
       "      <td>16447</td>\n",
       "    </tr>\n",
       "    <tr>\n",
       "      <th>2016</th>\n",
       "      <td>28143</td>\n",
       "      <td>28143</td>\n",
       "      <td>28143</td>\n",
       "      <td>28143</td>\n",
       "      <td>28143</td>\n",
       "      <td>28143</td>\n",
       "      <td>28143</td>\n",
       "      <td>28143</td>\n",
       "      <td>28143</td>\n",
       "    </tr>\n",
       "    <tr>\n",
       "      <th>2017</th>\n",
       "      <td>16026</td>\n",
       "      <td>16026</td>\n",
       "      <td>16026</td>\n",
       "      <td>16026</td>\n",
       "      <td>16026</td>\n",
       "      <td>16026</td>\n",
       "      <td>16026</td>\n",
       "      <td>16026</td>\n",
       "      <td>16026</td>\n",
       "    </tr>\n",
       "    <tr>\n",
       "      <th>2018</th>\n",
       "      <td>11554</td>\n",
       "      <td>11554</td>\n",
       "      <td>11554</td>\n",
       "      <td>11554</td>\n",
       "      <td>11554</td>\n",
       "      <td>11554</td>\n",
       "      <td>11554</td>\n",
       "      <td>11554</td>\n",
       "      <td>11554</td>\n",
       "    </tr>\n",
       "  </tbody>\n",
       "</table>\n",
       "</div>"
      ],
      "text/plain": [
       "      address    day  length  weight  count  looped  neighbors  income  label\n",
       "year                                                                         \n",
       "2011    12451  12451   12451   12451  12451   12451      12451   12451  12451\n",
       "2012    13475  13475   13475   13475  13475   13475      13475   13475  13475\n",
       "2013    20280  20280   20280   20280  20280   20280      20280   20280  20280\n",
       "2014    23037  23037   23037   23037  23037   23037      23037   23037  23037\n",
       "2015    16447  16447   16447   16447  16447   16447      16447   16447  16447\n",
       "2016    28143  28143   28143   28143  28143   28143      28143   28143  28143\n",
       "2017    16026  16026   16026   16026  16026   16026      16026   16026  16026\n",
       "2018    11554  11554   11554   11554  11554   11554      11554   11554  11554"
      ]
     },
     "execution_count": 12,
     "metadata": {},
     "output_type": "execute_result"
    }
   ],
   "source": [
    "#Checking yearly distribution of the data \n",
    "df1.groupby('year').count()"
   ]
  },
  {
   "cell_type": "code",
   "execution_count": 13,
   "metadata": {},
   "outputs": [
    {
     "data": {
      "image/png": "[encoded data removed]",
      "text/plain": [
       "<Figure size 432x288 with 1 Axes>"
      ]
     },
     "metadata": {
      "needs_background": "light"
     },
     "output_type": "display_data"
    }
   ],
   "source": [
    "#Visulaising length vs income of data\n",
    "\n",
    "plt.scatter(x='length' , y = 'income' , data = df1)\n",
    "plt.show()"
   ]
  },
  {
   "cell_type": "code",
   "execution_count": 14,
   "metadata": {},
   "outputs": [
    {
     "data": {
      "image/png": "[encoded data removed]",
      "text/plain": [
       "<Figure size 1800x720 with 2 Axes>"
      ]
     },
     "metadata": {
      "needs_background": "light"
     },
     "output_type": "display_data"
    }
   ],
   "source": [
    "#verifing missing number\n",
    "msno.matrix(df1)\n",
    "plt.show()"
   ]
  },
  {
   "cell_type": "code",
   "execution_count": 15,
   "metadata": {},
   "outputs": [
    {
     "data": {
      "text/html": [
       "<div>\n",
       "<style scoped>\n",
       "    .dataframe tbody tr th:only-of-type {\n",
       "        vertical-align: middle;\n",
       "    }\n",
       "\n",
       "    .dataframe tbody tr th {\n",
       "        vertical-align: top;\n",
       "    }\n",
       "\n",
       "    .dataframe thead th {\n",
       "        text-align: right;\n",
       "    }\n",
       "</style>\n",
       "<table border=\"1\" class=\"dataframe\">\n",
       "  <thead>\n",
       "    <tr style=\"text-align: right;\">\n",
       "      <th></th>\n",
       "      <th>year</th>\n",
       "      <th>day</th>\n",
       "      <th>length</th>\n",
       "      <th>weight</th>\n",
       "      <th>count</th>\n",
       "      <th>looped</th>\n",
       "      <th>neighbors</th>\n",
       "      <th>income</th>\n",
       "      <th>label</th>\n",
       "    </tr>\n",
       "    <tr>\n",
       "      <th>address</th>\n",
       "      <th></th>\n",
       "      <th></th>\n",
       "      <th></th>\n",
       "      <th></th>\n",
       "      <th></th>\n",
       "      <th></th>\n",
       "      <th></th>\n",
       "      <th></th>\n",
       "      <th></th>\n",
       "    </tr>\n",
       "  </thead>\n",
       "  <tbody>\n",
       "    <tr>\n",
       "      <th>111111mg3JxXdXbypYNyERcYLaJdzEwb</th>\n",
       "      <td>0</td>\n",
       "      <td>0</td>\n",
       "      <td>0</td>\n",
       "      <td>0</td>\n",
       "      <td>0</td>\n",
       "      <td>0</td>\n",
       "      <td>0</td>\n",
       "      <td>0</td>\n",
       "      <td>0</td>\n",
       "    </tr>\n",
       "    <tr>\n",
       "      <th>111213xkVmeHT1v7N7Ff43XmVfLAUq7WEZ</th>\n",
       "      <td>0</td>\n",
       "      <td>0</td>\n",
       "      <td>0</td>\n",
       "      <td>0</td>\n",
       "      <td>0</td>\n",
       "      <td>0</td>\n",
       "      <td>0</td>\n",
       "      <td>0</td>\n",
       "      <td>0</td>\n",
       "    </tr>\n",
       "    <tr>\n",
       "      <th>111K8kZAEnJg245r2cM6y9zgJGHZtJPy6</th>\n",
       "      <td>0</td>\n",
       "      <td>0</td>\n",
       "      <td>0</td>\n",
       "      <td>0</td>\n",
       "      <td>0</td>\n",
       "      <td>0</td>\n",
       "      <td>0</td>\n",
       "      <td>0</td>\n",
       "      <td>0</td>\n",
       "    </tr>\n",
       "    <tr>\n",
       "      <th>111khWGs3Mj7UgKT7aS6hLsYK11ii4Gmw</th>\n",
       "      <td>0</td>\n",
       "      <td>0</td>\n",
       "      <td>0</td>\n",
       "      <td>0</td>\n",
       "      <td>0</td>\n",
       "      <td>0</td>\n",
       "      <td>0</td>\n",
       "      <td>0</td>\n",
       "      <td>0</td>\n",
       "    </tr>\n",
       "    <tr>\n",
       "      <th>111rk7dfDvQLx5FtywePeNzvDVGTJhKrz</th>\n",
       "      <td>0</td>\n",
       "      <td>0</td>\n",
       "      <td>0</td>\n",
       "      <td>0</td>\n",
       "      <td>0</td>\n",
       "      <td>0</td>\n",
       "      <td>0</td>\n",
       "      <td>0</td>\n",
       "      <td>0</td>\n",
       "    </tr>\n",
       "    <tr>\n",
       "      <th>...</th>\n",
       "      <td>...</td>\n",
       "      <td>...</td>\n",
       "      <td>...</td>\n",
       "      <td>...</td>\n",
       "      <td>...</td>\n",
       "      <td>...</td>\n",
       "      <td>...</td>\n",
       "      <td>...</td>\n",
       "      <td>...</td>\n",
       "    </tr>\n",
       "    <tr>\n",
       "      <th>3R1t6aA3jcZDLJoDGbpzGeC9kPBxtGRL5Y</th>\n",
       "      <td>0</td>\n",
       "      <td>0</td>\n",
       "      <td>0</td>\n",
       "      <td>0</td>\n",
       "      <td>0</td>\n",
       "      <td>0</td>\n",
       "      <td>0</td>\n",
       "      <td>0</td>\n",
       "      <td>0</td>\n",
       "    </tr>\n",
       "    <tr>\n",
       "      <th>3R2HAuLQ1g54AvPLwrSfeqrbBxLdV3eazT</th>\n",
       "      <td>0</td>\n",
       "      <td>0</td>\n",
       "      <td>0</td>\n",
       "      <td>0</td>\n",
       "      <td>0</td>\n",
       "      <td>0</td>\n",
       "      <td>0</td>\n",
       "      <td>0</td>\n",
       "      <td>0</td>\n",
       "    </tr>\n",
       "    <tr>\n",
       "      <th>3R2HSBANKvhNv1wh8Tp4DBaJLZNkGuqZJC</th>\n",
       "      <td>0</td>\n",
       "      <td>0</td>\n",
       "      <td>0</td>\n",
       "      <td>0</td>\n",
       "      <td>0</td>\n",
       "      <td>0</td>\n",
       "      <td>0</td>\n",
       "      <td>0</td>\n",
       "      <td>0</td>\n",
       "    </tr>\n",
       "    <tr>\n",
       "      <th>3R2L6skfZZZAzsqXKHT5uN5G7WfK6soJeQ</th>\n",
       "      <td>0</td>\n",
       "      <td>0</td>\n",
       "      <td>0</td>\n",
       "      <td>0</td>\n",
       "      <td>0</td>\n",
       "      <td>0</td>\n",
       "      <td>0</td>\n",
       "      <td>0</td>\n",
       "      <td>0</td>\n",
       "    </tr>\n",
       "    <tr>\n",
       "      <th>3R2WaJK4wfkTgVyoFWfws9cuU46FmoiCc8</th>\n",
       "      <td>0</td>\n",
       "      <td>0</td>\n",
       "      <td>0</td>\n",
       "      <td>0</td>\n",
       "      <td>0</td>\n",
       "      <td>0</td>\n",
       "      <td>0</td>\n",
       "      <td>0</td>\n",
       "      <td>0</td>\n",
       "    </tr>\n",
       "  </tbody>\n",
       "</table>\n",
       "<p>119417 rows × 9 columns</p>\n",
       "</div>"
      ],
      "text/plain": [
       "                                    year  day  length  weight  count  looped  \\\n",
       "address                                                                        \n",
       "111111mg3JxXdXbypYNyERcYLaJdzEwb       0    0       0       0      0       0   \n",
       "111213xkVmeHT1v7N7Ff43XmVfLAUq7WEZ     0    0       0       0      0       0   \n",
       "111K8kZAEnJg245r2cM6y9zgJGHZtJPy6      0    0       0       0      0       0   \n",
       "111khWGs3Mj7UgKT7aS6hLsYK11ii4Gmw      0    0       0       0      0       0   \n",
       "111rk7dfDvQLx5FtywePeNzvDVGTJhKrz      0    0       0       0      0       0   \n",
       "...                                  ...  ...     ...     ...    ...     ...   \n",
       "3R1t6aA3jcZDLJoDGbpzGeC9kPBxtGRL5Y     0    0       0       0      0       0   \n",
       "3R2HAuLQ1g54AvPLwrSfeqrbBxLdV3eazT     0    0       0       0      0       0   \n",
       "3R2HSBANKvhNv1wh8Tp4DBaJLZNkGuqZJC     0    0       0       0      0       0   \n",
       "3R2L6skfZZZAzsqXKHT5uN5G7WfK6soJeQ     0    0       0       0      0       0   \n",
       "3R2WaJK4wfkTgVyoFWfws9cuU46FmoiCc8     0    0       0       0      0       0   \n",
       "\n",
       "                                    neighbors  income  label  \n",
       "address                                                       \n",
       "111111mg3JxXdXbypYNyERcYLaJdzEwb            0       0      0  \n",
       "111213xkVmeHT1v7N7Ff43XmVfLAUq7WEZ          0       0      0  \n",
       "111K8kZAEnJg245r2cM6y9zgJGHZtJPy6           0       0      0  \n",
       "111khWGs3Mj7UgKT7aS6hLsYK11ii4Gmw           0       0      0  \n",
       "111rk7dfDvQLx5FtywePeNzvDVGTJhKrz           0       0      0  \n",
       "...                                       ...     ...    ...  \n",
       "3R1t6aA3jcZDLJoDGbpzGeC9kPBxtGRL5Y          0       0      0  \n",
       "3R2HAuLQ1g54AvPLwrSfeqrbBxLdV3eazT          0       0      0  \n",
       "3R2HSBANKvhNv1wh8Tp4DBaJLZNkGuqZJC          0       0      0  \n",
       "3R2L6skfZZZAzsqXKHT5uN5G7WfK6soJeQ          0       0      0  \n",
       "3R2WaJK4wfkTgVyoFWfws9cuU46FmoiCc8          0       0      0  \n",
       "\n",
       "[119417 rows x 9 columns]"
      ]
     },
     "execution_count": 15,
     "metadata": {},
     "output_type": "execute_result"
    }
   ],
   "source": [
    "#duplicate address checking (transactaion from same address)\n",
    "duplicates1 = df1.duplicated(subset=['address'],keep=False)\n",
    "\n",
    "df1[duplicates1].groupby('address').count()\n"
   ]
  },
  {
   "cell_type": "code",
   "execution_count": 16,
   "metadata": {},
   "outputs": [
    {
     "data": {
      "text/html": [
       "<div>\n",
       "<style scoped>\n",
       "    .dataframe tbody tr th:only-of-type {\n",
       "        vertical-align: middle;\n",
       "    }\n",
       "\n",
       "    .dataframe tbody tr th {\n",
       "        vertical-align: top;\n",
       "    }\n",
       "\n",
       "    .dataframe thead th {\n",
       "        text-align: right;\n",
       "    }\n",
       "</style>\n",
       "<table border=\"1\" class=\"dataframe\">\n",
       "  <thead>\n",
       "    <tr style=\"text-align: right;\">\n",
       "      <th></th>\n",
       "      <th></th>\n",
       "      <th>day</th>\n",
       "      <th>length</th>\n",
       "      <th>weight</th>\n",
       "      <th>count</th>\n",
       "      <th>looped</th>\n",
       "      <th>neighbors</th>\n",
       "      <th>income</th>\n",
       "      <th>label</th>\n",
       "    </tr>\n",
       "    <tr>\n",
       "      <th>address</th>\n",
       "      <th>year</th>\n",
       "      <th></th>\n",
       "      <th></th>\n",
       "      <th></th>\n",
       "      <th></th>\n",
       "      <th></th>\n",
       "      <th></th>\n",
       "      <th></th>\n",
       "      <th></th>\n",
       "    </tr>\n",
       "  </thead>\n",
       "  <tbody>\n",
       "    <tr>\n",
       "      <th rowspan=\"5\" valign=\"top\">111111mg3JxXdXbypYNyERcYLaJdzEwb</th>\n",
       "      <th>2011</th>\n",
       "      <td>NaN</td>\n",
       "      <td>NaN</td>\n",
       "      <td>NaN</td>\n",
       "      <td>NaN</td>\n",
       "      <td>NaN</td>\n",
       "      <td>NaN</td>\n",
       "      <td>NaN</td>\n",
       "      <td>NaN</td>\n",
       "    </tr>\n",
       "    <tr>\n",
       "      <th>2012</th>\n",
       "      <td>NaN</td>\n",
       "      <td>NaN</td>\n",
       "      <td>NaN</td>\n",
       "      <td>NaN</td>\n",
       "      <td>NaN</td>\n",
       "      <td>NaN</td>\n",
       "      <td>NaN</td>\n",
       "      <td>NaN</td>\n",
       "    </tr>\n",
       "    <tr>\n",
       "      <th>2013</th>\n",
       "      <td>NaN</td>\n",
       "      <td>NaN</td>\n",
       "      <td>NaN</td>\n",
       "      <td>NaN</td>\n",
       "      <td>NaN</td>\n",
       "      <td>NaN</td>\n",
       "      <td>NaN</td>\n",
       "      <td>NaN</td>\n",
       "    </tr>\n",
       "    <tr>\n",
       "      <th>2014</th>\n",
       "      <td>NaN</td>\n",
       "      <td>NaN</td>\n",
       "      <td>NaN</td>\n",
       "      <td>NaN</td>\n",
       "      <td>NaN</td>\n",
       "      <td>NaN</td>\n",
       "      <td>NaN</td>\n",
       "      <td>NaN</td>\n",
       "    </tr>\n",
       "    <tr>\n",
       "      <th>2015</th>\n",
       "      <td>NaN</td>\n",
       "      <td>NaN</td>\n",
       "      <td>NaN</td>\n",
       "      <td>NaN</td>\n",
       "      <td>NaN</td>\n",
       "      <td>NaN</td>\n",
       "      <td>NaN</td>\n",
       "      <td>NaN</td>\n",
       "    </tr>\n",
       "    <tr>\n",
       "      <th>...</th>\n",
       "      <th>...</th>\n",
       "      <td>...</td>\n",
       "      <td>...</td>\n",
       "      <td>...</td>\n",
       "      <td>...</td>\n",
       "      <td>...</td>\n",
       "      <td>...</td>\n",
       "      <td>...</td>\n",
       "      <td>...</td>\n",
       "    </tr>\n",
       "    <tr>\n",
       "      <th rowspan=\"5\" valign=\"top\">3R2WaJK4wfkTgVyoFWfws9cuU46FmoiCc8</th>\n",
       "      <th>2014</th>\n",
       "      <td>NaN</td>\n",
       "      <td>NaN</td>\n",
       "      <td>NaN</td>\n",
       "      <td>NaN</td>\n",
       "      <td>NaN</td>\n",
       "      <td>NaN</td>\n",
       "      <td>NaN</td>\n",
       "      <td>NaN</td>\n",
       "    </tr>\n",
       "    <tr>\n",
       "      <th>2015</th>\n",
       "      <td>NaN</td>\n",
       "      <td>NaN</td>\n",
       "      <td>NaN</td>\n",
       "      <td>NaN</td>\n",
       "      <td>NaN</td>\n",
       "      <td>NaN</td>\n",
       "      <td>NaN</td>\n",
       "      <td>NaN</td>\n",
       "    </tr>\n",
       "    <tr>\n",
       "      <th>2016</th>\n",
       "      <td>NaN</td>\n",
       "      <td>NaN</td>\n",
       "      <td>NaN</td>\n",
       "      <td>NaN</td>\n",
       "      <td>NaN</td>\n",
       "      <td>NaN</td>\n",
       "      <td>NaN</td>\n",
       "      <td>NaN</td>\n",
       "    </tr>\n",
       "    <tr>\n",
       "      <th>2017</th>\n",
       "      <td>NaN</td>\n",
       "      <td>NaN</td>\n",
       "      <td>NaN</td>\n",
       "      <td>NaN</td>\n",
       "      <td>NaN</td>\n",
       "      <td>NaN</td>\n",
       "      <td>NaN</td>\n",
       "      <td>NaN</td>\n",
       "    </tr>\n",
       "    <tr>\n",
       "      <th>2018</th>\n",
       "      <td>NaN</td>\n",
       "      <td>NaN</td>\n",
       "      <td>NaN</td>\n",
       "      <td>NaN</td>\n",
       "      <td>NaN</td>\n",
       "      <td>NaN</td>\n",
       "      <td>NaN</td>\n",
       "      <td>NaN</td>\n",
       "    </tr>\n",
       "  </tbody>\n",
       "</table>\n",
       "<p>955336 rows × 8 columns</p>\n",
       "</div>"
      ],
      "text/plain": [
       "                                         day  length  weight  count  looped  \\\n",
       "address                            year                                       \n",
       "111111mg3JxXdXbypYNyERcYLaJdzEwb   2011  NaN     NaN     NaN    NaN     NaN   \n",
       "                                   2012  NaN     NaN     NaN    NaN     NaN   \n",
       "                                   2013  NaN     NaN     NaN    NaN     NaN   \n",
       "                                   2014  NaN     NaN     NaN    NaN     NaN   \n",
       "                                   2015  NaN     NaN     NaN    NaN     NaN   \n",
       "...                                      ...     ...     ...    ...     ...   \n",
       "3R2WaJK4wfkTgVyoFWfws9cuU46FmoiCc8 2014  NaN     NaN     NaN    NaN     NaN   \n",
       "                                   2015  NaN     NaN     NaN    NaN     NaN   \n",
       "                                   2016  NaN     NaN     NaN    NaN     NaN   \n",
       "                                   2017  NaN     NaN     NaN    NaN     NaN   \n",
       "                                   2018  NaN     NaN     NaN    NaN     NaN   \n",
       "\n",
       "                                         neighbors  income  label  \n",
       "address                            year                            \n",
       "111111mg3JxXdXbypYNyERcYLaJdzEwb   2011        NaN     NaN    NaN  \n",
       "                                   2012        NaN     NaN    NaN  \n",
       "                                   2013        NaN     NaN    NaN  \n",
       "                                   2014        NaN     NaN    NaN  \n",
       "                                   2015        NaN     NaN    NaN  \n",
       "...                                            ...     ...    ...  \n",
       "3R2WaJK4wfkTgVyoFWfws9cuU46FmoiCc8 2014        NaN     NaN    NaN  \n",
       "                                   2015        NaN     NaN    NaN  \n",
       "                                   2016        NaN     NaN    NaN  \n",
       "                                   2017        NaN     NaN    NaN  \n",
       "                                   2018        NaN     NaN    NaN  \n",
       "\n",
       "[955336 rows x 8 columns]"
      ]
     },
     "execution_count": 16,
     "metadata": {},
     "output_type": "execute_result"
    }
   ],
   "source": [
    "#duplicate address (transaction on same year)\n",
    "\n",
    "duplicates2 = df1.duplicated(subset=['address','year'],keep=False)\n",
    "\n",
    "dup_df1 = df1[duplicates2].groupby(['address','year']).count()\n",
    "\n",
    "dup_df1"
   ]
  },
  {
   "cell_type": "code",
   "execution_count": 17,
   "metadata": {},
   "outputs": [
    {
     "data": {
      "text/html": [
       "<div>\n",
       "<style scoped>\n",
       "    .dataframe tbody tr th:only-of-type {\n",
       "        vertical-align: middle;\n",
       "    }\n",
       "\n",
       "    .dataframe tbody tr th {\n",
       "        vertical-align: top;\n",
       "    }\n",
       "\n",
       "    .dataframe thead th {\n",
       "        text-align: right;\n",
       "    }\n",
       "</style>\n",
       "<table border=\"1\" class=\"dataframe\">\n",
       "  <thead>\n",
       "    <tr style=\"text-align: right;\">\n",
       "      <th></th>\n",
       "      <th></th>\n",
       "      <th>day</th>\n",
       "      <th>length</th>\n",
       "      <th>weight</th>\n",
       "      <th>count</th>\n",
       "      <th>looped</th>\n",
       "      <th>neighbors</th>\n",
       "      <th>income</th>\n",
       "      <th>label</th>\n",
       "    </tr>\n",
       "    <tr>\n",
       "      <th>address</th>\n",
       "      <th>year</th>\n",
       "      <th></th>\n",
       "      <th></th>\n",
       "      <th></th>\n",
       "      <th></th>\n",
       "      <th></th>\n",
       "      <th></th>\n",
       "      <th></th>\n",
       "      <th></th>\n",
       "    </tr>\n",
       "  </thead>\n",
       "  <tbody>\n",
       "    <tr>\n",
       "      <th>112wED5uHhY1aiSaWAzgeMDaCKFcCvj9Pn</th>\n",
       "      <th>2016</th>\n",
       "      <td>2.0</td>\n",
       "      <td>2.0</td>\n",
       "      <td>2.0</td>\n",
       "      <td>2.0</td>\n",
       "      <td>2.0</td>\n",
       "      <td>2.0</td>\n",
       "      <td>2.0</td>\n",
       "      <td>2.0</td>\n",
       "    </tr>\n",
       "    <tr>\n",
       "      <th>1138hthSBoPJojZtaoYnXJJddJruaNQt8X</th>\n",
       "      <th>2011</th>\n",
       "      <td>2.0</td>\n",
       "      <td>2.0</td>\n",
       "      <td>2.0</td>\n",
       "      <td>2.0</td>\n",
       "      <td>2.0</td>\n",
       "      <td>2.0</td>\n",
       "      <td>2.0</td>\n",
       "      <td>2.0</td>\n",
       "    </tr>\n",
       "    <tr>\n",
       "      <th>113JHb4ZVYtLD8cbwr7gLcuFqU36SmghS8</th>\n",
       "      <th>2012</th>\n",
       "      <td>2.0</td>\n",
       "      <td>2.0</td>\n",
       "      <td>2.0</td>\n",
       "      <td>2.0</td>\n",
       "      <td>2.0</td>\n",
       "      <td>2.0</td>\n",
       "      <td>2.0</td>\n",
       "      <td>2.0</td>\n",
       "    </tr>\n",
       "    <tr>\n",
       "      <th>113i99LGHX2ZzBed1SaMpnqb6ruRgbBwMc</th>\n",
       "      <th>2014</th>\n",
       "      <td>2.0</td>\n",
       "      <td>2.0</td>\n",
       "      <td>2.0</td>\n",
       "      <td>2.0</td>\n",
       "      <td>2.0</td>\n",
       "      <td>2.0</td>\n",
       "      <td>2.0</td>\n",
       "      <td>2.0</td>\n",
       "    </tr>\n",
       "    <tr>\n",
       "      <th>1148zc3Jf2ZYCB9KpgD4s8nXJBa6jQsT1M</th>\n",
       "      <th>2014</th>\n",
       "      <td>2.0</td>\n",
       "      <td>2.0</td>\n",
       "      <td>2.0</td>\n",
       "      <td>2.0</td>\n",
       "      <td>2.0</td>\n",
       "      <td>2.0</td>\n",
       "      <td>2.0</td>\n",
       "      <td>2.0</td>\n",
       "    </tr>\n",
       "    <tr>\n",
       "      <th>...</th>\n",
       "      <th>...</th>\n",
       "      <td>...</td>\n",
       "      <td>...</td>\n",
       "      <td>...</td>\n",
       "      <td>...</td>\n",
       "      <td>...</td>\n",
       "      <td>...</td>\n",
       "      <td>...</td>\n",
       "      <td>...</td>\n",
       "    </tr>\n",
       "    <tr>\n",
       "      <th>3NGUiG22aAq2NnTe9ntVsheYJZ4yFVP6WC</th>\n",
       "      <th>2018</th>\n",
       "      <td>2.0</td>\n",
       "      <td>2.0</td>\n",
       "      <td>2.0</td>\n",
       "      <td>2.0</td>\n",
       "      <td>2.0</td>\n",
       "      <td>2.0</td>\n",
       "      <td>2.0</td>\n",
       "      <td>2.0</td>\n",
       "    </tr>\n",
       "    <tr>\n",
       "      <th>3Pei4hHgGpXQAJFremyy3yNREcLzvBvh4E</th>\n",
       "      <th>2017</th>\n",
       "      <td>2.0</td>\n",
       "      <td>2.0</td>\n",
       "      <td>2.0</td>\n",
       "      <td>2.0</td>\n",
       "      <td>2.0</td>\n",
       "      <td>2.0</td>\n",
       "      <td>2.0</td>\n",
       "      <td>2.0</td>\n",
       "    </tr>\n",
       "    <tr>\n",
       "      <th>3QbN8U4dfCxwtXAcgWTkqwGtP1PcaZ2sgv</th>\n",
       "      <th>2017</th>\n",
       "      <td>2.0</td>\n",
       "      <td>2.0</td>\n",
       "      <td>2.0</td>\n",
       "      <td>2.0</td>\n",
       "      <td>2.0</td>\n",
       "      <td>2.0</td>\n",
       "      <td>2.0</td>\n",
       "      <td>2.0</td>\n",
       "    </tr>\n",
       "    <tr>\n",
       "      <th>3Qhuu94CigUHENZEZwGi2YX5M2pQpDHTx1</th>\n",
       "      <th>2018</th>\n",
       "      <td>2.0</td>\n",
       "      <td>2.0</td>\n",
       "      <td>2.0</td>\n",
       "      <td>2.0</td>\n",
       "      <td>2.0</td>\n",
       "      <td>2.0</td>\n",
       "      <td>2.0</td>\n",
       "      <td>2.0</td>\n",
       "    </tr>\n",
       "    <tr>\n",
       "      <th>3Qy5mTpumWh24f5UdwGPJEhStoD3A25fK9</th>\n",
       "      <th>2017</th>\n",
       "      <td>2.0</td>\n",
       "      <td>2.0</td>\n",
       "      <td>2.0</td>\n",
       "      <td>2.0</td>\n",
       "      <td>2.0</td>\n",
       "      <td>2.0</td>\n",
       "      <td>2.0</td>\n",
       "      <td>2.0</td>\n",
       "    </tr>\n",
       "  </tbody>\n",
       "</table>\n",
       "<p>3567 rows × 8 columns</p>\n",
       "</div>"
      ],
      "text/plain": [
       "                                         day  length  weight  count  looped  \\\n",
       "address                            year                                       \n",
       "112wED5uHhY1aiSaWAzgeMDaCKFcCvj9Pn 2016  2.0     2.0     2.0    2.0     2.0   \n",
       "1138hthSBoPJojZtaoYnXJJddJruaNQt8X 2011  2.0     2.0     2.0    2.0     2.0   \n",
       "113JHb4ZVYtLD8cbwr7gLcuFqU36SmghS8 2012  2.0     2.0     2.0    2.0     2.0   \n",
       "113i99LGHX2ZzBed1SaMpnqb6ruRgbBwMc 2014  2.0     2.0     2.0    2.0     2.0   \n",
       "1148zc3Jf2ZYCB9KpgD4s8nXJBa6jQsT1M 2014  2.0     2.0     2.0    2.0     2.0   \n",
       "...                                      ...     ...     ...    ...     ...   \n",
       "3NGUiG22aAq2NnTe9ntVsheYJZ4yFVP6WC 2018  2.0     2.0     2.0    2.0     2.0   \n",
       "3Pei4hHgGpXQAJFremyy3yNREcLzvBvh4E 2017  2.0     2.0     2.0    2.0     2.0   \n",
       "3QbN8U4dfCxwtXAcgWTkqwGtP1PcaZ2sgv 2017  2.0     2.0     2.0    2.0     2.0   \n",
       "3Qhuu94CigUHENZEZwGi2YX5M2pQpDHTx1 2018  2.0     2.0     2.0    2.0     2.0   \n",
       "3Qy5mTpumWh24f5UdwGPJEhStoD3A25fK9 2017  2.0     2.0     2.0    2.0     2.0   \n",
       "\n",
       "                                         neighbors  income  label  \n",
       "address                            year                            \n",
       "112wED5uHhY1aiSaWAzgeMDaCKFcCvj9Pn 2016        2.0     2.0    2.0  \n",
       "1138hthSBoPJojZtaoYnXJJddJruaNQt8X 2011        2.0     2.0    2.0  \n",
       "113JHb4ZVYtLD8cbwr7gLcuFqU36SmghS8 2012        2.0     2.0    2.0  \n",
       "113i99LGHX2ZzBed1SaMpnqb6ruRgbBwMc 2014        2.0     2.0    2.0  \n",
       "1148zc3Jf2ZYCB9KpgD4s8nXJBa6jQsT1M 2014        2.0     2.0    2.0  \n",
       "...                                            ...     ...    ...  \n",
       "3NGUiG22aAq2NnTe9ntVsheYJZ4yFVP6WC 2018        2.0     2.0    2.0  \n",
       "3Pei4hHgGpXQAJFremyy3yNREcLzvBvh4E 2017        2.0     2.0    2.0  \n",
       "3QbN8U4dfCxwtXAcgWTkqwGtP1PcaZ2sgv 2017        2.0     2.0    2.0  \n",
       "3Qhuu94CigUHENZEZwGi2YX5M2pQpDHTx1 2018        2.0     2.0    2.0  \n",
       "3Qy5mTpumWh24f5UdwGPJEhStoD3A25fK9 2017        2.0     2.0    2.0  \n",
       "\n",
       "[3567 rows x 8 columns]"
      ]
     },
     "execution_count": 17,
     "metadata": {},
     "output_type": "execute_result"
    }
   ],
   "source": [
    "#removing NAN value\n",
    "#dup_df1.agg(lambda x: np.nan if x.isnull().all() else x.dropna())\n",
    "dup_df1.dropna()"
   ]
  },
  {
   "cell_type": "code",
   "execution_count": 18,
   "metadata": {},
   "outputs": [
    {
     "data": {
      "text/html": [
       "<div>\n",
       "<style scoped>\n",
       "    .dataframe tbody tr th:only-of-type {\n",
       "        vertical-align: middle;\n",
       "    }\n",
       "\n",
       "    .dataframe tbody tr th {\n",
       "        vertical-align: top;\n",
       "    }\n",
       "\n",
       "    .dataframe thead th {\n",
       "        text-align: right;\n",
       "    }\n",
       "</style>\n",
       "<table border=\"1\" class=\"dataframe\">\n",
       "  <thead>\n",
       "    <tr style=\"text-align: right;\">\n",
       "      <th></th>\n",
       "      <th>address</th>\n",
       "      <th>year</th>\n",
       "      <th>day</th>\n",
       "      <th>length</th>\n",
       "      <th>weight</th>\n",
       "      <th>count</th>\n",
       "      <th>looped</th>\n",
       "      <th>neighbors</th>\n",
       "      <th>income</th>\n",
       "      <th>label</th>\n",
       "    </tr>\n",
       "  </thead>\n",
       "  <tbody>\n",
       "  </tbody>\n",
       "</table>\n",
       "</div>"
      ],
      "text/plain": [
       "Empty DataFrame\n",
       "Columns: [address, year, day, length, weight, count, looped, neighbors, income, label]\n",
       "Index: []"
      ]
     },
     "execution_count": 18,
     "metadata": {},
     "output_type": "execute_result"
    }
   ],
   "source": [
    "#duplicate address (transaction on same day)\n",
    "\n",
    "duplicates3 = df1.duplicated(subset=['address','year','day'],keep=False)\n",
    "\n",
    "df1[duplicates3]"
   ]
  },
  {
   "cell_type": "markdown",
   "metadata": {},
   "source": [
    "<h1> Visualization<\\h1>"
   ]
  },
  {
   "cell_type": "code",
   "execution_count": 19,
   "metadata": {},
   "outputs": [],
   "source": [
    "#importing plotting libraries\n",
    "import seaborn as sns"
   ]
  },
  {
   "cell_type": "code",
   "execution_count": 20,
   "metadata": {},
   "outputs": [
    {
     "name": "stdout",
     "output_type": "stream",
     "text": [
      "<class 'pandas.core.frame.DataFrame'>\n",
      "Int64Index: 141413 entries, 0 to 2323949\n",
      "Data columns (total 10 columns):\n",
      " #   Column     Non-Null Count   Dtype   \n",
      "---  ------     --------------   -----   \n",
      " 0   address    141413 non-null  category\n",
      " 1   year       141413 non-null  category\n",
      " 2   day        141413 non-null  category\n",
      " 3   length     141413 non-null  int64   \n",
      " 4   weight     141413 non-null  float64 \n",
      " 5   count      141413 non-null  int64   \n",
      " 6   looped     141413 non-null  int64   \n",
      " 7   neighbors  141413 non-null  int64   \n",
      " 8   income     141413 non-null  float64 \n",
      " 9   label      141413 non-null  category\n",
      "dtypes: category(4), float64(2), int64(4)\n",
      "memory usage: 14.6 MB\n"
     ]
    }
   ],
   "source": [
    "df1.info()"
   ]
  },
  {
   "cell_type": "code",
   "execution_count": 21,
   "metadata": {},
   "outputs": [],
   "source": [
    "#sns.pairplot(df1)\n",
    "#plt.show()"
   ]
  },
  {
   "cell_type": "code",
   "execution_count": null,
   "metadata": {},
   "outputs": [],
   "source": []
  },
  {
   "cell_type": "code",
   "execution_count": 22,
   "metadata": {},
   "outputs": [
    {
     "data": {
      "text/html": [
       "<div>\n",
       "<style scoped>\n",
       "    .dataframe tbody tr th:only-of-type {\n",
       "        vertical-align: middle;\n",
       "    }\n",
       "\n",
       "    .dataframe tbody tr th {\n",
       "        vertical-align: top;\n",
       "    }\n",
       "\n",
       "    .dataframe thead th {\n",
       "        text-align: right;\n",
       "    }\n",
       "</style>\n",
       "<table border=\"1\" class=\"dataframe\">\n",
       "  <thead>\n",
       "    <tr style=\"text-align: right;\">\n",
       "      <th></th>\n",
       "      <th>length</th>\n",
       "      <th>weight</th>\n",
       "      <th>count</th>\n",
       "      <th>looped</th>\n",
       "      <th>neighbors</th>\n",
       "      <th>income</th>\n",
       "    </tr>\n",
       "  </thead>\n",
       "  <tbody>\n",
       "    <tr>\n",
       "      <th>length</th>\n",
       "      <td>1.000000</td>\n",
       "      <td>0.002227</td>\n",
       "      <td>0.709169</td>\n",
       "      <td>0.386475</td>\n",
       "      <td>0.034509</td>\n",
       "      <td>0.002060</td>\n",
       "    </tr>\n",
       "    <tr>\n",
       "      <th>weight</th>\n",
       "      <td>0.002227</td>\n",
       "      <td>1.000000</td>\n",
       "      <td>0.010867</td>\n",
       "      <td>0.047420</td>\n",
       "      <td>0.514698</td>\n",
       "      <td>0.027862</td>\n",
       "    </tr>\n",
       "    <tr>\n",
       "      <th>count</th>\n",
       "      <td>0.709169</td>\n",
       "      <td>0.010867</td>\n",
       "      <td>1.000000</td>\n",
       "      <td>0.530850</td>\n",
       "      <td>0.023226</td>\n",
       "      <td>-0.002677</td>\n",
       "    </tr>\n",
       "    <tr>\n",
       "      <th>looped</th>\n",
       "      <td>0.386475</td>\n",
       "      <td>0.047420</td>\n",
       "      <td>0.530850</td>\n",
       "      <td>1.000000</td>\n",
       "      <td>0.054238</td>\n",
       "      <td>0.001277</td>\n",
       "    </tr>\n",
       "    <tr>\n",
       "      <th>neighbors</th>\n",
       "      <td>0.034509</td>\n",
       "      <td>0.514698</td>\n",
       "      <td>0.023226</td>\n",
       "      <td>0.054238</td>\n",
       "      <td>1.000000</td>\n",
       "      <td>0.034077</td>\n",
       "    </tr>\n",
       "    <tr>\n",
       "      <th>income</th>\n",
       "      <td>0.002060</td>\n",
       "      <td>0.027862</td>\n",
       "      <td>-0.002677</td>\n",
       "      <td>0.001277</td>\n",
       "      <td>0.034077</td>\n",
       "      <td>1.000000</td>\n",
       "    </tr>\n",
       "  </tbody>\n",
       "</table>\n",
       "</div>"
      ],
      "text/plain": [
       "             length    weight     count    looped  neighbors    income\n",
       "length     1.000000  0.002227  0.709169  0.386475   0.034509  0.002060\n",
       "weight     0.002227  1.000000  0.010867  0.047420   0.514698  0.027862\n",
       "count      0.709169  0.010867  1.000000  0.530850   0.023226 -0.002677\n",
       "looped     0.386475  0.047420  0.530850  1.000000   0.054238  0.001277\n",
       "neighbors  0.034509  0.514698  0.023226  0.054238   1.000000  0.034077\n",
       "income     0.002060  0.027862 -0.002677  0.001277   0.034077  1.000000"
      ]
     },
     "execution_count": 22,
     "metadata": {},
     "output_type": "execute_result"
    }
   ],
   "source": [
    "df1.corr()"
   ]
  },
  {
   "cell_type": "code",
   "execution_count": 23,
   "metadata": {},
   "outputs": [
    {
     "data": {
      "image/png": "[encoded data removed]",
      "text/plain": [
       "<Figure size 1440x1440 with 2 Axes>"
      ]
     },
     "metadata": {
      "needs_background": "light"
     },
     "output_type": "display_data"
    },
    {
     "data": {
      "text/plain": [
       "<Figure size 432x288 with 0 Axes>"
      ]
     },
     "metadata": {},
     "output_type": "display_data"
    }
   ],
   "source": [
    "_=plt.figure(figsize=(20,20))\n",
    "_=sns.heatmap(df1.corr(),annot=True)\n",
    "plt.show()\n",
    "plt.savefig(\"ransomware_heatmap.jpg\")"
   ]
  },
  {
   "cell_type": "code",
   "execution_count": 24,
   "metadata": {},
   "outputs": [
    {
     "data": {
      "image/png": "[encoded data removed]",
      "text/plain": [
       "<Figure size 432x288 with 1 Axes>"
      ]
     },
     "metadata": {
      "needs_background": "light"
     },
     "output_type": "display_data"
    }
   ],
   "source": [
    "sns.scatterplot(x='count',y='looped',data = df1)\n",
    "plt.xlabel('count')\n",
    "plt.ylabel('looped')\n",
    "plt.title('count vs looped')\n",
    "plt.show()"
   ]
  },
  {
   "cell_type": "code",
   "execution_count": 25,
   "metadata": {},
   "outputs": [
    {
     "data": {
      "image/png": "[encoded data removed]",
      "text/plain": [
       "<Figure size 432x288 with 1 Axes>"
      ]
     },
     "metadata": {
      "needs_background": "light"
     },
     "output_type": "display_data"
    }
   ],
   "source": [
    "sns.regplot (x='count',y='looped',data = df1)\n",
    "plt.xlabel('count')\n",
    "plt.ylabel('looped')\n",
    "plt.title('count vs looped')\n",
    "plt.show()"
   ]
  },
  {
   "cell_type": "code",
   "execution_count": 26,
   "metadata": {},
   "outputs": [
    {
     "data": {
      "image/png": "[encoded data removed]",
      "text/plain": [
       "<Figure size 432x288 with 1 Axes>"
      ]
     },
     "metadata": {
      "needs_background": "light"
     },
     "output_type": "display_data"
    }
   ],
   "source": [
    "sns.scatterplot(x='count',y='length',data = df1)\n",
    "plt.xlabel('count')\n",
    "plt.ylabel('Length')\n",
    "plt.title('count vs length')\n",
    "plt.show()"
   ]
  },
  {
   "cell_type": "code",
   "execution_count": 27,
   "metadata": {},
   "outputs": [
    {
     "data": {
      "image/png": "[encoded data removed]",
      "text/plain": [
       "<Figure size 432x288 with 1 Axes>"
      ]
     },
     "metadata": {
      "needs_background": "light"
     },
     "output_type": "display_data"
    }
   ],
   "source": [
    "sns.regplot (x='count',y='length',data = df1)\n",
    "plt.xlabel('count')\n",
    "plt.ylabel('length')\n",
    "plt.title('count vs length')\n",
    "plt.show()"
   ]
  },
  {
   "cell_type": "code",
   "execution_count": 28,
   "metadata": {},
   "outputs": [
    {
     "data": {
      "text/plain": [
       "<Figure size 2880x1440 with 0 Axes>"
      ]
     },
     "metadata": {},
     "output_type": "display_data"
    },
    {
     "data": {
      "image/png": "[encoded data removed]",
      "text/plain": [
       "<Figure size 432x288 with 6 Axes>"
      ]
     },
     "metadata": {
      "needs_background": "light"
     },
     "output_type": "display_data"
    }
   ],
   "source": [
    "_=plt.figure(figsize=(40,20))\n",
    "_=df1.hist()\n",
    "plt.show()"
   ]
  },
  {
   "cell_type": "code",
   "execution_count": 29,
   "metadata": {},
   "outputs": [
    {
     "data": {
      "image/png": "[encoded data removed]",
      "text/plain": [
       "<Figure size 432x288 with 1 Axes>"
      ]
     },
     "metadata": {
      "needs_background": "light"
     },
     "output_type": "display_data"
    }
   ],
   "source": [
    "df1[['length']].boxplot()\n",
    "plt.show()"
   ]
  },
  {
   "cell_type": "markdown",
   "metadata": {},
   "source": [
    "<h1> Feature Engineering and Modeling using pipeline <\\h1>"
   ]
  },
  {
   "cell_type": "code",
   "execution_count": 36,
   "metadata": {},
   "outputs": [],
   "source": [
    "from sklearn.compose import ColumnTransformer\n",
    "from sklearn.pipeline import Pipeline\n",
    "from sklearn.impute import SimpleImputer\n",
    "from sklearn.preprocessing import StandardScaler, OneHotEncoder\n",
    "from sklearn.linear_model import LogisticRegression\n",
    "from sklearn.model_selection import train_test_split, GridSearchCV\n",
    "import time"
   ]
  },
  {
   "cell_type": "code",
   "execution_count": 31,
   "metadata": {},
   "outputs": [
    {
     "name": "stdout",
     "output_type": "stream",
     "text": [
      "<class 'pandas.core.frame.DataFrame'>\n",
      "Int64Index: 141413 entries, 0 to 2323949\n",
      "Data columns (total 10 columns):\n",
      " #   Column     Non-Null Count   Dtype   \n",
      "---  ------     --------------   -----   \n",
      " 0   address    141413 non-null  category\n",
      " 1   year       141413 non-null  category\n",
      " 2   day        141413 non-null  category\n",
      " 3   length     141413 non-null  int64   \n",
      " 4   weight     141413 non-null  float64 \n",
      " 5   count      141413 non-null  int64   \n",
      " 6   looped     141413 non-null  int64   \n",
      " 7   neighbors  141413 non-null  int64   \n",
      " 8   income     141413 non-null  float64 \n",
      " 9   label      141413 non-null  category\n",
      "dtypes: category(4), float64(2), int64(4)\n",
      "memory usage: 14.6 MB\n"
     ]
    }
   ],
   "source": [
    "df1.info()"
   ]
  },
  {
   "cell_type": "markdown",
   "metadata": {},
   "source": [
    "<h2> Transformig data manually<\\h2>"
   ]
  },
  {
   "cell_type": "code",
   "execution_count": 32,
   "metadata": {},
   "outputs": [],
   "source": [
    "X = df1.iloc[:,:-1]\n",
    "y = df1['label']\n",
    "\n",
    "numeric_features = ['length', 'weight','count','looped','neighbors','income']\n",
    "numeric_transformer = Pipeline(steps=[\n",
    "    ('imputer', SimpleImputer(strategy='mean')),\n",
    "    ('scaler', StandardScaler())])\n",
    "\n",
    "categorical_features = ['address', 'year', 'day']\n",
    "categorical_transformer = Pipeline(steps=[\n",
    "    ('imputer', SimpleImputer(strategy='constant')),\n",
    "    ('onehot', OneHotEncoder(handle_unknown='ignore'))])\n",
    "\n",
    "preprocessor = ColumnTransformer(\n",
    "    transformers=[\n",
    "        ('num', numeric_transformer, numeric_features),\n",
    "        ('cat', categorical_transformer, categorical_features)])\n",
    "\n",
    "\n"
   ]
  },
  {
   "cell_type": "markdown",
   "metadata": {},
   "source": [
    "<h2> Base logistic Regression using pipeline for feature engineering : Model Score : 87.7% ,Overall time : 11.3 Sec<\\h2>"
   ]
  },
  {
   "cell_type": "code",
   "execution_count": 181,
   "metadata": {},
   "outputs": [
    {
     "name": "stdout",
     "output_type": "stream",
     "text": [
      "model score: 0.877\n",
      "Over all time taken :  11.357649564743042\n"
     ]
    }
   ],
   "source": [
    "lr_clf = Pipeline(steps=[('preprocessor', preprocessor),\n",
    "                      ('classifier', LogisticRegression(max_iter=150))])\n",
    "\n",
    "X_train, X_test, y_train, y_test = train_test_split(X, y, test_size=0.25)\n",
    "\n",
    "start=time.time()\n",
    "\n",
    "lr_clf.fit(X_train, y_train)\n",
    "\n",
    "print(\"model score: %.3f\" % lr_clf.score(X_test, y_test))\n",
    "\n",
    "end = time.time()\n",
    "\n",
    "print(\"Over all time taken : \", end-start)"
   ]
  },
  {
   "cell_type": "markdown",
   "metadata": {},
   "source": [
    "<h2> Hyperparameter tuning of logistic Regression using Gridsearch and  pipeline for feature engineering : Best Model Score : 89.4% Training time: 1Hr 17 min<\\h2>"
   ]
  },
  {
   "cell_type": "code",
   "execution_count": 183,
   "metadata": {},
   "outputs": [
    {
     "name": "stdout",
     "output_type": "stream",
     "text": [
      "best logistic regression from grid search: 0.894\n",
      "Training time taken :  4674.489832162857\n"
     ]
    }
   ],
   "source": [
    "param_grid = {\n",
    "    'preprocessor__num__imputer__strategy': ['mean', 'median'],\n",
    "    'classifier__C': [0.1, 1.0, 10, 100],\n",
    "    'classifier__max_iter': [150,200,500,650,]\n",
    "}\n",
    "start = time.time()\n",
    "\n",
    "lr_grid_clf = GridSearchCV(lr_clf, param_grid, cv=10)\n",
    "lr_grid_clf.fit(X_train, y_train)\n",
    "\n",
    "print((\"best logistic regression from grid search: %.3f\" % lr_grid_clf.score(X_test, y_test)))\n",
    "\n",
    "end = time.time()\n",
    "\n",
    "print(\"Training time taken : \", end-start)"
   ]
  },
  {
   "cell_type": "markdown",
   "metadata": {},
   "source": [
    "<h2> Best logistic Regression Model Scores and confusion matrix<\\h2>"
   ]
  },
  {
   "cell_type": "code",
   "execution_count": 184,
   "metadata": {},
   "outputs": [
    {
     "name": "stdout",
     "output_type": "stream",
     "text": [
      "Predicting time taken :  0.9030518531799316\n"
     ]
    }
   ],
   "source": [
    "start = time.time()\n",
    "\n",
    "y_pred = lr_grid_clf.predict(X_test)\n",
    "\n",
    "end = time.time()\n",
    "\n",
    "print(\"Predicting time taken : \", end-start)"
   ]
  },
  {
   "cell_type": "code",
   "execution_count": 185,
   "metadata": {},
   "outputs": [
    {
     "name": "stdout",
     "output_type": "stream",
     "text": [
      "Accuracy Score : 0.8938451094642756\n",
      "Precision Score : 0.9160480391775817\n",
      "Recall Score : 0.936690247198156\n",
      "F1 Score : 0.926254151028669\n",
      "Confusion Matrix : \n",
      "[[ 8032  2160]\n",
      " [ 1593 23569]]\n"
     ]
    }
   ],
   "source": [
    "# Model Evaluation metrics \n",
    "from sklearn.metrics import accuracy_score,recall_score,precision_score,f1_score\n",
    "\n",
    "print('Accuracy Score : ' + str(accuracy_score(y_test,y_pred)))\n",
    "print('Precision Score : ' + str(precision_score(y_test,y_pred,pos_label='white')))\n",
    "print('Recall Score : ' + str(recall_score(y_test,y_pred,pos_label='white')))\n",
    "print('F1 Score : ' + str(f1_score(y_test,y_pred,pos_label='white')))\n",
    "\n",
    "#Dummy Classifier Confusion matrix\n",
    "from sklearn.metrics import confusion_matrix\n",
    "print('Confusion Matrix : \\n' + str(confusion_matrix(y_test,y_pred)))"
   ]
  },
  {
   "cell_type": "markdown",
   "metadata": {},
   "source": [
    "<h2> Best logistic Regression Model's hyper parametrs<\\h2>"
   ]
  },
  {
   "cell_type": "code",
   "execution_count": 52,
   "metadata": {},
   "outputs": [
    {
     "data": {
      "text/plain": [
       "{'classifier__C': 100,\n",
       " 'classifier__max_iter': 500,\n",
       " 'preprocessor__num__imputer__strategy': 'mean'}"
      ]
     },
     "execution_count": 52,
     "metadata": {},
     "output_type": "execute_result"
    }
   ],
   "source": [
    "lr_grid_clf.best_params_"
   ]
  },
  {
   "cell_type": "markdown",
   "metadata": {},
   "source": [
    "<h2> Top 10 logistic Regression Model with Scores and hyperparameter<\\h2>"
   ]
  },
  {
   "cell_type": "code",
   "execution_count": 53,
   "metadata": {},
   "outputs": [
    {
     "data": {
      "text/html": [
       "<div>\n",
       "<style scoped>\n",
       "    .dataframe tbody tr th:only-of-type {\n",
       "        vertical-align: middle;\n",
       "    }\n",
       "\n",
       "    .dataframe tbody tr th {\n",
       "        vertical-align: top;\n",
       "    }\n",
       "\n",
       "    .dataframe thead th {\n",
       "        text-align: right;\n",
       "    }\n",
       "</style>\n",
       "<table border=\"1\" class=\"dataframe\">\n",
       "  <thead>\n",
       "    <tr style=\"text-align: right;\">\n",
       "      <th></th>\n",
       "      <th>mean_fit_time</th>\n",
       "      <th>std_fit_time</th>\n",
       "      <th>mean_score_time</th>\n",
       "      <th>std_score_time</th>\n",
       "      <th>param_classifier__C</th>\n",
       "      <th>param_classifier__max_iter</th>\n",
       "      <th>param_preprocessor__num__imputer__strategy</th>\n",
       "      <th>params</th>\n",
       "      <th>split0_test_score</th>\n",
       "      <th>split1_test_score</th>\n",
       "      <th>...</th>\n",
       "      <th>split3_test_score</th>\n",
       "      <th>split4_test_score</th>\n",
       "      <th>split5_test_score</th>\n",
       "      <th>split6_test_score</th>\n",
       "      <th>split7_test_score</th>\n",
       "      <th>split8_test_score</th>\n",
       "      <th>split9_test_score</th>\n",
       "      <th>mean_test_score</th>\n",
       "      <th>std_test_score</th>\n",
       "      <th>rank_test_score</th>\n",
       "    </tr>\n",
       "  </thead>\n",
       "  <tbody>\n",
       "    <tr>\n",
       "      <th>23</th>\n",
       "      <td>20.0071</td>\n",
       "      <td>0.891928</td>\n",
       "      <td>0.735342</td>\n",
       "      <td>0.0164937</td>\n",
       "      <td>100</td>\n",
       "      <td>500</td>\n",
       "      <td>median</td>\n",
       "      <td>{'classifier__C': 100, 'classifier__max_iter':...</td>\n",
       "      <td>0.894211</td>\n",
       "      <td>0.892042</td>\n",
       "      <td>...</td>\n",
       "      <td>0.889779</td>\n",
       "      <td>0.890345</td>\n",
       "      <td>0.893079</td>\n",
       "      <td>0.891194</td>\n",
       "      <td>0.892325</td>\n",
       "      <td>0.891005</td>\n",
       "      <td>0.887977</td>\n",
       "      <td>0.891475</td>\n",
       "      <td>0.00171857</td>\n",
       "      <td>1</td>\n",
       "    </tr>\n",
       "    <tr>\n",
       "      <th>22</th>\n",
       "      <td>19.0902</td>\n",
       "      <td>0.215028</td>\n",
       "      <td>0.771144</td>\n",
       "      <td>0.0182901</td>\n",
       "      <td>100</td>\n",
       "      <td>500</td>\n",
       "      <td>mean</td>\n",
       "      <td>{'classifier__C': 100, 'classifier__max_iter':...</td>\n",
       "      <td>0.894211</td>\n",
       "      <td>0.892042</td>\n",
       "      <td>...</td>\n",
       "      <td>0.889779</td>\n",
       "      <td>0.890345</td>\n",
       "      <td>0.893079</td>\n",
       "      <td>0.891194</td>\n",
       "      <td>0.892325</td>\n",
       "      <td>0.891005</td>\n",
       "      <td>0.887977</td>\n",
       "      <td>0.891475</td>\n",
       "      <td>0.00171857</td>\n",
       "      <td>1</td>\n",
       "    </tr>\n",
       "    <tr>\n",
       "      <th>21</th>\n",
       "      <td>9.11492</td>\n",
       "      <td>0.129242</td>\n",
       "      <td>0.772944</td>\n",
       "      <td>0.013413</td>\n",
       "      <td>100</td>\n",
       "      <td>200</td>\n",
       "      <td>median</td>\n",
       "      <td>{'classifier__C': 100, 'classifier__max_iter':...</td>\n",
       "      <td>0.891854</td>\n",
       "      <td>0.888459</td>\n",
       "      <td>...</td>\n",
       "      <td>0.889591</td>\n",
       "      <td>0.890722</td>\n",
       "      <td>0.891571</td>\n",
       "      <td>0.892231</td>\n",
       "      <td>0.895437</td>\n",
       "      <td>0.891759</td>\n",
       "      <td>0.890146</td>\n",
       "      <td>0.891447</td>\n",
       "      <td>0.00181587</td>\n",
       "      <td>3</td>\n",
       "    </tr>\n",
       "    <tr>\n",
       "      <th>20</th>\n",
       "      <td>9.00702</td>\n",
       "      <td>0.120666</td>\n",
       "      <td>0.761744</td>\n",
       "      <td>0.00839158</td>\n",
       "      <td>100</td>\n",
       "      <td>200</td>\n",
       "      <td>mean</td>\n",
       "      <td>{'classifier__C': 100, 'classifier__max_iter':...</td>\n",
       "      <td>0.891854</td>\n",
       "      <td>0.888459</td>\n",
       "      <td>...</td>\n",
       "      <td>0.889591</td>\n",
       "      <td>0.890722</td>\n",
       "      <td>0.891571</td>\n",
       "      <td>0.892231</td>\n",
       "      <td>0.895437</td>\n",
       "      <td>0.891759</td>\n",
       "      <td>0.890146</td>\n",
       "      <td>0.891447</td>\n",
       "      <td>0.00181587</td>\n",
       "      <td>3</td>\n",
       "    </tr>\n",
       "    <tr>\n",
       "      <th>17</th>\n",
       "      <td>19.21</td>\n",
       "      <td>0.181056</td>\n",
       "      <td>0.763144</td>\n",
       "      <td>0.0132103</td>\n",
       "      <td>10</td>\n",
       "      <td>500</td>\n",
       "      <td>median</td>\n",
       "      <td>{'classifier__C': 10, 'classifier__max_iter': ...</td>\n",
       "      <td>0.892042</td>\n",
       "      <td>0.889779</td>\n",
       "      <td>...</td>\n",
       "      <td>0.889025</td>\n",
       "      <td>0.888931</td>\n",
       "      <td>0.891288</td>\n",
       "      <td>0.888365</td>\n",
       "      <td>0.892137</td>\n",
       "      <td>0.890251</td>\n",
       "      <td>0.887317</td>\n",
       "      <td>0.890071</td>\n",
       "      <td>0.00157756</td>\n",
       "      <td>5</td>\n",
       "    </tr>\n",
       "    <tr>\n",
       "      <th>16</th>\n",
       "      <td>19.1232</td>\n",
       "      <td>0.158518</td>\n",
       "      <td>0.753343</td>\n",
       "      <td>0.00462734</td>\n",
       "      <td>10</td>\n",
       "      <td>500</td>\n",
       "      <td>mean</td>\n",
       "      <td>{'classifier__C': 10, 'classifier__max_iter': ...</td>\n",
       "      <td>0.892042</td>\n",
       "      <td>0.889779</td>\n",
       "      <td>...</td>\n",
       "      <td>0.889025</td>\n",
       "      <td>0.888931</td>\n",
       "      <td>0.891288</td>\n",
       "      <td>0.888365</td>\n",
       "      <td>0.892137</td>\n",
       "      <td>0.890251</td>\n",
       "      <td>0.887317</td>\n",
       "      <td>0.890071</td>\n",
       "      <td>0.00157756</td>\n",
       "      <td>5</td>\n",
       "    </tr>\n",
       "    <tr>\n",
       "      <th>15</th>\n",
       "      <td>9.20563</td>\n",
       "      <td>0.293433</td>\n",
       "      <td>0.750243</td>\n",
       "      <td>0.0115574</td>\n",
       "      <td>10</td>\n",
       "      <td>200</td>\n",
       "      <td>median</td>\n",
       "      <td>{'classifier__C': 10, 'classifier__max_iter': ...</td>\n",
       "      <td>0.891005</td>\n",
       "      <td>0.891477</td>\n",
       "      <td>...</td>\n",
       "      <td>0.889591</td>\n",
       "      <td>0.888554</td>\n",
       "      <td>0.891571</td>\n",
       "      <td>0.885442</td>\n",
       "      <td>0.889779</td>\n",
       "      <td>0.890439</td>\n",
       "      <td>0.887694</td>\n",
       "      <td>0.889609</td>\n",
       "      <td>0.00181661</td>\n",
       "      <td>7</td>\n",
       "    </tr>\n",
       "    <tr>\n",
       "      <th>14</th>\n",
       "      <td>9.71246</td>\n",
       "      <td>0.488718</td>\n",
       "      <td>0.807246</td>\n",
       "      <td>0.0698335</td>\n",
       "      <td>10</td>\n",
       "      <td>200</td>\n",
       "      <td>mean</td>\n",
       "      <td>{'classifier__C': 10, 'classifier__max_iter': ...</td>\n",
       "      <td>0.891005</td>\n",
       "      <td>0.891477</td>\n",
       "      <td>...</td>\n",
       "      <td>0.889591</td>\n",
       "      <td>0.888554</td>\n",
       "      <td>0.891571</td>\n",
       "      <td>0.885442</td>\n",
       "      <td>0.889779</td>\n",
       "      <td>0.890439</td>\n",
       "      <td>0.887694</td>\n",
       "      <td>0.889609</td>\n",
       "      <td>0.00181661</td>\n",
       "      <td>7</td>\n",
       "    </tr>\n",
       "    <tr>\n",
       "      <th>19</th>\n",
       "      <td>5.73903</td>\n",
       "      <td>0.0730125</td>\n",
       "      <td>0.770344</td>\n",
       "      <td>0.0150677</td>\n",
       "      <td>100</td>\n",
       "      <td>100</td>\n",
       "      <td>median</td>\n",
       "      <td>{'classifier__C': 100, 'classifier__max_iter':...</td>\n",
       "      <td>0.890628</td>\n",
       "      <td>0.888177</td>\n",
       "      <td>...</td>\n",
       "      <td>0.886385</td>\n",
       "      <td>0.891194</td>\n",
       "      <td>0.891571</td>\n",
       "      <td>0.886291</td>\n",
       "      <td>0.888459</td>\n",
       "      <td>0.886574</td>\n",
       "      <td>0.884111</td>\n",
       "      <td>0.888373</td>\n",
       "      <td>0.00238516</td>\n",
       "      <td>9</td>\n",
       "    </tr>\n",
       "    <tr>\n",
       "      <th>18</th>\n",
       "      <td>5.83523</td>\n",
       "      <td>0.294218</td>\n",
       "      <td>0.782745</td>\n",
       "      <td>0.0560408</td>\n",
       "      <td>100</td>\n",
       "      <td>100</td>\n",
       "      <td>mean</td>\n",
       "      <td>{'classifier__C': 100, 'classifier__max_iter':...</td>\n",
       "      <td>0.890628</td>\n",
       "      <td>0.888177</td>\n",
       "      <td>...</td>\n",
       "      <td>0.886385</td>\n",
       "      <td>0.891194</td>\n",
       "      <td>0.891571</td>\n",
       "      <td>0.886291</td>\n",
       "      <td>0.888459</td>\n",
       "      <td>0.886574</td>\n",
       "      <td>0.884111</td>\n",
       "      <td>0.888373</td>\n",
       "      <td>0.00238516</td>\n",
       "      <td>9</td>\n",
       "    </tr>\n",
       "  </tbody>\n",
       "</table>\n",
       "<p>10 rows × 21 columns</p>\n",
       "</div>"
      ],
      "text/plain": [
       "   mean_fit_time std_fit_time mean_score_time std_score_time  \\\n",
       "23       20.0071     0.891928        0.735342      0.0164937   \n",
       "22       19.0902     0.215028        0.771144      0.0182901   \n",
       "21       9.11492     0.129242        0.772944       0.013413   \n",
       "20       9.00702     0.120666        0.761744     0.00839158   \n",
       "17         19.21     0.181056        0.763144      0.0132103   \n",
       "16       19.1232     0.158518        0.753343     0.00462734   \n",
       "15       9.20563     0.293433        0.750243      0.0115574   \n",
       "14       9.71246     0.488718        0.807246      0.0698335   \n",
       "19       5.73903    0.0730125        0.770344      0.0150677   \n",
       "18       5.83523     0.294218        0.782745      0.0560408   \n",
       "\n",
       "   param_classifier__C param_classifier__max_iter  \\\n",
       "23                 100                        500   \n",
       "22                 100                        500   \n",
       "21                 100                        200   \n",
       "20                 100                        200   \n",
       "17                  10                        500   \n",
       "16                  10                        500   \n",
       "15                  10                        200   \n",
       "14                  10                        200   \n",
       "19                 100                        100   \n",
       "18                 100                        100   \n",
       "\n",
       "   param_preprocessor__num__imputer__strategy  \\\n",
       "23                                     median   \n",
       "22                                       mean   \n",
       "21                                     median   \n",
       "20                                       mean   \n",
       "17                                     median   \n",
       "16                                       mean   \n",
       "15                                     median   \n",
       "14                                       mean   \n",
       "19                                     median   \n",
       "18                                       mean   \n",
       "\n",
       "                                               params split0_test_score  \\\n",
       "23  {'classifier__C': 100, 'classifier__max_iter':...          0.894211   \n",
       "22  {'classifier__C': 100, 'classifier__max_iter':...          0.894211   \n",
       "21  {'classifier__C': 100, 'classifier__max_iter':...          0.891854   \n",
       "20  {'classifier__C': 100, 'classifier__max_iter':...          0.891854   \n",
       "17  {'classifier__C': 10, 'classifier__max_iter': ...          0.892042   \n",
       "16  {'classifier__C': 10, 'classifier__max_iter': ...          0.892042   \n",
       "15  {'classifier__C': 10, 'classifier__max_iter': ...          0.891005   \n",
       "14  {'classifier__C': 10, 'classifier__max_iter': ...          0.891005   \n",
       "19  {'classifier__C': 100, 'classifier__max_iter':...          0.890628   \n",
       "18  {'classifier__C': 100, 'classifier__max_iter':...          0.890628   \n",
       "\n",
       "   split1_test_score  ... split3_test_score split4_test_score  \\\n",
       "23          0.892042  ...          0.889779          0.890345   \n",
       "22          0.892042  ...          0.889779          0.890345   \n",
       "21          0.888459  ...          0.889591          0.890722   \n",
       "20          0.888459  ...          0.889591          0.890722   \n",
       "17          0.889779  ...          0.889025          0.888931   \n",
       "16          0.889779  ...          0.889025          0.888931   \n",
       "15          0.891477  ...          0.889591          0.888554   \n",
       "14          0.891477  ...          0.889591          0.888554   \n",
       "19          0.888177  ...          0.886385          0.891194   \n",
       "18          0.888177  ...          0.886385          0.891194   \n",
       "\n",
       "   split5_test_score split6_test_score split7_test_score split8_test_score  \\\n",
       "23          0.893079          0.891194          0.892325          0.891005   \n",
       "22          0.893079          0.891194          0.892325          0.891005   \n",
       "21          0.891571          0.892231          0.895437          0.891759   \n",
       "20          0.891571          0.892231          0.895437          0.891759   \n",
       "17          0.891288          0.888365          0.892137          0.890251   \n",
       "16          0.891288          0.888365          0.892137          0.890251   \n",
       "15          0.891571          0.885442          0.889779          0.890439   \n",
       "14          0.891571          0.885442          0.889779          0.890439   \n",
       "19          0.891571          0.886291          0.888459          0.886574   \n",
       "18          0.891571          0.886291          0.888459          0.886574   \n",
       "\n",
       "   split9_test_score mean_test_score std_test_score rank_test_score  \n",
       "23          0.887977        0.891475     0.00171857               1  \n",
       "22          0.887977        0.891475     0.00171857               1  \n",
       "21          0.890146        0.891447     0.00181587               3  \n",
       "20          0.890146        0.891447     0.00181587               3  \n",
       "17          0.887317        0.890071     0.00157756               5  \n",
       "16          0.887317        0.890071     0.00157756               5  \n",
       "15          0.887694        0.889609     0.00181661               7  \n",
       "14          0.887694        0.889609     0.00181661               7  \n",
       "19          0.884111        0.888373     0.00238516               9  \n",
       "18          0.884111        0.888373     0.00238516               9  \n",
       "\n",
       "[10 rows x 21 columns]"
      ]
     },
     "execution_count": 53,
     "metadata": {},
     "output_type": "execute_result"
    }
   ],
   "source": [
    "lr_grid_clf_results = pd.DataFrame.from_dict(lr_grid_clf.cv_results_,orient='index').transpose().sort_values(['rank_test_score'])\n",
    "\n",
    "lr_grid_clf_results[:10]"
   ]
  },
  {
   "cell_type": "markdown",
   "metadata": {},
   "source": [
    "<h2>Base Random Forest classifier with pipeline for feature engineering : accuracy score :91.5 time taken:21 min <\\h2>"
   ]
  },
  {
   "cell_type": "code",
   "execution_count": 55,
   "metadata": {},
   "outputs": [
    {
     "name": "stdout",
     "output_type": "stream",
     "text": [
      "Parameters currently in use:\n",
      "\n",
      "{'bootstrap': True,\n",
      " 'ccp_alpha': 0.0,\n",
      " 'class_weight': None,\n",
      " 'criterion': 'gini',\n",
      " 'max_depth': None,\n",
      " 'max_features': 'auto',\n",
      " 'max_leaf_nodes': None,\n",
      " 'max_samples': None,\n",
      " 'min_impurity_decrease': 0.0,\n",
      " 'min_impurity_split': None,\n",
      " 'min_samples_leaf': 1,\n",
      " 'min_samples_split': 2,\n",
      " 'min_weight_fraction_leaf': 0.0,\n",
      " 'n_estimators': 100,\n",
      " 'n_jobs': None,\n",
      " 'oob_score': False,\n",
      " 'random_state': None,\n",
      " 'verbose': 0,\n",
      " 'warm_start': False}\n",
      "Accuracy Score : 0.9156531085591446\n",
      "Overall time taken :  1286.8735539913177\n"
     ]
    }
   ],
   "source": [
    "from sklearn.ensemble import RandomForestClassifier\n",
    "from pprint import pprint\n",
    "clf = RandomForestClassifier()\n",
    "# Look at parameters used by our current forest\n",
    "print('Parameters currently in use:\\n')\n",
    "pprint(clf.get_params())\n",
    "\n",
    "rf_clf = Pipeline(steps=[('preprocessor', preprocessor),\n",
    "                      ('classifier', RandomForestClassifier())])\n",
    "start = time.time()\n",
    "\n",
    "rf_clf.fit(X_train,y_train)\n",
    "y_pred_rf = rf_clf.predict(X_test)\n",
    "\n",
    "print('Accuracy Score : ' + str(accuracy_score(y_test,y_pred_rf)))\n",
    "\n",
    "end = time.time()\n",
    "\n",
    "print(\"Overall time taken : \", end-start)"
   ]
  },
  {
   "cell_type": "markdown",
   "metadata": {},
   "source": [
    "<h2>Hyper-parameter tuning for random forest classifier <\\h2>"
   ]
  },
  {
   "cell_type": "code",
   "execution_count": 56,
   "metadata": {},
   "outputs": [
    {
     "name": "stdout",
     "output_type": "stream",
     "text": [
      "{'classifier__bootstrap': [True, False],\n",
      " 'classifier__max_depth': [10, 20, 30, 40, 50, 60, 70, 80, 90, 100, 110, None],\n",
      " 'classifier__max_features': ['auto', 'sqrt'],\n",
      " 'classifier__min_samples_leaf': [1, 2, 4],\n",
      " 'classifier__min_samples_split': [2, 5, 10],\n",
      " 'preprocessor__num__imputer__strategy': ['mean', 'median']}\n"
     ]
    }
   ],
   "source": [
    "# Number of trees in random forest\n",
    "n_estimators = [int(x) for x in np.linspace(start = 200, stop = 2000, num = 10)]\n",
    "\n",
    "# Number of features to consider at every split\n",
    "max_features = ['auto', 'sqrt']\n",
    "\n",
    "# Maximum number of levels in tree\n",
    "max_depth = [int(x) for x in np.linspace(10, 110, num = 11)]\n",
    "max_depth.append(None)\n",
    "#max_depth = [5, 8, 15, 25, 30]\n",
    "\n",
    "# Minimum number of samples required to split a node\n",
    "min_samples_split = [2, 5, 10]\n",
    "\n",
    "# Minimum number of samples required at each leaf node\n",
    "min_samples_leaf = [1, 2, 4]\n",
    "\n",
    "# Method of selecting samples for training each tree\n",
    "bootstrap = [True, False]\n",
    "\n",
    "# \n",
    "# Create the random grid\n",
    "random_grid = {\n",
    "               'classifier__max_features': max_features,\n",
    "               'classifier__max_depth': max_depth,\n",
    "               'classifier__min_samples_split': min_samples_split,\n",
    "               'classifier__min_samples_leaf': min_samples_leaf,\n",
    "               'classifier__bootstrap': bootstrap,\n",
    "               'preprocessor__num__imputer__strategy': ['mean', 'median']}\n",
    "pprint(random_grid)\n",
    "\n",
    "\n"
   ]
  },
  {
   "cell_type": "markdown",
   "metadata": {},
   "source": [
    "<h2>Random Forest classifier with Auto transformation of columns using random search with prameter grid and pipeline for feature engineering : accuracy score : 92% Training time :1 Hr 47 Min <\\h2>"
   ]
  },
  {
   "cell_type": "code",
   "execution_count": 49,
   "metadata": {},
   "outputs": [
    {
     "ename": "NameError",
     "evalue": "name 'random_grid' is not defined",
     "output_type": "error",
     "traceback": [
      "\u001b[1;31m---------------------------------------------------------------------------\u001b[0m",
      "\u001b[1;31mNameError\u001b[0m                                 Traceback (most recent call last)",
      "\u001b[1;32m<ipython-input-49-f37484310b72>\u001b[0m in \u001b[0;36m<module>\u001b[1;34m\u001b[0m\n\u001b[0;32m     17\u001b[0m \u001b[1;31m# Random search of parameters, using 3 fold cross validation,\u001b[0m\u001b[1;33m\u001b[0m\u001b[1;33m\u001b[0m\u001b[1;33m\u001b[0m\u001b[0m\n\u001b[0;32m     18\u001b[0m \u001b[1;31m# search across 100 different combinations, and use all available cores\u001b[0m\u001b[1;33m\u001b[0m\u001b[1;33m\u001b[0m\u001b[1;33m\u001b[0m\u001b[0m\n\u001b[1;32m---> 19\u001b[1;33m \u001b[0mrf_rs_clf\u001b[0m \u001b[1;33m=\u001b[0m \u001b[0mRandomizedSearchCV\u001b[0m\u001b[1;33m(\u001b[0m\u001b[0mrf_clf\u001b[0m\u001b[1;33m,\u001b[0m\u001b[0mparam_distributions\u001b[0m\u001b[1;33m=\u001b[0m\u001b[0mrandom_grid\u001b[0m\u001b[1;33m,\u001b[0m \u001b[0mn_iter\u001b[0m \u001b[1;33m=\u001b[0m \u001b[1;36m100\u001b[0m\u001b[1;33m,\u001b[0m \u001b[0mcv\u001b[0m \u001b[1;33m=\u001b[0m \u001b[1;36m3\u001b[0m\u001b[1;33m,\u001b[0m \u001b[0mverbose\u001b[0m\u001b[1;33m=\u001b[0m\u001b[1;36m2\u001b[0m\u001b[1;33m,\u001b[0m \u001b[0mrandom_state\u001b[0m\u001b[1;33m=\u001b[0m\u001b[1;36m42\u001b[0m\u001b[1;33m,\u001b[0m \u001b[0mn_jobs\u001b[0m \u001b[1;33m=\u001b[0m \u001b[1;33m-\u001b[0m\u001b[1;36m1\u001b[0m\u001b[1;33m)\u001b[0m\u001b[1;33m\u001b[0m\u001b[1;33m\u001b[0m\u001b[0m\n\u001b[0m\u001b[0;32m     20\u001b[0m \u001b[1;33m\u001b[0m\u001b[0m\n\u001b[0;32m     21\u001b[0m \u001b[1;31m# Fit the random search model\u001b[0m\u001b[1;33m\u001b[0m\u001b[1;33m\u001b[0m\u001b[1;33m\u001b[0m\u001b[0m\n",
      "\u001b[1;31mNameError\u001b[0m: name 'random_grid' is not defined"
     ]
    }
   ],
   "source": [
    "# Use the random grid to search for best hyperparameters\n",
    "\n",
    "from sklearn.compose import make_column_selector as selector\n",
    "from sklearn.model_selection import RandomizedSearchCV\n",
    "\n",
    "\n",
    "preprocessor = ColumnTransformer(transformers=[\n",
    "    ('num', numeric_transformer, selector(dtype_exclude=\"category\")),\n",
    "    ('cat', categorical_transformer, selector(dtype_include=\"category\"))])\n",
    "\n",
    "\n",
    "rf_clf = Pipeline(steps=[('preprocessor', preprocessor),\n",
    "                      ('classifier', RandomForestClassifier())])\n",
    "\n",
    "strat = time.time()\n",
    "\n",
    "# Random search of parameters, using 3 fold cross validation, \n",
    "# search across 100 different combinations, and use all available cores\n",
    "rf_rs_clf = RandomizedSearchCV(rf_clf,param_distributions=random_grid, n_iter = 100, cv = 3, verbose=2, random_state=42, n_jobs = -1)\n",
    "\n",
    "# Fit the random search model\n",
    "rf_rs_clf.fit(X_train, y_train)\n",
    "\n",
    "end = time.time()\n",
    "\n",
    "print(\"Training time taken : \", end-start)"
   ]
  },
  {
   "cell_type": "markdown",
   "metadata": {},
   "source": [
    "<h2>Best Random Forest classifier scores and confusion matrix <\\h2>"
   ]
  },
  {
   "cell_type": "code",
   "execution_count": 58,
   "metadata": {},
   "outputs": [
    {
     "name": "stdout",
     "output_type": "stream",
     "text": [
      "Prediction time taken :  11.82067608833313\n",
      "best Random Forest Classifier from grid search: 0.920\n",
      "Accuracy Score : 0.9199241952820049\n",
      "Accuracy Score : 0.9199241952820049\n",
      "Precision Score : 0.9423545872476514\n",
      "Recall Score : 0.944355420238763\n",
      "F1 Score : 0.9433539428136943\n",
      "Confusion Matrix : \n",
      "[[ 8950  1442]\n",
      " [ 1389 23573]]\n"
     ]
    }
   ],
   "source": [
    "start=time.time()\n",
    "\n",
    "y_pred_rf2 = rf_rs_clf.predict(X_test)\n",
    "\n",
    "end = time.time()\n",
    "\n",
    "print(\"Prediction time taken : \", end-start)\n",
    "\n",
    "print((\"best Random Forest Classifier from grid search: %.3f\" % rf_rs_clf.score(X_test, y_test)))\n",
    "\n",
    "print('Accuracy Score : ' + str(accuracy_score(y_test,y_pred_rf2)))\n",
    "print('Accuracy Score : ' + str(accuracy_score(y_test,y_pred_rf2)))\n",
    "print('Precision Score : ' + str(precision_score(y_test,y_pred_rf2,pos_label='white')))\n",
    "print('Recall Score : ' + str(recall_score(y_test,y_pred_rf2,pos_label='white')))\n",
    "print('F1 Score : ' + str(f1_score(y_test,y_pred_rf2,pos_label='white')))\n",
    "\n",
    "#Dummy Classifier Confusion matrix\n",
    "from sklearn.metrics import confusion_matrix\n",
    "print('Confusion Matrix : \\n' + str(confusion_matrix(y_test,y_pred_rf2)))\n"
   ]
  },
  {
   "cell_type": "markdown",
   "metadata": {},
   "source": [
    "<h2>Best Random Forest classifier parameters <\\h2>"
   ]
  },
  {
   "cell_type": "code",
   "execution_count": 59,
   "metadata": {},
   "outputs": [
    {
     "data": {
      "text/html": [
       "<div>\n",
       "<style scoped>\n",
       "    .dataframe tbody tr th:only-of-type {\n",
       "        vertical-align: middle;\n",
       "    }\n",
       "\n",
       "    .dataframe tbody tr th {\n",
       "        vertical-align: top;\n",
       "    }\n",
       "\n",
       "    .dataframe thead th {\n",
       "        text-align: right;\n",
       "    }\n",
       "</style>\n",
       "<table border=\"1\" class=\"dataframe\">\n",
       "  <thead>\n",
       "    <tr style=\"text-align: right;\">\n",
       "      <th></th>\n",
       "      <th>preprocessor__num__imputer__strategy</th>\n",
       "      <th>classifier__min_samples_split</th>\n",
       "      <th>classifier__min_samples_leaf</th>\n",
       "      <th>classifier__max_features</th>\n",
       "      <th>classifier__max_depth</th>\n",
       "      <th>classifier__bootstrap</th>\n",
       "    </tr>\n",
       "  </thead>\n",
       "  <tbody>\n",
       "    <tr>\n",
       "      <th>0</th>\n",
       "      <td>median</td>\n",
       "      <td>5</td>\n",
       "      <td>1</td>\n",
       "      <td>sqrt</td>\n",
       "      <td>None</td>\n",
       "      <td>False</td>\n",
       "    </tr>\n",
       "  </tbody>\n",
       "</table>\n",
       "</div>"
      ],
      "text/plain": [
       "  preprocessor__num__imputer__strategy  classifier__min_samples_split  \\\n",
       "0                               median                              5   \n",
       "\n",
       "   classifier__min_samples_leaf classifier__max_features  \\\n",
       "0                             1                     sqrt   \n",
       "\n",
       "  classifier__max_depth  classifier__bootstrap  \n",
       "0                  None                  False  "
      ]
     },
     "execution_count": 59,
     "metadata": {},
     "output_type": "execute_result"
    }
   ],
   "source": [
    "pd.DataFrame([rf_rs_clf.best_params_])"
   ]
  },
  {
   "cell_type": "markdown",
   "metadata": {},
   "source": [
    "<h2>Top 10 Random Forest classifier scores and ranking <\\h2>"
   ]
  },
  {
   "cell_type": "code",
   "execution_count": 60,
   "metadata": {},
   "outputs": [
    {
     "data": {
      "text/html": [
       "<div>\n",
       "<style scoped>\n",
       "    .dataframe tbody tr th:only-of-type {\n",
       "        vertical-align: middle;\n",
       "    }\n",
       "\n",
       "    .dataframe tbody tr th {\n",
       "        vertical-align: top;\n",
       "    }\n",
       "\n",
       "    .dataframe thead th {\n",
       "        text-align: right;\n",
       "    }\n",
       "</style>\n",
       "<table border=\"1\" class=\"dataframe\">\n",
       "  <thead>\n",
       "    <tr style=\"text-align: right;\">\n",
       "      <th></th>\n",
       "      <th>mean_fit_time</th>\n",
       "      <th>std_fit_time</th>\n",
       "      <th>mean_score_time</th>\n",
       "      <th>std_score_time</th>\n",
       "      <th>param_preprocessor__num__imputer__strategy</th>\n",
       "      <th>param_classifier__min_samples_split</th>\n",
       "      <th>param_classifier__min_samples_leaf</th>\n",
       "      <th>param_classifier__max_features</th>\n",
       "      <th>param_classifier__max_depth</th>\n",
       "      <th>param_classifier__bootstrap</th>\n",
       "      <th>params</th>\n",
       "      <th>split0_test_score</th>\n",
       "      <th>split1_test_score</th>\n",
       "      <th>split2_test_score</th>\n",
       "      <th>mean_test_score</th>\n",
       "      <th>std_test_score</th>\n",
       "      <th>rank_test_score</th>\n",
       "    </tr>\n",
       "  </thead>\n",
       "  <tbody>\n",
       "    <tr>\n",
       "      <th>17</th>\n",
       "      <td>1074.68</td>\n",
       "      <td>11.8561</td>\n",
       "      <td>15.3299</td>\n",
       "      <td>0.651642</td>\n",
       "      <td>median</td>\n",
       "      <td>5</td>\n",
       "      <td>1</td>\n",
       "      <td>sqrt</td>\n",
       "      <td>None</td>\n",
       "      <td>False</td>\n",
       "      <td>{'preprocessor__num__imputer__strategy': 'medi...</td>\n",
       "      <td>0.915566</td>\n",
       "      <td>0.914095</td>\n",
       "      <td>0.910531</td>\n",
       "      <td>0.913397</td>\n",
       "      <td>0.00211388</td>\n",
       "      <td>1</td>\n",
       "    </tr>\n",
       "    <tr>\n",
       "      <th>57</th>\n",
       "      <td>698.744</td>\n",
       "      <td>4.22704</td>\n",
       "      <td>14.4862</td>\n",
       "      <td>0.315598</td>\n",
       "      <td>mean</td>\n",
       "      <td>5</td>\n",
       "      <td>1</td>\n",
       "      <td>sqrt</td>\n",
       "      <td>None</td>\n",
       "      <td>True</td>\n",
       "      <td>{'preprocessor__num__imputer__strategy': 'mean...</td>\n",
       "      <td>0.90923</td>\n",
       "      <td>0.908438</td>\n",
       "      <td>0.906118</td>\n",
       "      <td>0.907929</td>\n",
       "      <td>0.00132029</td>\n",
       "      <td>2</td>\n",
       "    </tr>\n",
       "    <tr>\n",
       "      <th>36</th>\n",
       "      <td>233.321</td>\n",
       "      <td>2.36551</td>\n",
       "      <td>4.51159</td>\n",
       "      <td>0.0437772</td>\n",
       "      <td>median</td>\n",
       "      <td>2</td>\n",
       "      <td>1</td>\n",
       "      <td>sqrt</td>\n",
       "      <td>110</td>\n",
       "      <td>False</td>\n",
       "      <td>{'preprocessor__num__imputer__strategy': 'medi...</td>\n",
       "      <td>0.775521</td>\n",
       "      <td>0.773032</td>\n",
       "      <td>0.777784</td>\n",
       "      <td>0.775446</td>\n",
       "      <td>0.00194076</td>\n",
       "      <td>3</td>\n",
       "    </tr>\n",
       "    <tr>\n",
       "      <th>69</th>\n",
       "      <td>126.357</td>\n",
       "      <td>1.49996</td>\n",
       "      <td>4.60126</td>\n",
       "      <td>0.052659</td>\n",
       "      <td>mean</td>\n",
       "      <td>10</td>\n",
       "      <td>1</td>\n",
       "      <td>auto</td>\n",
       "      <td>110</td>\n",
       "      <td>False</td>\n",
       "      <td>{'preprocessor__num__imputer__strategy': 'mean...</td>\n",
       "      <td>0.77142</td>\n",
       "      <td>0.773343</td>\n",
       "      <td>0.774305</td>\n",
       "      <td>0.773023</td>\n",
       "      <td>0.00119949</td>\n",
       "      <td>4</td>\n",
       "    </tr>\n",
       "    <tr>\n",
       "      <th>33</th>\n",
       "      <td>128.68</td>\n",
       "      <td>2.07131</td>\n",
       "      <td>4.45425</td>\n",
       "      <td>0.0452648</td>\n",
       "      <td>median</td>\n",
       "      <td>5</td>\n",
       "      <td>1</td>\n",
       "      <td>auto</td>\n",
       "      <td>110</td>\n",
       "      <td>True</td>\n",
       "      <td>{'preprocessor__num__imputer__strategy': 'medi...</td>\n",
       "      <td>0.772155</td>\n",
       "      <td>0.775267</td>\n",
       "      <td>0.766639</td>\n",
       "      <td>0.771354</td>\n",
       "      <td>0.00356737</td>\n",
       "      <td>5</td>\n",
       "    </tr>\n",
       "    <tr>\n",
       "      <th>...</th>\n",
       "      <td>...</td>\n",
       "      <td>...</td>\n",
       "      <td>...</td>\n",
       "      <td>...</td>\n",
       "      <td>...</td>\n",
       "      <td>...</td>\n",
       "      <td>...</td>\n",
       "      <td>...</td>\n",
       "      <td>...</td>\n",
       "      <td>...</td>\n",
       "      <td>...</td>\n",
       "      <td>...</td>\n",
       "      <td>...</td>\n",
       "      <td>...</td>\n",
       "      <td>...</td>\n",
       "      <td>...</td>\n",
       "      <td>...</td>\n",
       "    </tr>\n",
       "    <tr>\n",
       "      <th>28</th>\n",
       "      <td>11.2893</td>\n",
       "      <td>0.203777</td>\n",
       "      <td>2.25113</td>\n",
       "      <td>0.00616477</td>\n",
       "      <td>mean</td>\n",
       "      <td>10</td>\n",
       "      <td>4</td>\n",
       "      <td>sqrt</td>\n",
       "      <td>70</td>\n",
       "      <td>True</td>\n",
       "      <td>{'preprocessor__num__imputer__strategy': 'mean...</td>\n",
       "      <td>0.707521</td>\n",
       "      <td>0.707521</td>\n",
       "      <td>0.707493</td>\n",
       "      <td>0.707512</td>\n",
       "      <td>1.33342e-05</td>\n",
       "      <td>54</td>\n",
       "    </tr>\n",
       "    <tr>\n",
       "      <th>66</th>\n",
       "      <td>14.3775</td>\n",
       "      <td>0.375349</td>\n",
       "      <td>2.73882</td>\n",
       "      <td>0.0902283</td>\n",
       "      <td>median</td>\n",
       "      <td>2</td>\n",
       "      <td>4</td>\n",
       "      <td>sqrt</td>\n",
       "      <td>None</td>\n",
       "      <td>False</td>\n",
       "      <td>{'preprocessor__num__imputer__strategy': 'medi...</td>\n",
       "      <td>0.707521</td>\n",
       "      <td>0.707521</td>\n",
       "      <td>0.707493</td>\n",
       "      <td>0.707512</td>\n",
       "      <td>1.33342e-05</td>\n",
       "      <td>54</td>\n",
       "    </tr>\n",
       "    <tr>\n",
       "      <th>67</th>\n",
       "      <td>13.3834</td>\n",
       "      <td>0.27975</td>\n",
       "      <td>2.71582</td>\n",
       "      <td>0.0912279</td>\n",
       "      <td>median</td>\n",
       "      <td>5</td>\n",
       "      <td>4</td>\n",
       "      <td>auto</td>\n",
       "      <td>50</td>\n",
       "      <td>False</td>\n",
       "      <td>{'preprocessor__num__imputer__strategy': 'medi...</td>\n",
       "      <td>0.707521</td>\n",
       "      <td>0.707521</td>\n",
       "      <td>0.707493</td>\n",
       "      <td>0.707512</td>\n",
       "      <td>1.33342e-05</td>\n",
       "      <td>54</td>\n",
       "    </tr>\n",
       "    <tr>\n",
       "      <th>98</th>\n",
       "      <td>9.80323</td>\n",
       "      <td>0.578948</td>\n",
       "      <td>2.09079</td>\n",
       "      <td>0.0319843</td>\n",
       "      <td>median</td>\n",
       "      <td>2</td>\n",
       "      <td>4</td>\n",
       "      <td>auto</td>\n",
       "      <td>20</td>\n",
       "      <td>True</td>\n",
       "      <td>{'preprocessor__num__imputer__strategy': 'medi...</td>\n",
       "      <td>0.707521</td>\n",
       "      <td>0.707521</td>\n",
       "      <td>0.707493</td>\n",
       "      <td>0.707512</td>\n",
       "      <td>1.33342e-05</td>\n",
       "      <td>54</td>\n",
       "    </tr>\n",
       "    <tr>\n",
       "      <th>65</th>\n",
       "      <td>10.3919</td>\n",
       "      <td>0.308724</td>\n",
       "      <td>2.23446</td>\n",
       "      <td>0.135586</td>\n",
       "      <td>mean</td>\n",
       "      <td>2</td>\n",
       "      <td>4</td>\n",
       "      <td>sqrt</td>\n",
       "      <td>20</td>\n",
       "      <td>True</td>\n",
       "      <td>{'preprocessor__num__imputer__strategy': 'mean...</td>\n",
       "      <td>0.707521</td>\n",
       "      <td>0.707521</td>\n",
       "      <td>0.707493</td>\n",
       "      <td>0.707512</td>\n",
       "      <td>1.33342e-05</td>\n",
       "      <td>54</td>\n",
       "    </tr>\n",
       "  </tbody>\n",
       "</table>\n",
       "<p>100 rows × 17 columns</p>\n",
       "</div>"
      ],
      "text/plain": [
       "   mean_fit_time std_fit_time mean_score_time std_score_time  \\\n",
       "17       1074.68      11.8561         15.3299       0.651642   \n",
       "57       698.744      4.22704         14.4862       0.315598   \n",
       "36       233.321      2.36551         4.51159      0.0437772   \n",
       "69       126.357      1.49996         4.60126       0.052659   \n",
       "33        128.68      2.07131         4.45425      0.0452648   \n",
       "..           ...          ...             ...            ...   \n",
       "28       11.2893     0.203777         2.25113     0.00616477   \n",
       "66       14.3775     0.375349         2.73882      0.0902283   \n",
       "67       13.3834      0.27975         2.71582      0.0912279   \n",
       "98       9.80323     0.578948         2.09079      0.0319843   \n",
       "65       10.3919     0.308724         2.23446       0.135586   \n",
       "\n",
       "   param_preprocessor__num__imputer__strategy  \\\n",
       "17                                     median   \n",
       "57                                       mean   \n",
       "36                                     median   \n",
       "69                                       mean   \n",
       "33                                     median   \n",
       "..                                        ...   \n",
       "28                                       mean   \n",
       "66                                     median   \n",
       "67                                     median   \n",
       "98                                     median   \n",
       "65                                       mean   \n",
       "\n",
       "   param_classifier__min_samples_split param_classifier__min_samples_leaf  \\\n",
       "17                                   5                                  1   \n",
       "57                                   5                                  1   \n",
       "36                                   2                                  1   \n",
       "69                                  10                                  1   \n",
       "33                                   5                                  1   \n",
       "..                                 ...                                ...   \n",
       "28                                  10                                  4   \n",
       "66                                   2                                  4   \n",
       "67                                   5                                  4   \n",
       "98                                   2                                  4   \n",
       "65                                   2                                  4   \n",
       "\n",
       "   param_classifier__max_features param_classifier__max_depth  \\\n",
       "17                           sqrt                        None   \n",
       "57                           sqrt                        None   \n",
       "36                           sqrt                         110   \n",
       "69                           auto                         110   \n",
       "33                           auto                         110   \n",
       "..                            ...                         ...   \n",
       "28                           sqrt                          70   \n",
       "66                           sqrt                        None   \n",
       "67                           auto                          50   \n",
       "98                           auto                          20   \n",
       "65                           sqrt                          20   \n",
       "\n",
       "   param_classifier__bootstrap  \\\n",
       "17                       False   \n",
       "57                        True   \n",
       "36                       False   \n",
       "69                       False   \n",
       "33                        True   \n",
       "..                         ...   \n",
       "28                        True   \n",
       "66                       False   \n",
       "67                       False   \n",
       "98                        True   \n",
       "65                        True   \n",
       "\n",
       "                                               params split0_test_score  \\\n",
       "17  {'preprocessor__num__imputer__strategy': 'medi...          0.915566   \n",
       "57  {'preprocessor__num__imputer__strategy': 'mean...           0.90923   \n",
       "36  {'preprocessor__num__imputer__strategy': 'medi...          0.775521   \n",
       "69  {'preprocessor__num__imputer__strategy': 'mean...           0.77142   \n",
       "33  {'preprocessor__num__imputer__strategy': 'medi...          0.772155   \n",
       "..                                                ...               ...   \n",
       "28  {'preprocessor__num__imputer__strategy': 'mean...          0.707521   \n",
       "66  {'preprocessor__num__imputer__strategy': 'medi...          0.707521   \n",
       "67  {'preprocessor__num__imputer__strategy': 'medi...          0.707521   \n",
       "98  {'preprocessor__num__imputer__strategy': 'medi...          0.707521   \n",
       "65  {'preprocessor__num__imputer__strategy': 'mean...          0.707521   \n",
       "\n",
       "   split1_test_score split2_test_score mean_test_score std_test_score  \\\n",
       "17          0.914095          0.910531        0.913397     0.00211388   \n",
       "57          0.908438          0.906118        0.907929     0.00132029   \n",
       "36          0.773032          0.777784        0.775446     0.00194076   \n",
       "69          0.773343          0.774305        0.773023     0.00119949   \n",
       "33          0.775267          0.766639        0.771354     0.00356737   \n",
       "..               ...               ...             ...            ...   \n",
       "28          0.707521          0.707493        0.707512    1.33342e-05   \n",
       "66          0.707521          0.707493        0.707512    1.33342e-05   \n",
       "67          0.707521          0.707493        0.707512    1.33342e-05   \n",
       "98          0.707521          0.707493        0.707512    1.33342e-05   \n",
       "65          0.707521          0.707493        0.707512    1.33342e-05   \n",
       "\n",
       "   rank_test_score  \n",
       "17               1  \n",
       "57               2  \n",
       "36               3  \n",
       "69               4  \n",
       "33               5  \n",
       "..             ...  \n",
       "28              54  \n",
       "66              54  \n",
       "67              54  \n",
       "98              54  \n",
       "65              54  \n",
       "\n",
       "[100 rows x 17 columns]"
      ]
     },
     "execution_count": 60,
     "metadata": {},
     "output_type": "execute_result"
    }
   ],
   "source": [
    "results_df=pd.DataFrame.from_dict(rf_random.cv_results_,orient='index').transpose()\n",
    "\n",
    "results_df.sort_values(['rank_test_score'])"
   ]
  },
  {
   "cell_type": "markdown",
   "metadata": {},
   "source": [
    "<h2> Random Forest with removed corellated column<\\h2>"
   ]
  },
  {
   "cell_type": "code",
   "execution_count": 89,
   "metadata": {},
   "outputs": [],
   "source": [
    "from sklearn.compose import make_column_selector as selector\n",
    "\n",
    "X1 = df1.drop(['label','count'],axis=1)\n",
    "y1 = df1['label']\n",
    "\n",
    "preprocessor = ColumnTransformer(transformers=[\n",
    "    ('num', numeric_transformer, selector(dtype_exclude=\"category\")),\n",
    "    ('cat', categorical_transformer, selector(dtype_include=\"category\"))])\n",
    "\n",
    "\n",
    "\"\"\"\n",
    "numeric_features = ['length', 'weight','looped','neighbors','income']\n",
    "numeric_transformer = Pipeline(steps=[\n",
    "    ('imputer', SimpleImputer(strategy='mean')),\n",
    "    ('scaler', StandardScaler())])\n",
    "\n",
    "categorical_features = ['address', 'year', 'day']\n",
    "categorical_transformer = Pipeline(steps=[\n",
    "    ('imputer', SimpleImputer(strategy='constant')),\n",
    "    ('onehot', OneHotEncoder(handle_unknown='ignore'))])\n",
    "\n",
    "preprocessor = ColumnTransformer(\n",
    "    transformers=[\n",
    "        ('num', numeric_transformer, numeric_features),\n",
    "        ('cat', categorical_transformer, categorical_features)])\n",
    "\"\"\"\n",
    "X_train, X_test, y_train, y_test = train_test_split(X1, y1, test_size=0.25)\n",
    "\n",
    "\n"
   ]
  },
  {
   "cell_type": "code",
   "execution_count": 100,
   "metadata": {},
   "outputs": [],
   "source": [
    "from bayes_opt import BayesianOptimization\n",
    "from catboost import CatBoostClassifier, cv, Pool\n",
    "from sklearn.ensemble import RandomForestClassifier\n",
    "from sklearn.metrics import accuracy_score,recall_score,precision_score,f1_score\n",
    "\n",
    "def rf_eval(min_samples_leaf,max_depth, n_estimators,min_samples_split):\n",
    "    params = {\n",
    "            \"min_samples_leaf\" : int(min_samples_leaf),\n",
    "            \"classifier__max_depth\" : int(max_depth),\n",
    "            \"classifier__verbose\" : 0,\n",
    "            'classifier__max_features': ['auto', 'log2'],\n",
    "            'classifier__min_samples_leaf': int(min_samples_leaf),\n",
    "            'classifier__bootstrap': [True,False],\n",
    "            'classifier__n_estimators': int(n_estimators),\n",
    "            'preprocessor__num__imputer__strategy': ['mean', 'median']}\n",
    "    \n",
    "    rf_clf1 = Pipeline(steps=[('preprocessor', preprocessor),('classifier', )])\n",
    "    score = cross_val_score(rf_clf1, X_train, y_train,fit_params =params,cv=5).mean()\n",
    "    \n",
    "    print( rf_clf1)\n",
    "    return score\n",
    "\n"
   ]
  },
  {
   "cell_type": "code",
   "execution_count": 114,
   "metadata": {},
   "outputs": [
    {
     "name": "stderr",
     "output_type": "stream",
     "text": [
      "e:\\python3.8\\lib\\site-packages\\sklearn\\model_selection\\_validation.py:548: FitFailedWarning: Estimator fit failed. The score on this train-test partition for these parameters will be set to nan. Details: \n",
      "Traceback (most recent call last):\n",
      "  File \"e:\\python3.8\\lib\\site-packages\\sklearn\\model_selection\\_validation.py\", line 531, in _fit_and_score\n",
      "    estimator.fit(X_train, y_train, **fit_params)\n",
      "  File \"e:\\python3.8\\lib\\site-packages\\sklearn\\pipeline.py\", line 335, in fit\n",
      "    self._final_estimator.fit(Xt, y, **fit_params_last_step)\n",
      "TypeError: fit() got an unexpected keyword argument 'max_depth'\n",
      "\n",
      "  warnings.warn(\"Estimator fit failed. The score on this train-test\"\n",
      "e:\\python3.8\\lib\\site-packages\\sklearn\\model_selection\\_validation.py:548: FitFailedWarning: Estimator fit failed. The score on this train-test partition for these parameters will be set to nan. Details: \n",
      "Traceback (most recent call last):\n",
      "  File \"e:\\python3.8\\lib\\site-packages\\sklearn\\model_selection\\_validation.py\", line 531, in _fit_and_score\n",
      "    estimator.fit(X_train, y_train, **fit_params)\n",
      "  File \"e:\\python3.8\\lib\\site-packages\\sklearn\\pipeline.py\", line 335, in fit\n",
      "    self._final_estimator.fit(Xt, y, **fit_params_last_step)\n",
      "TypeError: fit() got an unexpected keyword argument 'max_depth'\n",
      "\n",
      "  warnings.warn(\"Estimator fit failed. The score on this train-test\"\n"
     ]
    },
    {
     "name": "stdout",
     "output_type": "stream",
     "text": [
      "nan\n"
     ]
    },
    {
     "name": "stderr",
     "output_type": "stream",
     "text": [
      "e:\\python3.8\\lib\\site-packages\\sklearn\\model_selection\\_validation.py:548: FitFailedWarning: Estimator fit failed. The score on this train-test partition for these parameters will be set to nan. Details: \n",
      "Traceback (most recent call last):\n",
      "  File \"e:\\python3.8\\lib\\site-packages\\sklearn\\model_selection\\_validation.py\", line 531, in _fit_and_score\n",
      "    estimator.fit(X_train, y_train, **fit_params)\n",
      "  File \"e:\\python3.8\\lib\\site-packages\\sklearn\\pipeline.py\", line 335, in fit\n",
      "    self._final_estimator.fit(Xt, y, **fit_params_last_step)\n",
      "TypeError: fit() got an unexpected keyword argument 'max_depth'\n",
      "\n",
      "  warnings.warn(\"Estimator fit failed. The score on this train-test\"\n"
     ]
    }
   ],
   "source": [
    "params = {\n",
    "            \n",
    "            'classifier__max_depth' : 5,\n",
    "            'classifier__verbose' : 0,\n",
    "            'classifier__max_features': ['auto', 'log2'],\n",
    "            'classifier__min_samples_leaf': 6,\n",
    "            'classifier__bootstrap': [True,False],\n",
    "            'classifier__n_estimators': 10,}\n",
    "           # 'preprocessor__num__imputer__strategy': ['mean', 'median']}\n",
    "    \n",
    "rf_clf1 = Pipeline(steps=[('preprocessor', preprocessor),('classifier',RandomForestClassifier() )])\n",
    "score = cross_val_score(rf_clf1, X_train, y_train,fit_params=params,cv=3).mean()\n",
    "print(score)"
   ]
  },
  {
   "cell_type": "code",
   "execution_count": 101,
   "metadata": {},
   "outputs": [
    {
     "name": "stdout",
     "output_type": "stream",
     "text": [
      "|   iter    |  target   | max_depth | min_sa... | min_sa... | n_esti... |\n",
      "-------------------------------------------------------------------------\n"
     ]
    },
    {
     "name": "stderr",
     "output_type": "stream",
     "text": [
      "e:\\python3.8\\lib\\site-packages\\sklearn\\model_selection\\_validation.py:548: FitFailedWarning: Estimator fit failed. The score on this train-test partition for these parameters will be set to nan. Details: \n",
      "Traceback (most recent call last):\n",
      "  File \"e:\\python3.8\\lib\\site-packages\\bayes_opt\\target_space.py\", line 191, in probe\n",
      "    target = self._cache[_hashable(x)]\n",
      "KeyError: (44.41712705222096, 11.578557361898346, 13.390406042464019, 1246.9042326885165)\n",
      "\n",
      "During handling of the above exception, another exception occurred:\n",
      "\n",
      "Traceback (most recent call last):\n",
      "  File \"e:\\python3.8\\lib\\site-packages\\sklearn\\model_selection\\_validation.py\", line 531, in _fit_and_score\n",
      "    estimator.fit(X_train, y_train, **fit_params)\n",
      "  File \"e:\\python3.8\\lib\\site-packages\\sklearn\\pipeline.py\", line 329, in fit\n",
      "    fit_params_steps = self._check_fit_params(**fit_params)\n",
      "  File \"e:\\python3.8\\lib\\site-packages\\sklearn\\pipeline.py\", line 243, in _check_fit_params\n",
      "    raise ValueError(\n",
      "ValueError: Pipeline.fit does not accept the min_samples_leaf parameter. You can pass parameters to specific steps of your pipeline using the stepname__parameter format, e.g. `Pipeline.fit(X, y, logisticregression__sample_weight=sample_weight)`.\n",
      "\n",
      "  warnings.warn(\"Estimator fit failed. The score on this train-test\"\n"
     ]
    },
    {
     "name": "stdout",
     "output_type": "stream",
     "text": [
      "Pipeline(steps=[('preprocessor',\n",
      "                 ColumnTransformer(transformers=[('num',\n",
      "                                                  Pipeline(steps=[('imputer',\n",
      "                                                                   SimpleImputer()),\n",
      "                                                                  ('scaler',\n",
      "                                                                   StandardScaler())]),\n",
      "                                                  <sklearn.compose._column_transformer.make_column_selector object at 0x0000000061655A60>),\n",
      "                                                 ('cat',\n",
      "                                                  Pipeline(steps=[('imputer',\n",
      "                                                                   SimpleImputer(strategy='constant')),\n",
      "                                                                  ('onehot',\n",
      "                                                                   OneHotEncoder(handle_unknown='ignore'))]),\n",
      "                                                  <sklearn.compose._column_transformer.make_column_selector object at 0x000000006287B190>)])),\n",
      "                ('classifier',\n",
      "                 RandomForestClassifier(max_depth=3, min_samples_leaf=4,\n",
      "                                        n_estimators=4, verbose=-1))])\n",
      "| \u001b[0m 1       \u001b[0m | \u001b[0m nan     \u001b[0m | \u001b[0m 44.42   \u001b[0m | \u001b[0m 11.58   \u001b[0m | \u001b[0m 13.39   \u001b[0m | \u001b[0m 1.247e+0\u001b[0m |\n"
     ]
    },
    {
     "name": "stderr",
     "output_type": "stream",
     "text": [
      "e:\\python3.8\\lib\\site-packages\\sklearn\\model_selection\\_validation.py:548: FitFailedWarning: Estimator fit failed. The score on this train-test partition for these parameters will be set to nan. Details: \n",
      "Traceback (most recent call last):\n",
      "  File \"e:\\python3.8\\lib\\site-packages\\bayes_opt\\target_space.py\", line 191, in probe\n",
      "    target = self._cache[_hashable(x)]\n",
      "KeyError: (20.437711247196344, 3.892900478610024, 16.6004434793827, 714.0447543623977)\n",
      "\n",
      "During handling of the above exception, another exception occurred:\n",
      "\n",
      "Traceback (most recent call last):\n",
      "  File \"e:\\python3.8\\lib\\site-packages\\sklearn\\model_selection\\_validation.py\", line 531, in _fit_and_score\n",
      "    estimator.fit(X_train, y_train, **fit_params)\n",
      "  File \"e:\\python3.8\\lib\\site-packages\\sklearn\\pipeline.py\", line 329, in fit\n",
      "    fit_params_steps = self._check_fit_params(**fit_params)\n",
      "  File \"e:\\python3.8\\lib\\site-packages\\sklearn\\pipeline.py\", line 243, in _check_fit_params\n",
      "    raise ValueError(\n",
      "ValueError: Pipeline.fit does not accept the min_samples_leaf parameter. You can pass parameters to specific steps of your pipeline using the stepname__parameter format, e.g. `Pipeline.fit(X, y, logisticregression__sample_weight=sample_weight)`.\n",
      "\n",
      "  warnings.warn(\"Estimator fit failed. The score on this train-test\"\n"
     ]
    },
    {
     "name": "stdout",
     "output_type": "stream",
     "text": [
      "Pipeline(steps=[('preprocessor',\n",
      "                 ColumnTransformer(transformers=[('num',\n",
      "                                                  Pipeline(steps=[('imputer',\n",
      "                                                                   SimpleImputer()),\n",
      "                                                                  ('scaler',\n",
      "                                                                   StandardScaler())]),\n",
      "                                                  <sklearn.compose._column_transformer.make_column_selector object at 0x0000000061655A60>),\n",
      "                                                 ('cat',\n",
      "                                                  Pipeline(steps=[('imputer',\n",
      "                                                                   SimpleImputer(strategy='constant')),\n",
      "                                                                  ('onehot',\n",
      "                                                                   OneHotEncoder(handle_unknown='ignore'))]),\n",
      "                                                  <sklearn.compose._column_transformer.make_column_selector object at 0x000000006287B190>)])),\n",
      "                ('classifier',\n",
      "                 RandomForestClassifier(max_depth=3, min_samples_leaf=4,\n",
      "                                        n_estimators=4, verbose=-1))])\n",
      "| \u001b[0m 2       \u001b[0m | \u001b[0m nan     \u001b[0m | \u001b[0m 20.44   \u001b[0m | \u001b[0m 3.893   \u001b[0m | \u001b[0m 16.6    \u001b[0m | \u001b[0m 714.0   \u001b[0m |\n"
     ]
    },
    {
     "ename": "ValueError",
     "evalue": "Input contains NaN, infinity or a value too large for dtype('float64').",
     "output_type": "error",
     "traceback": [
      "\u001b[1;31m---------------------------------------------------------------------------\u001b[0m",
      "\u001b[1;31mStopIteration\u001b[0m                             Traceback (most recent call last)",
      "\u001b[1;32me:\\python3.8\\lib\\site-packages\\bayes_opt\\bayesian_optimization.py\u001b[0m in \u001b[0;36mmaximize\u001b[1;34m(self, init_points, n_iter, acq, kappa, kappa_decay, kappa_decay_delay, xi, **gp_params)\u001b[0m\n\u001b[0;32m    178\u001b[0m             \u001b[1;32mtry\u001b[0m\u001b[1;33m:\u001b[0m\u001b[1;33m\u001b[0m\u001b[1;33m\u001b[0m\u001b[0m\n\u001b[1;32m--> 179\u001b[1;33m                 \u001b[0mx_probe\u001b[0m \u001b[1;33m=\u001b[0m \u001b[0mnext\u001b[0m\u001b[1;33m(\u001b[0m\u001b[0mself\u001b[0m\u001b[1;33m.\u001b[0m\u001b[0m_queue\u001b[0m\u001b[1;33m)\u001b[0m\u001b[1;33m\u001b[0m\u001b[1;33m\u001b[0m\u001b[0m\n\u001b[0m\u001b[0;32m    180\u001b[0m             \u001b[1;32mexcept\u001b[0m \u001b[0mStopIteration\u001b[0m\u001b[1;33m:\u001b[0m\u001b[1;33m\u001b[0m\u001b[1;33m\u001b[0m\u001b[0m\n",
      "\u001b[1;32me:\\python3.8\\lib\\site-packages\\bayes_opt\\bayesian_optimization.py\u001b[0m in \u001b[0;36m__next__\u001b[1;34m(self)\u001b[0m\n\u001b[0;32m     24\u001b[0m         \u001b[1;32mif\u001b[0m \u001b[0mself\u001b[0m\u001b[1;33m.\u001b[0m\u001b[0mempty\u001b[0m\u001b[1;33m:\u001b[0m\u001b[1;33m\u001b[0m\u001b[1;33m\u001b[0m\u001b[0m\n\u001b[1;32m---> 25\u001b[1;33m             \u001b[1;32mraise\u001b[0m \u001b[0mStopIteration\u001b[0m\u001b[1;33m(\u001b[0m\u001b[1;34m\"Queue is empty, no more objects to retrieve.\"\u001b[0m\u001b[1;33m)\u001b[0m\u001b[1;33m\u001b[0m\u001b[1;33m\u001b[0m\u001b[0m\n\u001b[0m\u001b[0;32m     26\u001b[0m         \u001b[0mobj\u001b[0m \u001b[1;33m=\u001b[0m \u001b[0mself\u001b[0m\u001b[1;33m.\u001b[0m\u001b[0m_queue\u001b[0m\u001b[1;33m[\u001b[0m\u001b[1;36m0\u001b[0m\u001b[1;33m]\u001b[0m\u001b[1;33m\u001b[0m\u001b[1;33m\u001b[0m\u001b[0m\n",
      "\u001b[1;31mStopIteration\u001b[0m: Queue is empty, no more objects to retrieve.",
      "\nDuring handling of the above exception, another exception occurred:\n",
      "\u001b[1;31mValueError\u001b[0m                                Traceback (most recent call last)",
      "\u001b[1;32m<ipython-input-101-542f9a9cb883>\u001b[0m in \u001b[0;36m<module>\u001b[1;34m\u001b[0m\n\u001b[0;32m      7\u001b[0m                                         })\n\u001b[0;32m      8\u001b[0m \u001b[1;33m\u001b[0m\u001b[0m\n\u001b[1;32m----> 9\u001b[1;33m \u001b[0mrfBO\u001b[0m\u001b[1;33m.\u001b[0m\u001b[0mmaximize\u001b[0m\u001b[1;33m(\u001b[0m\u001b[0mn_iter\u001b[0m\u001b[1;33m=\u001b[0m\u001b[1;36m10\u001b[0m\u001b[1;33m,\u001b[0m \u001b[0minit_points\u001b[0m\u001b[1;33m=\u001b[0m\u001b[1;36m2\u001b[0m\u001b[1;33m)\u001b[0m\u001b[1;33m\u001b[0m\u001b[1;33m\u001b[0m\u001b[0m\n\u001b[0m\u001b[0;32m     10\u001b[0m \u001b[1;33m\u001b[0m\u001b[0m\n\u001b[0;32m     11\u001b[0m \u001b[0mend\u001b[0m \u001b[1;33m=\u001b[0m \u001b[0mtime\u001b[0m\u001b[1;33m.\u001b[0m\u001b[0mtime\u001b[0m\u001b[1;33m(\u001b[0m\u001b[1;33m)\u001b[0m\u001b[1;33m\u001b[0m\u001b[1;33m\u001b[0m\u001b[0m\n",
      "\u001b[1;32me:\\python3.8\\lib\\site-packages\\bayes_opt\\bayesian_optimization.py\u001b[0m in \u001b[0;36mmaximize\u001b[1;34m(self, init_points, n_iter, acq, kappa, kappa_decay, kappa_decay_delay, xi, **gp_params)\u001b[0m\n\u001b[0;32m    180\u001b[0m             \u001b[1;32mexcept\u001b[0m \u001b[0mStopIteration\u001b[0m\u001b[1;33m:\u001b[0m\u001b[1;33m\u001b[0m\u001b[1;33m\u001b[0m\u001b[0m\n\u001b[0;32m    181\u001b[0m                 \u001b[0mutil\u001b[0m\u001b[1;33m.\u001b[0m\u001b[0mupdate_params\u001b[0m\u001b[1;33m(\u001b[0m\u001b[1;33m)\u001b[0m\u001b[1;33m\u001b[0m\u001b[1;33m\u001b[0m\u001b[0m\n\u001b[1;32m--> 182\u001b[1;33m                 \u001b[0mx_probe\u001b[0m \u001b[1;33m=\u001b[0m \u001b[0mself\u001b[0m\u001b[1;33m.\u001b[0m\u001b[0msuggest\u001b[0m\u001b[1;33m(\u001b[0m\u001b[0mutil\u001b[0m\u001b[1;33m)\u001b[0m\u001b[1;33m\u001b[0m\u001b[1;33m\u001b[0m\u001b[0m\n\u001b[0m\u001b[0;32m    183\u001b[0m                 \u001b[0miteration\u001b[0m \u001b[1;33m+=\u001b[0m \u001b[1;36m1\u001b[0m\u001b[1;33m\u001b[0m\u001b[1;33m\u001b[0m\u001b[0m\n\u001b[0;32m    184\u001b[0m \u001b[1;33m\u001b[0m\u001b[0m\n",
      "\u001b[1;32me:\\python3.8\\lib\\site-packages\\bayes_opt\\bayesian_optimization.py\u001b[0m in \u001b[0;36msuggest\u001b[1;34m(self, utility_function)\u001b[0m\n\u001b[0;32m    126\u001b[0m         \u001b[1;32mwith\u001b[0m \u001b[0mwarnings\u001b[0m\u001b[1;33m.\u001b[0m\u001b[0mcatch_warnings\u001b[0m\u001b[1;33m(\u001b[0m\u001b[1;33m)\u001b[0m\u001b[1;33m:\u001b[0m\u001b[1;33m\u001b[0m\u001b[1;33m\u001b[0m\u001b[0m\n\u001b[0;32m    127\u001b[0m             \u001b[0mwarnings\u001b[0m\u001b[1;33m.\u001b[0m\u001b[0msimplefilter\u001b[0m\u001b[1;33m(\u001b[0m\u001b[1;34m\"ignore\"\u001b[0m\u001b[1;33m)\u001b[0m\u001b[1;33m\u001b[0m\u001b[1;33m\u001b[0m\u001b[0m\n\u001b[1;32m--> 128\u001b[1;33m             \u001b[0mself\u001b[0m\u001b[1;33m.\u001b[0m\u001b[0m_gp\u001b[0m\u001b[1;33m.\u001b[0m\u001b[0mfit\u001b[0m\u001b[1;33m(\u001b[0m\u001b[0mself\u001b[0m\u001b[1;33m.\u001b[0m\u001b[0m_space\u001b[0m\u001b[1;33m.\u001b[0m\u001b[0mparams\u001b[0m\u001b[1;33m,\u001b[0m \u001b[0mself\u001b[0m\u001b[1;33m.\u001b[0m\u001b[0m_space\u001b[0m\u001b[1;33m.\u001b[0m\u001b[0mtarget\u001b[0m\u001b[1;33m)\u001b[0m\u001b[1;33m\u001b[0m\u001b[1;33m\u001b[0m\u001b[0m\n\u001b[0m\u001b[0;32m    129\u001b[0m \u001b[1;33m\u001b[0m\u001b[0m\n\u001b[0;32m    130\u001b[0m         \u001b[1;31m# Finding argmax of the acquisition function.\u001b[0m\u001b[1;33m\u001b[0m\u001b[1;33m\u001b[0m\u001b[1;33m\u001b[0m\u001b[0m\n",
      "\u001b[1;32me:\\python3.8\\lib\\site-packages\\sklearn\\gaussian_process\\_gpr.py\u001b[0m in \u001b[0;36mfit\u001b[1;34m(self, X, y)\u001b[0m\n\u001b[0;32m    187\u001b[0m \u001b[1;33m\u001b[0m\u001b[0m\n\u001b[0;32m    188\u001b[0m         \u001b[1;32mif\u001b[0m \u001b[0mself\u001b[0m\u001b[1;33m.\u001b[0m\u001b[0mkernel_\u001b[0m\u001b[1;33m.\u001b[0m\u001b[0mrequires_vector_input\u001b[0m\u001b[1;33m:\u001b[0m\u001b[1;33m\u001b[0m\u001b[1;33m\u001b[0m\u001b[0m\n\u001b[1;32m--> 189\u001b[1;33m             X, y = self._validate_data(X, y, multi_output=True, y_numeric=True,\n\u001b[0m\u001b[0;32m    190\u001b[0m                                        ensure_2d=True, dtype=\"numeric\")\n\u001b[0;32m    191\u001b[0m         \u001b[1;32melse\u001b[0m\u001b[1;33m:\u001b[0m\u001b[1;33m\u001b[0m\u001b[1;33m\u001b[0m\u001b[0m\n",
      "\u001b[1;32me:\\python3.8\\lib\\site-packages\\sklearn\\base.py\u001b[0m in \u001b[0;36m_validate_data\u001b[1;34m(self, X, y, reset, validate_separately, **check_params)\u001b[0m\n\u001b[0;32m    430\u001b[0m                 \u001b[0my\u001b[0m \u001b[1;33m=\u001b[0m \u001b[0mcheck_array\u001b[0m\u001b[1;33m(\u001b[0m\u001b[0my\u001b[0m\u001b[1;33m,\u001b[0m \u001b[1;33m**\u001b[0m\u001b[0mcheck_y_params\u001b[0m\u001b[1;33m)\u001b[0m\u001b[1;33m\u001b[0m\u001b[1;33m\u001b[0m\u001b[0m\n\u001b[0;32m    431\u001b[0m             \u001b[1;32melse\u001b[0m\u001b[1;33m:\u001b[0m\u001b[1;33m\u001b[0m\u001b[1;33m\u001b[0m\u001b[0m\n\u001b[1;32m--> 432\u001b[1;33m                 \u001b[0mX\u001b[0m\u001b[1;33m,\u001b[0m \u001b[0my\u001b[0m \u001b[1;33m=\u001b[0m \u001b[0mcheck_X_y\u001b[0m\u001b[1;33m(\u001b[0m\u001b[0mX\u001b[0m\u001b[1;33m,\u001b[0m \u001b[0my\u001b[0m\u001b[1;33m,\u001b[0m \u001b[1;33m**\u001b[0m\u001b[0mcheck_params\u001b[0m\u001b[1;33m)\u001b[0m\u001b[1;33m\u001b[0m\u001b[1;33m\u001b[0m\u001b[0m\n\u001b[0m\u001b[0;32m    433\u001b[0m             \u001b[0mout\u001b[0m \u001b[1;33m=\u001b[0m \u001b[0mX\u001b[0m\u001b[1;33m,\u001b[0m \u001b[0my\u001b[0m\u001b[1;33m\u001b[0m\u001b[1;33m\u001b[0m\u001b[0m\n\u001b[0;32m    434\u001b[0m \u001b[1;33m\u001b[0m\u001b[0m\n",
      "\u001b[1;32me:\\python3.8\\lib\\site-packages\\sklearn\\utils\\validation.py\u001b[0m in \u001b[0;36minner_f\u001b[1;34m(*args, **kwargs)\u001b[0m\n\u001b[0;32m     70\u001b[0m                           FutureWarning)\n\u001b[0;32m     71\u001b[0m         \u001b[0mkwargs\u001b[0m\u001b[1;33m.\u001b[0m\u001b[0mupdate\u001b[0m\u001b[1;33m(\u001b[0m\u001b[1;33m{\u001b[0m\u001b[0mk\u001b[0m\u001b[1;33m:\u001b[0m \u001b[0marg\u001b[0m \u001b[1;32mfor\u001b[0m \u001b[0mk\u001b[0m\u001b[1;33m,\u001b[0m \u001b[0marg\u001b[0m \u001b[1;32min\u001b[0m \u001b[0mzip\u001b[0m\u001b[1;33m(\u001b[0m\u001b[0msig\u001b[0m\u001b[1;33m.\u001b[0m\u001b[0mparameters\u001b[0m\u001b[1;33m,\u001b[0m \u001b[0margs\u001b[0m\u001b[1;33m)\u001b[0m\u001b[1;33m}\u001b[0m\u001b[1;33m)\u001b[0m\u001b[1;33m\u001b[0m\u001b[1;33m\u001b[0m\u001b[0m\n\u001b[1;32m---> 72\u001b[1;33m         \u001b[1;32mreturn\u001b[0m \u001b[0mf\u001b[0m\u001b[1;33m(\u001b[0m\u001b[1;33m**\u001b[0m\u001b[0mkwargs\u001b[0m\u001b[1;33m)\u001b[0m\u001b[1;33m\u001b[0m\u001b[1;33m\u001b[0m\u001b[0m\n\u001b[0m\u001b[0;32m     73\u001b[0m     \u001b[1;32mreturn\u001b[0m \u001b[0minner_f\u001b[0m\u001b[1;33m\u001b[0m\u001b[1;33m\u001b[0m\u001b[0m\n\u001b[0;32m     74\u001b[0m \u001b[1;33m\u001b[0m\u001b[0m\n",
      "\u001b[1;32me:\\python3.8\\lib\\site-packages\\sklearn\\utils\\validation.py\u001b[0m in \u001b[0;36mcheck_X_y\u001b[1;34m(X, y, accept_sparse, accept_large_sparse, dtype, order, copy, force_all_finite, ensure_2d, allow_nd, multi_output, ensure_min_samples, ensure_min_features, y_numeric, estimator)\u001b[0m\n\u001b[0;32m    802\u001b[0m                     estimator=estimator)\n\u001b[0;32m    803\u001b[0m     \u001b[1;32mif\u001b[0m \u001b[0mmulti_output\u001b[0m\u001b[1;33m:\u001b[0m\u001b[1;33m\u001b[0m\u001b[1;33m\u001b[0m\u001b[0m\n\u001b[1;32m--> 804\u001b[1;33m         y = check_array(y, accept_sparse='csr', force_all_finite=True,\n\u001b[0m\u001b[0;32m    805\u001b[0m                         ensure_2d=False, dtype=None)\n\u001b[0;32m    806\u001b[0m     \u001b[1;32melse\u001b[0m\u001b[1;33m:\u001b[0m\u001b[1;33m\u001b[0m\u001b[1;33m\u001b[0m\u001b[0m\n",
      "\u001b[1;32me:\\python3.8\\lib\\site-packages\\sklearn\\utils\\validation.py\u001b[0m in \u001b[0;36minner_f\u001b[1;34m(*args, **kwargs)\u001b[0m\n\u001b[0;32m     70\u001b[0m                           FutureWarning)\n\u001b[0;32m     71\u001b[0m         \u001b[0mkwargs\u001b[0m\u001b[1;33m.\u001b[0m\u001b[0mupdate\u001b[0m\u001b[1;33m(\u001b[0m\u001b[1;33m{\u001b[0m\u001b[0mk\u001b[0m\u001b[1;33m:\u001b[0m \u001b[0marg\u001b[0m \u001b[1;32mfor\u001b[0m \u001b[0mk\u001b[0m\u001b[1;33m,\u001b[0m \u001b[0marg\u001b[0m \u001b[1;32min\u001b[0m \u001b[0mzip\u001b[0m\u001b[1;33m(\u001b[0m\u001b[0msig\u001b[0m\u001b[1;33m.\u001b[0m\u001b[0mparameters\u001b[0m\u001b[1;33m,\u001b[0m \u001b[0margs\u001b[0m\u001b[1;33m)\u001b[0m\u001b[1;33m}\u001b[0m\u001b[1;33m)\u001b[0m\u001b[1;33m\u001b[0m\u001b[1;33m\u001b[0m\u001b[0m\n\u001b[1;32m---> 72\u001b[1;33m         \u001b[1;32mreturn\u001b[0m \u001b[0mf\u001b[0m\u001b[1;33m(\u001b[0m\u001b[1;33m**\u001b[0m\u001b[0mkwargs\u001b[0m\u001b[1;33m)\u001b[0m\u001b[1;33m\u001b[0m\u001b[1;33m\u001b[0m\u001b[0m\n\u001b[0m\u001b[0;32m     73\u001b[0m     \u001b[1;32mreturn\u001b[0m \u001b[0minner_f\u001b[0m\u001b[1;33m\u001b[0m\u001b[1;33m\u001b[0m\u001b[0m\n\u001b[0;32m     74\u001b[0m \u001b[1;33m\u001b[0m\u001b[0m\n",
      "\u001b[1;32me:\\python3.8\\lib\\site-packages\\sklearn\\utils\\validation.py\u001b[0m in \u001b[0;36mcheck_array\u001b[1;34m(array, accept_sparse, accept_large_sparse, dtype, order, copy, force_all_finite, ensure_2d, allow_nd, ensure_min_samples, ensure_min_features, estimator)\u001b[0m\n\u001b[0;32m    642\u001b[0m \u001b[1;33m\u001b[0m\u001b[0m\n\u001b[0;32m    643\u001b[0m         \u001b[1;32mif\u001b[0m \u001b[0mforce_all_finite\u001b[0m\u001b[1;33m:\u001b[0m\u001b[1;33m\u001b[0m\u001b[1;33m\u001b[0m\u001b[0m\n\u001b[1;32m--> 644\u001b[1;33m             _assert_all_finite(array,\n\u001b[0m\u001b[0;32m    645\u001b[0m                                allow_nan=force_all_finite == 'allow-nan')\n\u001b[0;32m    646\u001b[0m \u001b[1;33m\u001b[0m\u001b[0m\n",
      "\u001b[1;32me:\\python3.8\\lib\\site-packages\\sklearn\\utils\\validation.py\u001b[0m in \u001b[0;36m_assert_all_finite\u001b[1;34m(X, allow_nan, msg_dtype)\u001b[0m\n\u001b[0;32m     94\u001b[0m                 not allow_nan and not np.isfinite(X).all()):\n\u001b[0;32m     95\u001b[0m             \u001b[0mtype_err\u001b[0m \u001b[1;33m=\u001b[0m \u001b[1;34m'infinity'\u001b[0m \u001b[1;32mif\u001b[0m \u001b[0mallow_nan\u001b[0m \u001b[1;32melse\u001b[0m \u001b[1;34m'NaN, infinity'\u001b[0m\u001b[1;33m\u001b[0m\u001b[1;33m\u001b[0m\u001b[0m\n\u001b[1;32m---> 96\u001b[1;33m             raise ValueError(\n\u001b[0m\u001b[0;32m     97\u001b[0m                     \u001b[0mmsg_err\u001b[0m\u001b[1;33m.\u001b[0m\u001b[0mformat\u001b[0m\u001b[1;33m\u001b[0m\u001b[1;33m\u001b[0m\u001b[0m\n\u001b[0;32m     98\u001b[0m                     (type_err,\n",
      "\u001b[1;31mValueError\u001b[0m: Input contains NaN, infinity or a value too large for dtype('float64')."
     ]
    }
   ],
   "source": [
    "strat = time.time()\n",
    "\n",
    "rfBO = BayesianOptimization(rf_eval, {'min_samples_leaf': (2, 15),\n",
    "                                        'n_estimators':(100,2000),\n",
    "                                        'max_depth': (5, 63),\n",
    "                                        'min_samples_split':(2,20)\n",
    "                                        })\n",
    "\n",
    "rfBO.maximize(n_iter=10, init_points=2)\n",
    "\n",
    "end = time.time()\n",
    "\n",
    "print(\"Training time taken : \", end-start)"
   ]
  },
  {
   "cell_type": "code",
   "execution_count": 96,
   "metadata": {},
   "outputs": [
    {
     "name": "stderr",
     "output_type": "stream",
     "text": [
      "[Parallel(n_jobs=1)]: Using backend SequentialBackend with 1 concurrent workers.\n"
     ]
    },
    {
     "ename": "ZeroDivisionError",
     "evalue": "integer division or modulo by zero",
     "output_type": "error",
     "traceback": [
      "\u001b[1;31m---------------------------------------------------------------------------\u001b[0m",
      "\u001b[1;31mZeroDivisionError\u001b[0m                         Traceback (most recent call last)",
      "\u001b[1;32m<ipython-input-96-6463bfa518bb>\u001b[0m in \u001b[0;36m<module>\u001b[1;34m\u001b[0m\n\u001b[0;32m     20\u001b[0m \u001b[0mrf_clf1\u001b[0m \u001b[1;33m=\u001b[0m \u001b[0mPipeline\u001b[0m\u001b[1;33m(\u001b[0m\u001b[0msteps\u001b[0m\u001b[1;33m=\u001b[0m\u001b[1;33m[\u001b[0m\u001b[1;33m(\u001b[0m\u001b[1;34m'preprocessor'\u001b[0m\u001b[1;33m,\u001b[0m \u001b[0mpreprocessor\u001b[0m\u001b[1;33m)\u001b[0m\u001b[1;33m,\u001b[0m\u001b[1;33m(\u001b[0m\u001b[1;34m'classifier'\u001b[0m\u001b[1;33m,\u001b[0m\u001b[0mrf\u001b[0m \u001b[1;33m)\u001b[0m\u001b[1;33m]\u001b[0m\u001b[1;33m)\u001b[0m\u001b[1;33m\u001b[0m\u001b[1;33m\u001b[0m\u001b[0m\n\u001b[0;32m     21\u001b[0m    \u001b[1;31m# score = cross_val_score(rf_clf1, X_train, y_train,fit_params =params,cv=5).mean()\u001b[0m\u001b[1;33m\u001b[0m\u001b[1;33m\u001b[0m\u001b[1;33m\u001b[0m\u001b[0m\n\u001b[1;32m---> 22\u001b[1;33m \u001b[0mrf_clf1\u001b[0m\u001b[1;33m.\u001b[0m\u001b[0mfit\u001b[0m\u001b[1;33m(\u001b[0m\u001b[0mX_train\u001b[0m\u001b[1;33m,\u001b[0m \u001b[0my_train\u001b[0m\u001b[1;33m)\u001b[0m\u001b[1;33m\u001b[0m\u001b[1;33m\u001b[0m\u001b[0m\n\u001b[0m\u001b[0;32m     23\u001b[0m \u001b[1;33m\u001b[0m\u001b[0m\n\u001b[0;32m     24\u001b[0m \u001b[0mend\u001b[0m \u001b[1;33m=\u001b[0m \u001b[0mtime\u001b[0m\u001b[1;33m.\u001b[0m\u001b[0mtime\u001b[0m\u001b[1;33m(\u001b[0m\u001b[1;33m)\u001b[0m\u001b[1;33m\u001b[0m\u001b[1;33m\u001b[0m\u001b[0m\n",
      "\u001b[1;32me:\\python3.8\\lib\\site-packages\\sklearn\\pipeline.py\u001b[0m in \u001b[0;36mfit\u001b[1;34m(self, X, y, **fit_params)\u001b[0m\n\u001b[0;32m    333\u001b[0m             \u001b[1;32mif\u001b[0m \u001b[0mself\u001b[0m\u001b[1;33m.\u001b[0m\u001b[0m_final_estimator\u001b[0m \u001b[1;33m!=\u001b[0m \u001b[1;34m'passthrough'\u001b[0m\u001b[1;33m:\u001b[0m\u001b[1;33m\u001b[0m\u001b[1;33m\u001b[0m\u001b[0m\n\u001b[0;32m    334\u001b[0m                 \u001b[0mfit_params_last_step\u001b[0m \u001b[1;33m=\u001b[0m \u001b[0mfit_params_steps\u001b[0m\u001b[1;33m[\u001b[0m\u001b[0mself\u001b[0m\u001b[1;33m.\u001b[0m\u001b[0msteps\u001b[0m\u001b[1;33m[\u001b[0m\u001b[1;33m-\u001b[0m\u001b[1;36m1\u001b[0m\u001b[1;33m]\u001b[0m\u001b[1;33m[\u001b[0m\u001b[1;36m0\u001b[0m\u001b[1;33m]\u001b[0m\u001b[1;33m]\u001b[0m\u001b[1;33m\u001b[0m\u001b[1;33m\u001b[0m\u001b[0m\n\u001b[1;32m--> 335\u001b[1;33m                 \u001b[0mself\u001b[0m\u001b[1;33m.\u001b[0m\u001b[0m_final_estimator\u001b[0m\u001b[1;33m.\u001b[0m\u001b[0mfit\u001b[0m\u001b[1;33m(\u001b[0m\u001b[0mXt\u001b[0m\u001b[1;33m,\u001b[0m \u001b[0my\u001b[0m\u001b[1;33m,\u001b[0m \u001b[1;33m**\u001b[0m\u001b[0mfit_params_last_step\u001b[0m\u001b[1;33m)\u001b[0m\u001b[1;33m\u001b[0m\u001b[1;33m\u001b[0m\u001b[0m\n\u001b[0m\u001b[0;32m    336\u001b[0m \u001b[1;33m\u001b[0m\u001b[0m\n\u001b[0;32m    337\u001b[0m         \u001b[1;32mreturn\u001b[0m \u001b[0mself\u001b[0m\u001b[1;33m\u001b[0m\u001b[1;33m\u001b[0m\u001b[0m\n",
      "\u001b[1;32me:\\python3.8\\lib\\site-packages\\sklearn\\ensemble\\_forest.py\u001b[0m in \u001b[0;36mfit\u001b[1;34m(self, X, y, sample_weight)\u001b[0m\n\u001b[0;32m    384\u001b[0m             \u001b[1;31m# parallel_backend contexts set at a higher level,\u001b[0m\u001b[1;33m\u001b[0m\u001b[1;33m\u001b[0m\u001b[1;33m\u001b[0m\u001b[0m\n\u001b[0;32m    385\u001b[0m             \u001b[1;31m# since correctness does not rely on using threads.\u001b[0m\u001b[1;33m\u001b[0m\u001b[1;33m\u001b[0m\u001b[1;33m\u001b[0m\u001b[0m\n\u001b[1;32m--> 386\u001b[1;33m             trees = Parallel(n_jobs=self.n_jobs, verbose=self.verbose,\n\u001b[0m\u001b[0;32m    387\u001b[0m                              \u001b[1;33m**\u001b[0m\u001b[0m_joblib_parallel_args\u001b[0m\u001b[1;33m(\u001b[0m\u001b[0mprefer\u001b[0m\u001b[1;33m=\u001b[0m\u001b[1;34m'threads'\u001b[0m\u001b[1;33m)\u001b[0m\u001b[1;33m)\u001b[0m\u001b[1;33m(\u001b[0m\u001b[1;33m\u001b[0m\u001b[1;33m\u001b[0m\u001b[0m\n\u001b[0;32m    388\u001b[0m                 delayed(_parallel_build_trees)(\n",
      "\u001b[1;32me:\\python3.8\\lib\\site-packages\\joblib\\parallel.py\u001b[0m in \u001b[0;36m__call__\u001b[1;34m(self, iterable)\u001b[0m\n\u001b[0;32m   1046\u001b[0m             \u001b[1;31m# remaining jobs.\u001b[0m\u001b[1;33m\u001b[0m\u001b[1;33m\u001b[0m\u001b[1;33m\u001b[0m\u001b[0m\n\u001b[0;32m   1047\u001b[0m             \u001b[0mself\u001b[0m\u001b[1;33m.\u001b[0m\u001b[0m_iterating\u001b[0m \u001b[1;33m=\u001b[0m \u001b[1;32mFalse\u001b[0m\u001b[1;33m\u001b[0m\u001b[1;33m\u001b[0m\u001b[0m\n\u001b[1;32m-> 1048\u001b[1;33m             \u001b[1;32mif\u001b[0m \u001b[0mself\u001b[0m\u001b[1;33m.\u001b[0m\u001b[0mdispatch_one_batch\u001b[0m\u001b[1;33m(\u001b[0m\u001b[0miterator\u001b[0m\u001b[1;33m)\u001b[0m\u001b[1;33m:\u001b[0m\u001b[1;33m\u001b[0m\u001b[1;33m\u001b[0m\u001b[0m\n\u001b[0m\u001b[0;32m   1049\u001b[0m                 \u001b[0mself\u001b[0m\u001b[1;33m.\u001b[0m\u001b[0m_iterating\u001b[0m \u001b[1;33m=\u001b[0m \u001b[0mself\u001b[0m\u001b[1;33m.\u001b[0m\u001b[0m_original_iterator\u001b[0m \u001b[1;32mis\u001b[0m \u001b[1;32mnot\u001b[0m \u001b[1;32mNone\u001b[0m\u001b[1;33m\u001b[0m\u001b[1;33m\u001b[0m\u001b[0m\n\u001b[0;32m   1050\u001b[0m \u001b[1;33m\u001b[0m\u001b[0m\n",
      "\u001b[1;32me:\\python3.8\\lib\\site-packages\\joblib\\parallel.py\u001b[0m in \u001b[0;36mdispatch_one_batch\u001b[1;34m(self, iterator)\u001b[0m\n\u001b[0;32m    864\u001b[0m                 \u001b[1;32mreturn\u001b[0m \u001b[1;32mFalse\u001b[0m\u001b[1;33m\u001b[0m\u001b[1;33m\u001b[0m\u001b[0m\n\u001b[0;32m    865\u001b[0m             \u001b[1;32melse\u001b[0m\u001b[1;33m:\u001b[0m\u001b[1;33m\u001b[0m\u001b[1;33m\u001b[0m\u001b[0m\n\u001b[1;32m--> 866\u001b[1;33m                 \u001b[0mself\u001b[0m\u001b[1;33m.\u001b[0m\u001b[0m_dispatch\u001b[0m\u001b[1;33m(\u001b[0m\u001b[0mtasks\u001b[0m\u001b[1;33m)\u001b[0m\u001b[1;33m\u001b[0m\u001b[1;33m\u001b[0m\u001b[0m\n\u001b[0m\u001b[0;32m    867\u001b[0m                 \u001b[1;32mreturn\u001b[0m \u001b[1;32mTrue\u001b[0m\u001b[1;33m\u001b[0m\u001b[1;33m\u001b[0m\u001b[0m\n\u001b[0;32m    868\u001b[0m \u001b[1;33m\u001b[0m\u001b[0m\n",
      "\u001b[1;32me:\\python3.8\\lib\\site-packages\\joblib\\parallel.py\u001b[0m in \u001b[0;36m_dispatch\u001b[1;34m(self, batch)\u001b[0m\n\u001b[0;32m    782\u001b[0m         \u001b[1;32mwith\u001b[0m \u001b[0mself\u001b[0m\u001b[1;33m.\u001b[0m\u001b[0m_lock\u001b[0m\u001b[1;33m:\u001b[0m\u001b[1;33m\u001b[0m\u001b[1;33m\u001b[0m\u001b[0m\n\u001b[0;32m    783\u001b[0m             \u001b[0mjob_idx\u001b[0m \u001b[1;33m=\u001b[0m \u001b[0mlen\u001b[0m\u001b[1;33m(\u001b[0m\u001b[0mself\u001b[0m\u001b[1;33m.\u001b[0m\u001b[0m_jobs\u001b[0m\u001b[1;33m)\u001b[0m\u001b[1;33m\u001b[0m\u001b[1;33m\u001b[0m\u001b[0m\n\u001b[1;32m--> 784\u001b[1;33m             \u001b[0mjob\u001b[0m \u001b[1;33m=\u001b[0m \u001b[0mself\u001b[0m\u001b[1;33m.\u001b[0m\u001b[0m_backend\u001b[0m\u001b[1;33m.\u001b[0m\u001b[0mapply_async\u001b[0m\u001b[1;33m(\u001b[0m\u001b[0mbatch\u001b[0m\u001b[1;33m,\u001b[0m \u001b[0mcallback\u001b[0m\u001b[1;33m=\u001b[0m\u001b[0mcb\u001b[0m\u001b[1;33m)\u001b[0m\u001b[1;33m\u001b[0m\u001b[1;33m\u001b[0m\u001b[0m\n\u001b[0m\u001b[0;32m    785\u001b[0m             \u001b[1;31m# A job can complete so quickly than its callback is\u001b[0m\u001b[1;33m\u001b[0m\u001b[1;33m\u001b[0m\u001b[1;33m\u001b[0m\u001b[0m\n\u001b[0;32m    786\u001b[0m             \u001b[1;31m# called before we get here, causing self._jobs to\u001b[0m\u001b[1;33m\u001b[0m\u001b[1;33m\u001b[0m\u001b[1;33m\u001b[0m\u001b[0m\n",
      "\u001b[1;32me:\\python3.8\\lib\\site-packages\\joblib\\_parallel_backends.py\u001b[0m in \u001b[0;36mapply_async\u001b[1;34m(self, func, callback)\u001b[0m\n\u001b[0;32m    208\u001b[0m         \u001b[0mresult\u001b[0m \u001b[1;33m=\u001b[0m \u001b[0mImmediateResult\u001b[0m\u001b[1;33m(\u001b[0m\u001b[0mfunc\u001b[0m\u001b[1;33m)\u001b[0m\u001b[1;33m\u001b[0m\u001b[1;33m\u001b[0m\u001b[0m\n\u001b[0;32m    209\u001b[0m         \u001b[1;32mif\u001b[0m \u001b[0mcallback\u001b[0m\u001b[1;33m:\u001b[0m\u001b[1;33m\u001b[0m\u001b[1;33m\u001b[0m\u001b[0m\n\u001b[1;32m--> 210\u001b[1;33m             \u001b[0mcallback\u001b[0m\u001b[1;33m(\u001b[0m\u001b[0mresult\u001b[0m\u001b[1;33m)\u001b[0m\u001b[1;33m\u001b[0m\u001b[1;33m\u001b[0m\u001b[0m\n\u001b[0m\u001b[0;32m    211\u001b[0m         \u001b[1;32mreturn\u001b[0m \u001b[0mresult\u001b[0m\u001b[1;33m\u001b[0m\u001b[1;33m\u001b[0m\u001b[0m\n\u001b[0;32m    212\u001b[0m \u001b[1;33m\u001b[0m\u001b[0m\n",
      "\u001b[1;32me:\\python3.8\\lib\\site-packages\\joblib\\parallel.py\u001b[0m in \u001b[0;36m__call__\u001b[1;34m(self, out)\u001b[0m\n\u001b[0;32m    361\u001b[0m         self.parallel._backend.batch_completed(self.batch_size,\n\u001b[0;32m    362\u001b[0m                                                this_batch_duration)\n\u001b[1;32m--> 363\u001b[1;33m         \u001b[0mself\u001b[0m\u001b[1;33m.\u001b[0m\u001b[0mparallel\u001b[0m\u001b[1;33m.\u001b[0m\u001b[0mprint_progress\u001b[0m\u001b[1;33m(\u001b[0m\u001b[1;33m)\u001b[0m\u001b[1;33m\u001b[0m\u001b[1;33m\u001b[0m\u001b[0m\n\u001b[0m\u001b[0;32m    364\u001b[0m         \u001b[1;32mwith\u001b[0m \u001b[0mself\u001b[0m\u001b[1;33m.\u001b[0m\u001b[0mparallel\u001b[0m\u001b[1;33m.\u001b[0m\u001b[0m_lock\u001b[0m\u001b[1;33m:\u001b[0m\u001b[1;33m\u001b[0m\u001b[1;33m\u001b[0m\u001b[0m\n\u001b[0;32m    365\u001b[0m             \u001b[1;32mif\u001b[0m \u001b[0mself\u001b[0m\u001b[1;33m.\u001b[0m\u001b[0mparallel\u001b[0m\u001b[1;33m.\u001b[0m\u001b[0m_original_iterator\u001b[0m \u001b[1;32mis\u001b[0m \u001b[1;32mnot\u001b[0m \u001b[1;32mNone\u001b[0m\u001b[1;33m:\u001b[0m\u001b[1;33m\u001b[0m\u001b[1;33m\u001b[0m\u001b[0m\n",
      "\u001b[1;32me:\\python3.8\\lib\\site-packages\\joblib\\parallel.py\u001b[0m in \u001b[0;36mprint_progress\u001b[1;34m(self)\u001b[0m\n\u001b[0;32m    911\u001b[0m                 \u001b[0mfrequency\u001b[0m \u001b[1;33m=\u001b[0m \u001b[1;33m(\u001b[0m\u001b[0mtotal_tasks\u001b[0m \u001b[1;33m//\u001b[0m \u001b[0mself\u001b[0m\u001b[1;33m.\u001b[0m\u001b[0mverbose\u001b[0m\u001b[1;33m)\u001b[0m \u001b[1;33m+\u001b[0m \u001b[1;36m1\u001b[0m\u001b[1;33m\u001b[0m\u001b[1;33m\u001b[0m\u001b[0m\n\u001b[0;32m    912\u001b[0m                 \u001b[0mis_last_item\u001b[0m \u001b[1;33m=\u001b[0m \u001b[1;33m(\u001b[0m\u001b[0mindex\u001b[0m \u001b[1;33m+\u001b[0m \u001b[1;36m1\u001b[0m \u001b[1;33m==\u001b[0m \u001b[0mtotal_tasks\u001b[0m\u001b[1;33m)\u001b[0m\u001b[1;33m\u001b[0m\u001b[1;33m\u001b[0m\u001b[0m\n\u001b[1;32m--> 913\u001b[1;33m                 \u001b[1;32mif\u001b[0m \u001b[1;33m(\u001b[0m\u001b[0mis_last_item\u001b[0m \u001b[1;32mor\u001b[0m \u001b[0mcursor\u001b[0m \u001b[1;33m%\u001b[0m \u001b[0mfrequency\u001b[0m\u001b[1;33m)\u001b[0m\u001b[1;33m:\u001b[0m\u001b[1;33m\u001b[0m\u001b[1;33m\u001b[0m\u001b[0m\n\u001b[0m\u001b[0;32m    914\u001b[0m                     \u001b[1;32mreturn\u001b[0m\u001b[1;33m\u001b[0m\u001b[1;33m\u001b[0m\u001b[0m\n\u001b[0;32m    915\u001b[0m             \u001b[0mremaining_time\u001b[0m \u001b[1;33m=\u001b[0m \u001b[1;33m(\u001b[0m\u001b[0melapsed_time\u001b[0m \u001b[1;33m/\u001b[0m \u001b[0mindex\u001b[0m\u001b[1;33m)\u001b[0m \u001b[1;33m*\u001b[0m\u001b[0;31m \u001b[0m\u001b[0;31m\\\u001b[0m\u001b[1;33m\u001b[0m\u001b[1;33m\u001b[0m\u001b[0m\n",
      "\u001b[1;31mZeroDivisionError\u001b[0m: integer division or modulo by zero"
     ]
    }
   ],
   "source": [
    "start=time.time()\n",
    "#res = rf_eval(4,3, 2,2)\n",
    "\n",
    "#print(res)\n",
    "\n",
    "\"\"\"min_samples_leaf = 4,\n",
    "                                max_depth = 3,\n",
    "                                verbose = 0,\n",
    "                                max_features = 'auto',\n",
    "                                bootstrap = True,\n",
    "                                n_estimators= 4\"\"\"\n",
    "\n",
    "rf = RandomForestClassifier(min_samples_leaf = 4,\n",
    "                            max_depth = 3,\n",
    "                            verbose = -1,\n",
    "                            max_features = 'auto',\n",
    "                            bootstrap = True,\n",
    "                            n_estimators= 4)\n",
    "    \n",
    "rf_clf1 = Pipeline(steps=[('preprocessor', preprocessor),('classifier',rf )])\n",
    "   # score = cross_val_score(rf_clf1, X_train, y_train,fit_params =params,cv=5).mean()\n",
    "rf_clf1.fit(X_train, y_train)\n",
    "\n",
    "end = time.time()\n",
    "\n",
    "print(\"trainng time taken : \", end-start)\n"
   ]
  },
  {
   "cell_type": "code",
   "execution_count": 94,
   "metadata": {},
   "outputs": [
    {
     "data": {
      "text/html": [
       "<div>\n",
       "<style scoped>\n",
       "    .dataframe tbody tr th:only-of-type {\n",
       "        vertical-align: middle;\n",
       "    }\n",
       "\n",
       "    .dataframe tbody tr th {\n",
       "        vertical-align: top;\n",
       "    }\n",
       "\n",
       "    .dataframe thead th {\n",
       "        text-align: right;\n",
       "    }\n",
       "</style>\n",
       "<table border=\"1\" class=\"dataframe\">\n",
       "  <thead>\n",
       "    <tr style=\"text-align: right;\">\n",
       "      <th></th>\n",
       "      <th>bootstrap</th>\n",
       "      <th>ccp_alpha</th>\n",
       "      <th>class_weight</th>\n",
       "      <th>criterion</th>\n",
       "      <th>max_depth</th>\n",
       "      <th>max_features</th>\n",
       "      <th>max_leaf_nodes</th>\n",
       "      <th>max_samples</th>\n",
       "      <th>min_impurity_decrease</th>\n",
       "      <th>min_impurity_split</th>\n",
       "      <th>min_samples_leaf</th>\n",
       "      <th>min_samples_split</th>\n",
       "      <th>min_weight_fraction_leaf</th>\n",
       "      <th>n_estimators</th>\n",
       "      <th>n_jobs</th>\n",
       "      <th>oob_score</th>\n",
       "      <th>random_state</th>\n",
       "      <th>verbose</th>\n",
       "      <th>warm_start</th>\n",
       "    </tr>\n",
       "  </thead>\n",
       "  <tbody>\n",
       "    <tr>\n",
       "      <th>0</th>\n",
       "      <td>True</td>\n",
       "      <td>0.0</td>\n",
       "      <td>None</td>\n",
       "      <td>gini</td>\n",
       "      <td>3</td>\n",
       "      <td>auto</td>\n",
       "      <td>None</td>\n",
       "      <td>None</td>\n",
       "      <td>0.0</td>\n",
       "      <td>None</td>\n",
       "      <td>4</td>\n",
       "      <td>2</td>\n",
       "      <td>0.0</td>\n",
       "      <td>4</td>\n",
       "      <td>None</td>\n",
       "      <td>False</td>\n",
       "      <td>None</td>\n",
       "      <td>0</td>\n",
       "      <td>False</td>\n",
       "    </tr>\n",
       "  </tbody>\n",
       "</table>\n",
       "</div>"
      ],
      "text/plain": [
       "   bootstrap  ccp_alpha class_weight criterion  max_depth max_features  \\\n",
       "0       True        0.0         None      gini          3         auto   \n",
       "\n",
       "  max_leaf_nodes max_samples  min_impurity_decrease min_impurity_split  \\\n",
       "0           None        None                    0.0               None   \n",
       "\n",
       "   min_samples_leaf  min_samples_split  min_weight_fraction_leaf  \\\n",
       "0                 4                  2                       0.0   \n",
       "\n",
       "   n_estimators n_jobs  oob_score random_state  verbose  warm_start  \n",
       "0             4   None      False         None        0       False  "
      ]
     },
     "execution_count": 94,
     "metadata": {},
     "output_type": "execute_result"
    }
   ],
   "source": [
    "pd.DataFrame([rf_clf1.get_params()])\n",
    "pd.DataFrame([rf.get_params()])\n"
   ]
  },
  {
   "cell_type": "code",
   "execution_count": 95,
   "metadata": {},
   "outputs": [
    {
     "name": "stdout",
     "output_type": "stream",
     "text": [
      "Prediction time taken :  0.9280531406402588\n",
      "best Random Forest Classifier from grid search: 0.705\n",
      "Accuracy Score : 0.7054081574927873\n",
      "Accuracy Score : 0.7054081574927873\n",
      "Precision Score : 0.7054081574927873\n",
      "Recall Score : 1.0\n",
      "F1 Score : 0.8272602126283317\n",
      "Confusion Matrix : \n",
      "[[    0 10415]\n",
      " [    0 24939]]\n"
     ]
    }
   ],
   "source": [
    "start=time.time()\n",
    "\n",
    "y_pred_rf3 = rf_clf1.predict(X_test)\n",
    "\n",
    "end = time.time()\n",
    "\n",
    "print(\"Prediction time taken : \", end-start)\n",
    "\n",
    "print((\"best Random Forest Classifier from grid search: %.3f\" % rf_clf1.score(X_test, y_test)))\n",
    "\n",
    "print('Accuracy Score : ' + str(accuracy_score(y_test,y_pred_rf3)))\n",
    "print('Accuracy Score : ' + str(accuracy_score(y_test,y_pred_rf3)))\n",
    "print('Precision Score : ' + str(precision_score(y_test,y_pred_rf3,pos_label='white')))\n",
    "print('Recall Score : ' + str(recall_score(y_test,y_pred_rf3,pos_label='white')))\n",
    "print('F1 Score : ' + str(f1_score(y_test,y_pred_rf3,pos_label='white')))\n",
    "\n",
    "#Dummy Classifier Confusion matrix\n",
    "from sklearn.metrics import confusion_matrix\n",
    "print('Confusion Matrix : \\n' + str(confusion_matrix(y_test,y_pred_rf3)))"
   ]
  },
  {
   "cell_type": "code",
   "execution_count": null,
   "metadata": {
    "jupyter": {
     "source_hidden": true
    }
   },
   "outputs": [],
   "source": [
    "strat = time.time()\n",
    "\n",
    "# Random search of parameters, using 3 fold cross validation, \n",
    "# search across 100 different combinations, and use all available cores\n",
    "rf_rs_clf2 = RandomizedSearchCV(rf_clf2,param_distributions=random_grid, n_iter = 100, cv = 3, verbose=2, random_state=42, n_jobs = -1)\n",
    "\n",
    "# Fit the random search model\n",
    "rf_rs_clf2.fit(X_train, y_train)\n",
    "\n",
    "end = time.time()\n",
    "\n",
    "print(\"Training time taken : \", end-start)"
   ]
  },
  {
   "cell_type": "code",
   "execution_count": null,
   "metadata": {
    "jupyter": {
     "source_hidden": true
    }
   },
   "outputs": [],
   "source": [
    "rfBO.max"
   ]
  },
  {
   "cell_type": "code",
   "execution_count": 52,
   "metadata": {
    "jupyter": {
     "source_hidden": true
    }
   },
   "outputs": [],
   "source": [
    "#Bayesian optimization\n",
    "def bayesian_optimization(dataset, function, parameters):\n",
    "    X_train, y_train, X_test, y_test = dataset\n",
    "    n_iterations = 5\n",
    "    gp_params = {\"alpha\": 1e-4}\n",
    "\n",
    "    BO = BayesianOptimization(function, parameters)\n",
    "    BO.maximize(n_iter=n_iterations, **gp_params)\n",
    "\n",
    "    return BO.max"
   ]
  },
  {
   "cell_type": "code",
   "execution_count": 53,
   "metadata": {
    "jupyter": {
     "source_hidden": true
    }
   },
   "outputs": [],
   "source": [
    "def rfc_optimization(cv_splits):\n",
    "    def function(n_estimators, max_depth, min_samples_split):\n",
    "        return cross_val_score(\n",
    "               RandomForestClassifier(\n",
    "                   n_estimators=int(max(n_estimators,0)),                                                               \n",
    "                   max_depth=int(max(max_depth,1)),\n",
    "                   min_samples_split=int(max(min_samples_split,2)), \n",
    "                   n_jobs=-1, \n",
    "                   random_state=42,   \n",
    "                   class_weight=\"balanced\"),  \n",
    "               X=X_train, \n",
    "               y=y_train, \n",
    "               cv=cv_splits,\n",
    "               scoring=\"roc_auc\",\n",
    "               n_jobs=-1).mean()\n",
    "\n",
    "    parameters = {\"n_estimators\": (10, 1000),\n",
    "                  \"max_depth\": (1, 150),\n",
    "                  \"min_samples_split\": (2, 10)}\n",
    "    \n",
    "    return function, parameters"
   ]
  },
  {
   "cell_type": "code",
   "execution_count": 54,
   "metadata": {
    "jupyter": {
     "source_hidden": true
    }
   },
   "outputs": [],
   "source": [
    "def xgb_optimization(cv_splits, eval_set):\n",
    "    def function(eta, gamma, max_depth):\n",
    "            return cross_val_score(\n",
    "                   xgb.XGBClassifier(\n",
    "                       objective=\"binary:logistic\",\n",
    "                       learning_rate=max(eta, 0),\n",
    "                       gamma=max(gamma, 0),\n",
    "                       max_depth=int(max_depth),                                               \n",
    "                       seed=42,\n",
    "                       nthread=-1,\n",
    "                       scale_pos_weight = len(y_train[y_train == 0])/\n",
    "                                          len(y_train[y_train == 1])),  \n",
    "                   X=X_train, \n",
    "                   y=y_train, \n",
    "                   cv=cv_splits,\n",
    "                   scoring=\"roc_auc\",\n",
    "                   fit_params={\n",
    "                        \"early_stopping_rounds\": 10, \n",
    "                        \"eval_metric\": \"auc\", \n",
    "                        \"eval_set\": eval_set},\n",
    "                   n_jobs=-1).mean()\n",
    "\n",
    "    parameters = {\"eta\": (0.001, 0.4),\n",
    "                  \"gamma\": (0, 20),\n",
    "                  \"max_depth\": (1, 2000)}\n",
    "    \n",
    "    return function, parameters"
   ]
  },
  {
   "cell_type": "code",
   "execution_count": 55,
   "metadata": {
    "jupyter": {
     "source_hidden": true
    }
   },
   "outputs": [],
   "source": [
    "#Train model\n",
    "def train(X_train, y_train, X_test, y_test, function, parameters):\n",
    "    dataset = (X_train, y_train, X_test, y_test)\n",
    "    cv_splits = 4\n",
    "    \n",
    "    best_solution = bayesian_optimization(dataset, function, parameters)      \n",
    "    params = best_solution[\"params\"]\n",
    "\n",
    "    model = RandomForestClassifier(\n",
    "             n_estimators=int(max(params[\"n_estimators\"], 0)),\n",
    "             max_depth=int(max(params[\"max_depth\"], 1)),\n",
    "             min_samples_split=int(max(params[\"min_samples_split\"], 2)), \n",
    "             n_jobs=-1, \n",
    "             random_state=42,   \n",
    "             class_weight=\"balanced\")\n",
    "\n",
    "    model.fit(X_train, y_train)\n",
    "    \n",
    "    return model"
   ]
  },
  {
   "cell_type": "code",
   "execution_count": 63,
   "metadata": {
    "collapsed": true,
    "jupyter": {
     "outputs_hidden": true,
     "source_hidden": true
    }
   },
   "outputs": [
    {
     "name": "stdout",
     "output_type": "stream",
     "text": [
      "|   iter    |  target   | max_depth | min_sa... | n_esti... |\n",
      "-------------------------------------------------------------\n",
      "| \u001b[0m 1       \u001b[0m | \u001b[0m nan     \u001b[0m | \u001b[0m 49.22   \u001b[0m | \u001b[0m 5.752   \u001b[0m | \u001b[0m 797.3   \u001b[0m |\n",
      "| \u001b[0m 2       \u001b[0m | \u001b[0m nan     \u001b[0m | \u001b[0m 113.9   \u001b[0m | \u001b[0m 7.141   \u001b[0m | \u001b[0m 224.9   \u001b[0m |\n",
      "| \u001b[0m 3       \u001b[0m | \u001b[0m nan     \u001b[0m | \u001b[0m 106.4   \u001b[0m | \u001b[0m 7.17    \u001b[0m | \u001b[0m 945.5   \u001b[0m |\n",
      "| \u001b[0m 4       \u001b[0m | \u001b[0m nan     \u001b[0m | \u001b[0m 49.83   \u001b[0m | \u001b[0m 5.813   \u001b[0m | \u001b[0m 983.0   \u001b[0m |\n",
      "| \u001b[0m 5       \u001b[0m | \u001b[0m nan     \u001b[0m | \u001b[0m 144.3   \u001b[0m | \u001b[0m 6.827   \u001b[0m | \u001b[0m 213.6   \u001b[0m |\n"
     ]
    },
    {
     "ename": "ValueError",
     "evalue": "Input contains NaN, infinity or a value too large for dtype('float64').",
     "output_type": "error",
     "traceback": [
      "\u001b[1;31m---------------------------------------------------------------------------\u001b[0m",
      "\u001b[1;31mStopIteration\u001b[0m                             Traceback (most recent call last)",
      "\u001b[1;32me:\\python3.8\\lib\\site-packages\\bayes_opt\\bayesian_optimization.py\u001b[0m in \u001b[0;36mmaximize\u001b[1;34m(self, init_points, n_iter, acq, kappa, kappa_decay, kappa_decay_delay, xi, **gp_params)\u001b[0m\n\u001b[0;32m    178\u001b[0m             \u001b[1;32mtry\u001b[0m\u001b[1;33m:\u001b[0m\u001b[1;33m\u001b[0m\u001b[1;33m\u001b[0m\u001b[0m\n\u001b[1;32m--> 179\u001b[1;33m                 \u001b[0mx_probe\u001b[0m \u001b[1;33m=\u001b[0m \u001b[0mnext\u001b[0m\u001b[1;33m(\u001b[0m\u001b[0mself\u001b[0m\u001b[1;33m.\u001b[0m\u001b[0m_queue\u001b[0m\u001b[1;33m)\u001b[0m\u001b[1;33m\u001b[0m\u001b[1;33m\u001b[0m\u001b[0m\n\u001b[0m\u001b[0;32m    180\u001b[0m             \u001b[1;32mexcept\u001b[0m \u001b[0mStopIteration\u001b[0m\u001b[1;33m:\u001b[0m\u001b[1;33m\u001b[0m\u001b[1;33m\u001b[0m\u001b[0m\n",
      "\u001b[1;32me:\\python3.8\\lib\\site-packages\\bayes_opt\\bayesian_optimization.py\u001b[0m in \u001b[0;36m__next__\u001b[1;34m(self)\u001b[0m\n\u001b[0;32m     24\u001b[0m         \u001b[1;32mif\u001b[0m \u001b[0mself\u001b[0m\u001b[1;33m.\u001b[0m\u001b[0mempty\u001b[0m\u001b[1;33m:\u001b[0m\u001b[1;33m\u001b[0m\u001b[1;33m\u001b[0m\u001b[0m\n\u001b[1;32m---> 25\u001b[1;33m             \u001b[1;32mraise\u001b[0m \u001b[0mStopIteration\u001b[0m\u001b[1;33m(\u001b[0m\u001b[1;34m\"Queue is empty, no more objects to retrieve.\"\u001b[0m\u001b[1;33m)\u001b[0m\u001b[1;33m\u001b[0m\u001b[1;33m\u001b[0m\u001b[0m\n\u001b[0m\u001b[0;32m     26\u001b[0m         \u001b[0mobj\u001b[0m \u001b[1;33m=\u001b[0m \u001b[0mself\u001b[0m\u001b[1;33m.\u001b[0m\u001b[0m_queue\u001b[0m\u001b[1;33m[\u001b[0m\u001b[1;36m0\u001b[0m\u001b[1;33m]\u001b[0m\u001b[1;33m\u001b[0m\u001b[1;33m\u001b[0m\u001b[0m\n",
      "\u001b[1;31mStopIteration\u001b[0m: Queue is empty, no more objects to retrieve.",
      "\nDuring handling of the above exception, another exception occurred:\n",
      "\u001b[1;31mValueError\u001b[0m                                Traceback (most recent call last)",
      "\u001b[1;32m<ipython-input-63-78a87ed59e98>\u001b[0m in \u001b[0;36m<module>\u001b[1;34m\u001b[0m\n\u001b[0;32m      2\u001b[0m \u001b[1;33m\u001b[0m\u001b[0m\n\u001b[0;32m      3\u001b[0m \u001b[1;31m#print(func())\u001b[0m\u001b[1;33m\u001b[0m\u001b[1;33m\u001b[0m\u001b[1;33m\u001b[0m\u001b[0m\n\u001b[1;32m----> 4\u001b[1;33m \u001b[0mtrain\u001b[0m\u001b[1;33m(\u001b[0m\u001b[0mX_train\u001b[0m\u001b[1;33m,\u001b[0m \u001b[0my_train\u001b[0m\u001b[1;33m,\u001b[0m \u001b[0mX_test\u001b[0m\u001b[1;33m,\u001b[0m \u001b[0my_test\u001b[0m\u001b[1;33m,\u001b[0m\u001b[0mfunc\u001b[0m\u001b[1;33m,\u001b[0m\u001b[0mparam\u001b[0m\u001b[1;33m)\u001b[0m\u001b[1;33m\u001b[0m\u001b[1;33m\u001b[0m\u001b[0m\n\u001b[0m",
      "\u001b[1;32m<ipython-input-55-955d0bfd84ae>\u001b[0m in \u001b[0;36mtrain\u001b[1;34m(X_train, y_train, X_test, y_test, function, parameters)\u001b[0m\n\u001b[0;32m      4\u001b[0m     \u001b[0mcv_splits\u001b[0m \u001b[1;33m=\u001b[0m \u001b[1;36m4\u001b[0m\u001b[1;33m\u001b[0m\u001b[1;33m\u001b[0m\u001b[0m\n\u001b[0;32m      5\u001b[0m \u001b[1;33m\u001b[0m\u001b[0m\n\u001b[1;32m----> 6\u001b[1;33m     \u001b[0mbest_solution\u001b[0m \u001b[1;33m=\u001b[0m \u001b[0mbayesian_optimization\u001b[0m\u001b[1;33m(\u001b[0m\u001b[0mdataset\u001b[0m\u001b[1;33m,\u001b[0m \u001b[0mfunction\u001b[0m\u001b[1;33m,\u001b[0m \u001b[0mparameters\u001b[0m\u001b[1;33m)\u001b[0m\u001b[1;33m\u001b[0m\u001b[1;33m\u001b[0m\u001b[0m\n\u001b[0m\u001b[0;32m      7\u001b[0m     \u001b[0mparams\u001b[0m \u001b[1;33m=\u001b[0m \u001b[0mbest_solution\u001b[0m\u001b[1;33m[\u001b[0m\u001b[1;34m\"params\"\u001b[0m\u001b[1;33m]\u001b[0m\u001b[1;33m\u001b[0m\u001b[1;33m\u001b[0m\u001b[0m\n\u001b[0;32m      8\u001b[0m \u001b[1;33m\u001b[0m\u001b[0m\n",
      "\u001b[1;32m<ipython-input-52-4ade1a8b342c>\u001b[0m in \u001b[0;36mbayesian_optimization\u001b[1;34m(dataset, function, parameters)\u001b[0m\n\u001b[0;32m      6\u001b[0m \u001b[1;33m\u001b[0m\u001b[0m\n\u001b[0;32m      7\u001b[0m     \u001b[0mBO\u001b[0m \u001b[1;33m=\u001b[0m \u001b[0mBayesianOptimization\u001b[0m\u001b[1;33m(\u001b[0m\u001b[0mfunction\u001b[0m\u001b[1;33m,\u001b[0m \u001b[0mparameters\u001b[0m\u001b[1;33m)\u001b[0m\u001b[1;33m\u001b[0m\u001b[1;33m\u001b[0m\u001b[0m\n\u001b[1;32m----> 8\u001b[1;33m     \u001b[0mBO\u001b[0m\u001b[1;33m.\u001b[0m\u001b[0mmaximize\u001b[0m\u001b[1;33m(\u001b[0m\u001b[0mn_iter\u001b[0m\u001b[1;33m=\u001b[0m\u001b[0mn_iterations\u001b[0m\u001b[1;33m,\u001b[0m \u001b[1;33m**\u001b[0m\u001b[0mgp_params\u001b[0m\u001b[1;33m)\u001b[0m\u001b[1;33m\u001b[0m\u001b[1;33m\u001b[0m\u001b[0m\n\u001b[0m\u001b[0;32m      9\u001b[0m \u001b[1;33m\u001b[0m\u001b[0m\n\u001b[0;32m     10\u001b[0m     \u001b[1;32mreturn\u001b[0m \u001b[0mBO\u001b[0m\u001b[1;33m.\u001b[0m\u001b[0mmax\u001b[0m\u001b[1;33m\u001b[0m\u001b[1;33m\u001b[0m\u001b[0m\n",
      "\u001b[1;32me:\\python3.8\\lib\\site-packages\\bayes_opt\\bayesian_optimization.py\u001b[0m in \u001b[0;36mmaximize\u001b[1;34m(self, init_points, n_iter, acq, kappa, kappa_decay, kappa_decay_delay, xi, **gp_params)\u001b[0m\n\u001b[0;32m    180\u001b[0m             \u001b[1;32mexcept\u001b[0m \u001b[0mStopIteration\u001b[0m\u001b[1;33m:\u001b[0m\u001b[1;33m\u001b[0m\u001b[1;33m\u001b[0m\u001b[0m\n\u001b[0;32m    181\u001b[0m                 \u001b[0mutil\u001b[0m\u001b[1;33m.\u001b[0m\u001b[0mupdate_params\u001b[0m\u001b[1;33m(\u001b[0m\u001b[1;33m)\u001b[0m\u001b[1;33m\u001b[0m\u001b[1;33m\u001b[0m\u001b[0m\n\u001b[1;32m--> 182\u001b[1;33m                 \u001b[0mx_probe\u001b[0m \u001b[1;33m=\u001b[0m \u001b[0mself\u001b[0m\u001b[1;33m.\u001b[0m\u001b[0msuggest\u001b[0m\u001b[1;33m(\u001b[0m\u001b[0mutil\u001b[0m\u001b[1;33m)\u001b[0m\u001b[1;33m\u001b[0m\u001b[1;33m\u001b[0m\u001b[0m\n\u001b[0m\u001b[0;32m    183\u001b[0m                 \u001b[0miteration\u001b[0m \u001b[1;33m+=\u001b[0m \u001b[1;36m1\u001b[0m\u001b[1;33m\u001b[0m\u001b[1;33m\u001b[0m\u001b[0m\n\u001b[0;32m    184\u001b[0m \u001b[1;33m\u001b[0m\u001b[0m\n",
      "\u001b[1;32me:\\python3.8\\lib\\site-packages\\bayes_opt\\bayesian_optimization.py\u001b[0m in \u001b[0;36msuggest\u001b[1;34m(self, utility_function)\u001b[0m\n\u001b[0;32m    126\u001b[0m         \u001b[1;32mwith\u001b[0m \u001b[0mwarnings\u001b[0m\u001b[1;33m.\u001b[0m\u001b[0mcatch_warnings\u001b[0m\u001b[1;33m(\u001b[0m\u001b[1;33m)\u001b[0m\u001b[1;33m:\u001b[0m\u001b[1;33m\u001b[0m\u001b[1;33m\u001b[0m\u001b[0m\n\u001b[0;32m    127\u001b[0m             \u001b[0mwarnings\u001b[0m\u001b[1;33m.\u001b[0m\u001b[0msimplefilter\u001b[0m\u001b[1;33m(\u001b[0m\u001b[1;34m\"ignore\"\u001b[0m\u001b[1;33m)\u001b[0m\u001b[1;33m\u001b[0m\u001b[1;33m\u001b[0m\u001b[0m\n\u001b[1;32m--> 128\u001b[1;33m             \u001b[0mself\u001b[0m\u001b[1;33m.\u001b[0m\u001b[0m_gp\u001b[0m\u001b[1;33m.\u001b[0m\u001b[0mfit\u001b[0m\u001b[1;33m(\u001b[0m\u001b[0mself\u001b[0m\u001b[1;33m.\u001b[0m\u001b[0m_space\u001b[0m\u001b[1;33m.\u001b[0m\u001b[0mparams\u001b[0m\u001b[1;33m,\u001b[0m \u001b[0mself\u001b[0m\u001b[1;33m.\u001b[0m\u001b[0m_space\u001b[0m\u001b[1;33m.\u001b[0m\u001b[0mtarget\u001b[0m\u001b[1;33m)\u001b[0m\u001b[1;33m\u001b[0m\u001b[1;33m\u001b[0m\u001b[0m\n\u001b[0m\u001b[0;32m    129\u001b[0m \u001b[1;33m\u001b[0m\u001b[0m\n\u001b[0;32m    130\u001b[0m         \u001b[1;31m# Finding argmax of the acquisition function.\u001b[0m\u001b[1;33m\u001b[0m\u001b[1;33m\u001b[0m\u001b[1;33m\u001b[0m\u001b[0m\n",
      "\u001b[1;32me:\\python3.8\\lib\\site-packages\\sklearn\\gaussian_process\\_gpr.py\u001b[0m in \u001b[0;36mfit\u001b[1;34m(self, X, y)\u001b[0m\n\u001b[0;32m    187\u001b[0m \u001b[1;33m\u001b[0m\u001b[0m\n\u001b[0;32m    188\u001b[0m         \u001b[1;32mif\u001b[0m \u001b[0mself\u001b[0m\u001b[1;33m.\u001b[0m\u001b[0mkernel_\u001b[0m\u001b[1;33m.\u001b[0m\u001b[0mrequires_vector_input\u001b[0m\u001b[1;33m:\u001b[0m\u001b[1;33m\u001b[0m\u001b[1;33m\u001b[0m\u001b[0m\n\u001b[1;32m--> 189\u001b[1;33m             X, y = self._validate_data(X, y, multi_output=True, y_numeric=True,\n\u001b[0m\u001b[0;32m    190\u001b[0m                                        ensure_2d=True, dtype=\"numeric\")\n\u001b[0;32m    191\u001b[0m         \u001b[1;32melse\u001b[0m\u001b[1;33m:\u001b[0m\u001b[1;33m\u001b[0m\u001b[1;33m\u001b[0m\u001b[0m\n",
      "\u001b[1;32me:\\python3.8\\lib\\site-packages\\sklearn\\base.py\u001b[0m in \u001b[0;36m_validate_data\u001b[1;34m(self, X, y, reset, validate_separately, **check_params)\u001b[0m\n\u001b[0;32m    430\u001b[0m                 \u001b[0my\u001b[0m \u001b[1;33m=\u001b[0m \u001b[0mcheck_array\u001b[0m\u001b[1;33m(\u001b[0m\u001b[0my\u001b[0m\u001b[1;33m,\u001b[0m \u001b[1;33m**\u001b[0m\u001b[0mcheck_y_params\u001b[0m\u001b[1;33m)\u001b[0m\u001b[1;33m\u001b[0m\u001b[1;33m\u001b[0m\u001b[0m\n\u001b[0;32m    431\u001b[0m             \u001b[1;32melse\u001b[0m\u001b[1;33m:\u001b[0m\u001b[1;33m\u001b[0m\u001b[1;33m\u001b[0m\u001b[0m\n\u001b[1;32m--> 432\u001b[1;33m                 \u001b[0mX\u001b[0m\u001b[1;33m,\u001b[0m \u001b[0my\u001b[0m \u001b[1;33m=\u001b[0m \u001b[0mcheck_X_y\u001b[0m\u001b[1;33m(\u001b[0m\u001b[0mX\u001b[0m\u001b[1;33m,\u001b[0m \u001b[0my\u001b[0m\u001b[1;33m,\u001b[0m \u001b[1;33m**\u001b[0m\u001b[0mcheck_params\u001b[0m\u001b[1;33m)\u001b[0m\u001b[1;33m\u001b[0m\u001b[1;33m\u001b[0m\u001b[0m\n\u001b[0m\u001b[0;32m    433\u001b[0m             \u001b[0mout\u001b[0m \u001b[1;33m=\u001b[0m \u001b[0mX\u001b[0m\u001b[1;33m,\u001b[0m \u001b[0my\u001b[0m\u001b[1;33m\u001b[0m\u001b[1;33m\u001b[0m\u001b[0m\n\u001b[0;32m    434\u001b[0m \u001b[1;33m\u001b[0m\u001b[0m\n",
      "\u001b[1;32me:\\python3.8\\lib\\site-packages\\sklearn\\utils\\validation.py\u001b[0m in \u001b[0;36minner_f\u001b[1;34m(*args, **kwargs)\u001b[0m\n\u001b[0;32m     70\u001b[0m                           FutureWarning)\n\u001b[0;32m     71\u001b[0m         \u001b[0mkwargs\u001b[0m\u001b[1;33m.\u001b[0m\u001b[0mupdate\u001b[0m\u001b[1;33m(\u001b[0m\u001b[1;33m{\u001b[0m\u001b[0mk\u001b[0m\u001b[1;33m:\u001b[0m \u001b[0marg\u001b[0m \u001b[1;32mfor\u001b[0m \u001b[0mk\u001b[0m\u001b[1;33m,\u001b[0m \u001b[0marg\u001b[0m \u001b[1;32min\u001b[0m \u001b[0mzip\u001b[0m\u001b[1;33m(\u001b[0m\u001b[0msig\u001b[0m\u001b[1;33m.\u001b[0m\u001b[0mparameters\u001b[0m\u001b[1;33m,\u001b[0m \u001b[0margs\u001b[0m\u001b[1;33m)\u001b[0m\u001b[1;33m}\u001b[0m\u001b[1;33m)\u001b[0m\u001b[1;33m\u001b[0m\u001b[1;33m\u001b[0m\u001b[0m\n\u001b[1;32m---> 72\u001b[1;33m         \u001b[1;32mreturn\u001b[0m \u001b[0mf\u001b[0m\u001b[1;33m(\u001b[0m\u001b[1;33m**\u001b[0m\u001b[0mkwargs\u001b[0m\u001b[1;33m)\u001b[0m\u001b[1;33m\u001b[0m\u001b[1;33m\u001b[0m\u001b[0m\n\u001b[0m\u001b[0;32m     73\u001b[0m     \u001b[1;32mreturn\u001b[0m \u001b[0minner_f\u001b[0m\u001b[1;33m\u001b[0m\u001b[1;33m\u001b[0m\u001b[0m\n\u001b[0;32m     74\u001b[0m \u001b[1;33m\u001b[0m\u001b[0m\n",
      "\u001b[1;32me:\\python3.8\\lib\\site-packages\\sklearn\\utils\\validation.py\u001b[0m in \u001b[0;36mcheck_X_y\u001b[1;34m(X, y, accept_sparse, accept_large_sparse, dtype, order, copy, force_all_finite, ensure_2d, allow_nd, multi_output, ensure_min_samples, ensure_min_features, y_numeric, estimator)\u001b[0m\n\u001b[0;32m    802\u001b[0m                     estimator=estimator)\n\u001b[0;32m    803\u001b[0m     \u001b[1;32mif\u001b[0m \u001b[0mmulti_output\u001b[0m\u001b[1;33m:\u001b[0m\u001b[1;33m\u001b[0m\u001b[1;33m\u001b[0m\u001b[0m\n\u001b[1;32m--> 804\u001b[1;33m         y = check_array(y, accept_sparse='csr', force_all_finite=True,\n\u001b[0m\u001b[0;32m    805\u001b[0m                         ensure_2d=False, dtype=None)\n\u001b[0;32m    806\u001b[0m     \u001b[1;32melse\u001b[0m\u001b[1;33m:\u001b[0m\u001b[1;33m\u001b[0m\u001b[1;33m\u001b[0m\u001b[0m\n",
      "\u001b[1;32me:\\python3.8\\lib\\site-packages\\sklearn\\utils\\validation.py\u001b[0m in \u001b[0;36minner_f\u001b[1;34m(*args, **kwargs)\u001b[0m\n\u001b[0;32m     70\u001b[0m                           FutureWarning)\n\u001b[0;32m     71\u001b[0m         \u001b[0mkwargs\u001b[0m\u001b[1;33m.\u001b[0m\u001b[0mupdate\u001b[0m\u001b[1;33m(\u001b[0m\u001b[1;33m{\u001b[0m\u001b[0mk\u001b[0m\u001b[1;33m:\u001b[0m \u001b[0marg\u001b[0m \u001b[1;32mfor\u001b[0m \u001b[0mk\u001b[0m\u001b[1;33m,\u001b[0m \u001b[0marg\u001b[0m \u001b[1;32min\u001b[0m \u001b[0mzip\u001b[0m\u001b[1;33m(\u001b[0m\u001b[0msig\u001b[0m\u001b[1;33m.\u001b[0m\u001b[0mparameters\u001b[0m\u001b[1;33m,\u001b[0m \u001b[0margs\u001b[0m\u001b[1;33m)\u001b[0m\u001b[1;33m}\u001b[0m\u001b[1;33m)\u001b[0m\u001b[1;33m\u001b[0m\u001b[1;33m\u001b[0m\u001b[0m\n\u001b[1;32m---> 72\u001b[1;33m         \u001b[1;32mreturn\u001b[0m \u001b[0mf\u001b[0m\u001b[1;33m(\u001b[0m\u001b[1;33m**\u001b[0m\u001b[0mkwargs\u001b[0m\u001b[1;33m)\u001b[0m\u001b[1;33m\u001b[0m\u001b[1;33m\u001b[0m\u001b[0m\n\u001b[0m\u001b[0;32m     73\u001b[0m     \u001b[1;32mreturn\u001b[0m \u001b[0minner_f\u001b[0m\u001b[1;33m\u001b[0m\u001b[1;33m\u001b[0m\u001b[0m\n\u001b[0;32m     74\u001b[0m \u001b[1;33m\u001b[0m\u001b[0m\n",
      "\u001b[1;32me:\\python3.8\\lib\\site-packages\\sklearn\\utils\\validation.py\u001b[0m in \u001b[0;36mcheck_array\u001b[1;34m(array, accept_sparse, accept_large_sparse, dtype, order, copy, force_all_finite, ensure_2d, allow_nd, ensure_min_samples, ensure_min_features, estimator)\u001b[0m\n\u001b[0;32m    642\u001b[0m \u001b[1;33m\u001b[0m\u001b[0m\n\u001b[0;32m    643\u001b[0m         \u001b[1;32mif\u001b[0m \u001b[0mforce_all_finite\u001b[0m\u001b[1;33m:\u001b[0m\u001b[1;33m\u001b[0m\u001b[1;33m\u001b[0m\u001b[0m\n\u001b[1;32m--> 644\u001b[1;33m             _assert_all_finite(array,\n\u001b[0m\u001b[0;32m    645\u001b[0m                                allow_nan=force_all_finite == 'allow-nan')\n\u001b[0;32m    646\u001b[0m \u001b[1;33m\u001b[0m\u001b[0m\n",
      "\u001b[1;32me:\\python3.8\\lib\\site-packages\\sklearn\\utils\\validation.py\u001b[0m in \u001b[0;36m_assert_all_finite\u001b[1;34m(X, allow_nan, msg_dtype)\u001b[0m\n\u001b[0;32m     94\u001b[0m                 not allow_nan and not np.isfinite(X).all()):\n\u001b[0;32m     95\u001b[0m             \u001b[0mtype_err\u001b[0m \u001b[1;33m=\u001b[0m \u001b[1;34m'infinity'\u001b[0m \u001b[1;32mif\u001b[0m \u001b[0mallow_nan\u001b[0m \u001b[1;32melse\u001b[0m \u001b[1;34m'NaN, infinity'\u001b[0m\u001b[1;33m\u001b[0m\u001b[1;33m\u001b[0m\u001b[0m\n\u001b[1;32m---> 96\u001b[1;33m             raise ValueError(\n\u001b[0m\u001b[0;32m     97\u001b[0m                     \u001b[0mmsg_err\u001b[0m\u001b[1;33m.\u001b[0m\u001b[0mformat\u001b[0m\u001b[1;33m\u001b[0m\u001b[1;33m\u001b[0m\u001b[0m\n\u001b[0;32m     98\u001b[0m                     (type_err,\n",
      "\u001b[1;31mValueError\u001b[0m: Input contains NaN, infinity or a value too large for dtype('float64')."
     ]
    }
   ],
   "source": [
    "func,param = rfc_optimization(5)\n",
    "\n",
    "#print(func())\n",
    "train(X_train, y_train, X_test, y_test,func,param)"
   ]
  },
  {
   "cell_type": "code",
   "execution_count": null,
   "metadata": {},
   "outputs": [],
   "source": []
  },
  {
   "cell_type": "markdown",
   "metadata": {},
   "source": [
    "<h2>Base light GBM Classifier with default parameter : accuracy : 91.5%, Overall time taken : 7.8 sec<\\h2>"
   ]
  },
  {
   "cell_type": "code",
   "execution_count": 67,
   "metadata": {},
   "outputs": [
    {
     "name": "stdout",
     "output_type": "stream",
     "text": [
      "Parameters currently in use:\n",
      "\n",
      "{'boosting_type': 'gbdt',\n",
      " 'class_weight': None,\n",
      " 'colsample_bytree': 1.0,\n",
      " 'importance_type': 'split',\n",
      " 'learning_rate': 0.1,\n",
      " 'max_depth': -1,\n",
      " 'min_child_samples': 20,\n",
      " 'min_child_weight': 0.001,\n",
      " 'min_split_gain': 0.0,\n",
      " 'n_estimators': 100,\n",
      " 'n_jobs': -1,\n",
      " 'num_leaves': 31,\n",
      " 'objective': None,\n",
      " 'random_state': None,\n",
      " 'reg_alpha': 0.0,\n",
      " 'reg_lambda': 0.0,\n",
      " 'silent': True,\n",
      " 'subsample': 1.0,\n",
      " 'subsample_for_bin': 200000,\n",
      " 'subsample_freq': 0}\n",
      "Accuracy Score : 0.9156531085591446\n",
      "Overall time taken :  7.811446905136108\n"
     ]
    }
   ],
   "source": [
    "import lightgbm as lgb\n",
    "\n",
    "gbm_clf = lgb.LGBMClassifier()\n",
    "# Look at parameters used by our current forest\n",
    "print('Parameters currently in use:\\n')\n",
    "pprint(gbm_clf.get_params())\n",
    "\n",
    "lgb_clf = Pipeline(steps=[('preprocessor', preprocessor),\n",
    "                      ('classifier', lgb.LGBMClassifier())])\n",
    "\n",
    "start = time.time()\n",
    "\n",
    "# Fit the lgb model\n",
    "lgb_clf.fit(X_train, y_train)\n",
    "\n",
    "y_pred_lgb = lgb_clf.predict(X_test)\n",
    "\n",
    "print('Accuracy Score : ' + str(accuracy_score(y_test,y_pred_rf)))\n",
    "\n",
    "end = time.time()\n",
    "\n",
    "print(\"Overall time taken : \", end-start)"
   ]
  },
  {
   "cell_type": "markdown",
   "metadata": {},
   "source": [
    "<h2> Importing libraries and setting up functions fo Opmtimising LGB classifier<\\h2>"
   ]
  },
  {
   "cell_type": "code",
   "execution_count": 37,
   "metadata": {},
   "outputs": [],
   "source": [
    "from sklearn.model_selection import cross_val_score \n",
    "from hyperopt import tpe, hp, fmin, STATUS_OK,Trials\n",
    "from hyperopt.pyll.base import scope"
   ]
  },
  {
   "cell_type": "code",
   "execution_count": 90,
   "metadata": {},
   "outputs": [],
   "source": [
    " def objective_function(params):\n",
    "        clf = Pipeline(steps=[('preprocessor', preprocessor),\n",
    "                      ('classifier', lgb.LGBMClassifier())])\n",
    "        #clf = lgb.LGBMClassifier(**params)\n",
    "        score = cross_val_score(clf, X_train, y_train, cv=5).mean()\n",
    "        return {'loss': -score, 'status': STATUS_OK}"
   ]
  },
  {
   "cell_type": "code",
   "execution_count": 91,
   "metadata": {},
   "outputs": [],
   "source": [
    "# Define the search space\n",
    "space = {\n",
    "    'class_weight': hp.choice('class_weight', [None, 'balanced']),\n",
    "    'boosting_type': hp.choice('boosting_type', \n",
    "                               [{'boosting_type': 'gbdt', \n",
    "                                    'subsample': hp.uniform('gdbt_subsample', 0.5, 1)}, \n",
    "                                 {'boosting_type': 'dart', \n",
    "                                     'subsample': hp.uniform('dart_subsample', 0.5, 1)},\n",
    "                                 {'boosting_type': 'goss'}]),\n",
    "    'num_leaves': hp.quniform('num_leaves', 30, 150, 1),\n",
    "    'learning_rate': hp.loguniform('learning_rate', np.log(0.01), np.log(1)),\n",
    "    'subsample_for_bin': hp.quniform('subsample_for_bin', 20000, 300000, 20000),\n",
    "    'min_child_samples': hp.quniform('min_child_samples', 20, 500, 5),\n",
    "    'reg_alpha': hp.uniform('reg_alpha', 0.0, 1.0),\n",
    "    'reg_lambda': hp.uniform('reg_lambda', 0.0, 1.0),\n",
    "    'colsample_bytree': hp.uniform('colsample_by_tree', 0.6, 1.0)\n",
    "}"
   ]
  },
  {
   "cell_type": "code",
   "execution_count": 93,
   "metadata": {},
   "outputs": [],
   "source": [
    "import warnings\n",
    "warnings.filterwarnings(\"ignore\")"
   ]
  },
  {
   "cell_type": "markdown",
   "metadata": {},
   "source": [
    "<h2>light GBM Classifier with bayesian search and given parameter : accuracy : 90.3%, Overall time taken : 14.5 hrs<\\h2>"
   ]
  },
  {
   "cell_type": "code",
   "execution_count": 97,
   "metadata": {},
   "outputs": [
    {
     "name": "stdout",
     "output_type": "stream",
     "text": [
      "100%|█| 500/500 [14:19:03<00:00, 103.09s/trial, best loss: -0.8866857391222108]\n",
      "Best: {'boosting_type': 1, 'class_weight': 0, 'colsample_by_tree': 0.9699260257148064, 'dart_subsample': 0.6267208845740517, 'learning_rate': 0.19084772191022098, 'min_child_samples': 35.0, 'num_leaves': 98.0, 'reg_alpha': 0.34030667965715844, 'reg_lambda': 0.5695125674609167, 'subsample_for_bin': 200000.0}\n",
      "Training time taken :  51543.68098568916\n"
     ]
    }
   ],
   "source": [
    "MAX_EVALS = 500\n",
    "\n",
    "trials = Trials()\n",
    "start = time.time()\n",
    "\n",
    "# Optimize\n",
    "best = fmin(objective_function,space, algo = tpe.suggest, \n",
    "            max_evals = MAX_EVALS,trials = trials)\n",
    "\n",
    "print(\"Best: {}\".format(best))\n",
    "\n",
    "end = time.time()\n",
    "\n",
    "print(\"Training time taken : \", end-start)\n"
   ]
  },
  {
   "cell_type": "markdown",
   "metadata": {},
   "source": [
    "<h2>Optimised light GBM Classifier with best parameter: time traken = 23.1 sec <\\h2>"
   ]
  },
  {
   "cell_type": "code",
   "execution_count": 173,
   "metadata": {},
   "outputs": [
    {
     "name": "stdout",
     "output_type": "stream",
     "text": [
      "Overall time taken :  23.17132544517517\n"
     ]
    }
   ],
   "source": [
    "best_model =lgb.LGBMClassifier(boosting_type= 'dart', \n",
    "              colsample_bytree= 0.9699260257148064, \n",
    "              subsample= 0.6267208845740517, \n",
    "              learning_rate= 0.19084772191022098, \n",
    "              min_child_samples= 35, \n",
    "              num_leaves= 98, \n",
    "              reg_alpha= 0.34030667965715844, \n",
    "              reg_lambda= 0.5695125674609167, \n",
    "              subsample_for_bin= 200000)\n",
    "\n",
    "clf = Pipeline(steps=[('preprocessor', preprocessor),\n",
    "                      ('classifier', best_model)])\n",
    "start=time.time()\n",
    "\n",
    "clf.fit(X_train,y_train)\n",
    "\n",
    "y_pred_lgb=clf.predict(X_test)\n",
    "\n",
    "end = time.time()\n",
    "\n",
    "print(\"Overall time taken : \", end-start)\n"
   ]
  },
  {
   "cell_type": "markdown",
   "metadata": {},
   "source": [
    "<h2>Optimised light GBM Classifier accuracy score and cunfusion matrix <\\h2>"
   ]
  },
  {
   "cell_type": "code",
   "execution_count": 151,
   "metadata": {},
   "outputs": [
    {
     "name": "stdout",
     "output_type": "stream",
     "text": [
      "Prediction time taken :  1.4700839519500732\n",
      "best LGB Classifier from grid search: 0.904\n",
      "Accuracy Score : 0.9035186966114159\n",
      "Accuracy Score : 0.9035186966114159\n",
      "Precision Score : 0.9211976703279522\n",
      "Recall Score : 0.9441150548834228\n",
      "F1 Score : 0.9325155801760807\n",
      "Confusion Matrix : \n",
      "[[ 8376  2016]\n",
      " [ 1395 23567]]\n"
     ]
    }
   ],
   "source": [
    "start=time.time()\n",
    "\n",
    "y_pred_lgb=clf.predict(X_test)\n",
    "\n",
    "end = time.time()\n",
    "\n",
    "print(\"Prediction time taken : \", end-start)\n",
    "\n",
    "print((\"Best LGB Classifier from bayesian search with given parameteer: %.3f\" % clf.score(X_test, y_test)))\n",
    "\n",
    "print('Accuracy Score : ' + str(accuracy_score(y_test,y_pred_lgb)))\n",
    "print('Accuracy Score : ' + str(accuracy_score(y_test,y_pred_lgb)))\n",
    "print('Precision Score : ' + str(precision_score(y_test,y_pred_lgb,pos_label='white')))\n",
    "print('Recall Score : ' + str(recall_score(y_test,y_pred_lgb,pos_label='white')))\n",
    "print('F1 Score : ' + str(f1_score(y_test,y_pred_lgb,pos_label='white')))\n",
    "\n",
    "#Dummy Classifier Confusion matrix\n",
    "from sklearn.metrics import confusion_matrix\n",
    "print('Confusion Matrix : \\n' + str(confusion_matrix(y_test,y_pred_lgb)))"
   ]
  },
  {
   "cell_type": "markdown",
   "metadata": {},
   "source": [
    "<h1>Conclusion <\\h1>"
   ]
  },
  {
   "cell_type": "markdown",
   "metadata": {},
   "source": [
    "<h3> Best model has been accuried using the random searh on random forest clasifer with 92% accuracy with below parameters<\\h3>"
   ]
  },
  {
   "cell_type": "code",
   "execution_count": 176,
   "metadata": {},
   "outputs": [
    {
     "data": {
      "text/html": [
       "<div>\n",
       "<style scoped>\n",
       "    .dataframe tbody tr th:only-of-type {\n",
       "        vertical-align: middle;\n",
       "    }\n",
       "\n",
       "    .dataframe tbody tr th {\n",
       "        vertical-align: top;\n",
       "    }\n",
       "\n",
       "    .dataframe thead th {\n",
       "        text-align: right;\n",
       "    }\n",
       "</style>\n",
       "<table border=\"1\" class=\"dataframe\">\n",
       "  <thead>\n",
       "    <tr style=\"text-align: right;\">\n",
       "      <th></th>\n",
       "      <th>preprocessor__num__imputer__strategy</th>\n",
       "      <th>classifier__min_samples_split</th>\n",
       "      <th>classifier__min_samples_leaf</th>\n",
       "      <th>classifier__max_features</th>\n",
       "      <th>classifier__max_depth</th>\n",
       "      <th>classifier__bootstrap</th>\n",
       "    </tr>\n",
       "  </thead>\n",
       "  <tbody>\n",
       "    <tr>\n",
       "      <th>0</th>\n",
       "      <td>median</td>\n",
       "      <td>5</td>\n",
       "      <td>1</td>\n",
       "      <td>sqrt</td>\n",
       "      <td>None</td>\n",
       "      <td>False</td>\n",
       "    </tr>\n",
       "  </tbody>\n",
       "</table>\n",
       "</div>"
      ],
      "text/plain": [
       "  preprocessor__num__imputer__strategy  classifier__min_samples_split  \\\n",
       "0                               median                              5   \n",
       "\n",
       "   classifier__min_samples_leaf classifier__max_features  \\\n",
       "0                             1                     sqrt   \n",
       "\n",
       "  classifier__max_depth  classifier__bootstrap  \n",
       "0                  None                  False  "
      ]
     },
     "execution_count": 176,
     "metadata": {},
     "output_type": "execute_result"
    }
   ],
   "source": [
    "pd.DataFrame([rf_rs_clf.best_params_])"
   ]
  },
  {
   "cell_type": "code",
   "execution_count": 38,
   "metadata": {},
   "outputs": [
    {
     "name": "stderr",
     "output_type": "stream",
     "text": [
      "ERROR: Could not find a version that satisfies the requirement bayes_opt\n",
      "ERROR: No matching distribution found for bayes_opt\n",
      "WARNING: You are using pip version 20.3.1; however, version 20.3.3 is available.\n",
      "You should consider upgrading via the 'e:\\python3.8\\python.exe -m pip install --upgrade pip' command.\n"
     ]
    }
   ],
   "source": [
    "!pip install bayes_opt"
   ]
  }
 ],
 "metadata": {
  "kernelspec": {
   "display_name": "Python 3",
   "language": "python",
   "name": "python3"
  },
  "language_info": {
   "codemirror_mode": {
    "name": "ipython",
    "version": 3
   },
   "file_extension": ".py",
   "mimetype": "text/x-python",
   "name": "python",
   "nbconvert_exporter": "python",
   "pygments_lexer": "ipython3",
   "version": "3.8.6"
  }
 },
 "nbformat": 4,
 "nbformat_minor": 4
}
